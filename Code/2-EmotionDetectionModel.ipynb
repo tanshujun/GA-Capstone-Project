{
  "nbformat": 4,
  "nbformat_minor": 0,
  "metadata": {
    "colab": {
      "name": "HyperasEmotion_BatchNormalisation_testCW.ipynb",
      "provenance": [],
      "collapsed_sections": [],
      "machine_shape": "hm"
    },
    "kernelspec": {
      "name": "python3",
      "display_name": "Python 3"
    },
    "accelerator": "GPU"
  },
  "cells": [
    {
      "cell_type": "code",
      "metadata": {
        "id": "0IQW_r540Et0",
        "colab_type": "code",
        "colab": {
          "base_uri": "https://localhost:8080/",
          "height": 81
        },
        "outputId": "66fc9cc2-1b5e-4b9b-99fb-b5e396322581"
      },
      "source": [
        "#Import libraries\n",
        "import numpy as np\n",
        "np.random.seed(42)\n",
        "import pandas as pd\n",
        "from sklearn.model_selection import train_test_split\n",
        "from keras.models import Sequential, load_model\n",
        "from keras.layers import Dense, Dropout, Activation, Flatten\n",
        "from keras.layers import Conv2D, MaxPooling2D, BatchNormalization\n",
        "from keras.utils import to_categorical, np_utils\n",
        "from keras.callbacks import EarlyStopping, ModelCheckpoint\n",
        "from keras.wrappers.scikit_learn import KerasClassifier\n",
        "from keras import optimizers\n",
        "from sklearn.utils.class_weight import compute_class_weight\n",
        "import matplotlib.pyplot as plt\n",
        "%matplotlib inline"
      ],
      "execution_count": 1,
      "outputs": [
        {
          "output_type": "stream",
          "text": [
            "Using TensorFlow backend.\n"
          ],
          "name": "stderr"
        },
        {
          "output_type": "display_data",
          "data": {
            "text/html": [
              "<p style=\"color: red;\">\n",
              "The default version of TensorFlow in Colab will soon switch to TensorFlow 2.x.<br>\n",
              "We recommend you <a href=\"https://www.tensorflow.org/guide/migrate\" target=\"_blank\">upgrade</a> now \n",
              "or ensure your notebook will continue to use TensorFlow 1.x via the <code>%tensorflow_version 1.x</code> magic:\n",
              "<a href=\"https://colab.research.google.com/notebooks/tensorflow_version.ipynb\" target=\"_blank\">more info</a>.</p>\n"
            ],
            "text/plain": [
              "<IPython.core.display.HTML object>"
            ]
          },
          "metadata": {
            "tags": []
          }
        }
      ]
    },
    {
      "cell_type": "code",
      "metadata": {
        "id": "SeUbW0fv0m0L",
        "colab_type": "code",
        "outputId": "6836c152-f239-4d5b-e1a9-29396c0ce266",
        "colab": {
          "base_uri": "https://localhost:8080/",
          "height": 973
        }
      },
      "source": [
        "#Use hyperas for CNN hyperparameters optimisation\n",
        "!pip install hyperas"
      ],
      "execution_count": 0,
      "outputs": [
        {
          "output_type": "stream",
          "text": [
            "Collecting hyperas\n",
            "  Downloading https://files.pythonhosted.org/packages/04/34/87ad6ffb42df9c1fa9c4c906f65813d42ad70d68c66af4ffff048c228cd4/hyperas-0.4.1-py3-none-any.whl\n",
            "Requirement already satisfied: nbformat in /usr/local/lib/python3.6/dist-packages (from hyperas) (5.0.3)\n",
            "Requirement already satisfied: jupyter in /usr/local/lib/python3.6/dist-packages (from hyperas) (1.0.0)\n",
            "Requirement already satisfied: keras in /usr/local/lib/python3.6/dist-packages (from hyperas) (2.2.5)\n",
            "Requirement already satisfied: hyperopt in /usr/local/lib/python3.6/dist-packages (from hyperas) (0.1.2)\n",
            "Requirement already satisfied: nbconvert in /usr/local/lib/python3.6/dist-packages (from hyperas) (5.6.1)\n",
            "Requirement already satisfied: entrypoints in /usr/local/lib/python3.6/dist-packages (from hyperas) (0.3)\n",
            "Requirement already satisfied: ipython-genutils in /usr/local/lib/python3.6/dist-packages (from nbformat->hyperas) (0.2.0)\n",
            "Requirement already satisfied: jsonschema!=2.5.0,>=2.4 in /usr/local/lib/python3.6/dist-packages (from nbformat->hyperas) (2.6.0)\n",
            "Requirement already satisfied: traitlets>=4.1 in /usr/local/lib/python3.6/dist-packages (from nbformat->hyperas) (4.3.3)\n",
            "Requirement already satisfied: jupyter-core in /usr/local/lib/python3.6/dist-packages (from nbformat->hyperas) (4.6.1)\n",
            "Requirement already satisfied: ipykernel in /usr/local/lib/python3.6/dist-packages (from jupyter->hyperas) (4.6.1)\n",
            "Requirement already satisfied: notebook in /usr/local/lib/python3.6/dist-packages (from jupyter->hyperas) (5.2.2)\n",
            "Requirement already satisfied: ipywidgets in /usr/local/lib/python3.6/dist-packages (from jupyter->hyperas) (7.5.1)\n",
            "Requirement already satisfied: jupyter-console in /usr/local/lib/python3.6/dist-packages (from jupyter->hyperas) (5.2.0)\n",
            "Requirement already satisfied: qtconsole in /usr/local/lib/python3.6/dist-packages (from jupyter->hyperas) (4.6.0)\n",
            "Requirement already satisfied: pyyaml in /usr/local/lib/python3.6/dist-packages (from keras->hyperas) (3.13)\n",
            "Requirement already satisfied: keras-applications>=1.0.8 in /usr/local/lib/python3.6/dist-packages (from keras->hyperas) (1.0.8)\n",
            "Requirement already satisfied: keras-preprocessing>=1.1.0 in /usr/local/lib/python3.6/dist-packages (from keras->hyperas) (1.1.0)\n",
            "Requirement already satisfied: h5py in /usr/local/lib/python3.6/dist-packages (from keras->hyperas) (2.8.0)\n",
            "Requirement already satisfied: scipy>=0.14 in /usr/local/lib/python3.6/dist-packages (from keras->hyperas) (1.4.1)\n",
            "Requirement already satisfied: six>=1.9.0 in /usr/local/lib/python3.6/dist-packages (from keras->hyperas) (1.12.0)\n",
            "Requirement already satisfied: numpy>=1.9.1 in /usr/local/lib/python3.6/dist-packages (from keras->hyperas) (1.17.5)\n",
            "Requirement already satisfied: networkx in /usr/local/lib/python3.6/dist-packages (from hyperopt->hyperas) (2.4)\n",
            "Requirement already satisfied: pymongo in /usr/local/lib/python3.6/dist-packages (from hyperopt->hyperas) (3.10.0)\n",
            "Requirement already satisfied: future in /usr/local/lib/python3.6/dist-packages (from hyperopt->hyperas) (0.16.0)\n",
            "Requirement already satisfied: tqdm in /usr/local/lib/python3.6/dist-packages (from hyperopt->hyperas) (4.28.1)\n",
            "Requirement already satisfied: jinja2>=2.4 in /usr/local/lib/python3.6/dist-packages (from nbconvert->hyperas) (2.10.3)\n",
            "Requirement already satisfied: pygments in /usr/local/lib/python3.6/dist-packages (from nbconvert->hyperas) (2.1.3)\n",
            "Requirement already satisfied: pandocfilters>=1.4.1 in /usr/local/lib/python3.6/dist-packages (from nbconvert->hyperas) (1.4.2)\n",
            "Requirement already satisfied: testpath in /usr/local/lib/python3.6/dist-packages (from nbconvert->hyperas) (0.4.4)\n",
            "Requirement already satisfied: bleach in /usr/local/lib/python3.6/dist-packages (from nbconvert->hyperas) (3.1.0)\n",
            "Requirement already satisfied: defusedxml in /usr/local/lib/python3.6/dist-packages (from nbconvert->hyperas) (0.6.0)\n",
            "Requirement already satisfied: mistune<2,>=0.8.1 in /usr/local/lib/python3.6/dist-packages (from nbconvert->hyperas) (0.8.4)\n",
            "Requirement already satisfied: decorator in /usr/local/lib/python3.6/dist-packages (from traitlets>=4.1->nbformat->hyperas) (4.4.1)\n",
            "Requirement already satisfied: ipython>=4.0.0 in /usr/local/lib/python3.6/dist-packages (from ipykernel->jupyter->hyperas) (5.5.0)\n",
            "Requirement already satisfied: jupyter-client in /usr/local/lib/python3.6/dist-packages (from ipykernel->jupyter->hyperas) (5.3.4)\n",
            "Requirement already satisfied: tornado>=4.0 in /usr/local/lib/python3.6/dist-packages (from ipykernel->jupyter->hyperas) (4.5.3)\n",
            "Requirement already satisfied: terminado>=0.3.3; sys_platform != \"win32\" in /usr/local/lib/python3.6/dist-packages (from notebook->jupyter->hyperas) (0.8.3)\n",
            "Requirement already satisfied: widgetsnbextension~=3.5.0 in /usr/local/lib/python3.6/dist-packages (from ipywidgets->jupyter->hyperas) (3.5.1)\n",
            "Requirement already satisfied: prompt-toolkit<2.0.0,>=1.0.0 in /usr/local/lib/python3.6/dist-packages (from jupyter-console->jupyter->hyperas) (1.0.18)\n",
            "Requirement already satisfied: MarkupSafe>=0.23 in /usr/local/lib/python3.6/dist-packages (from jinja2>=2.4->nbconvert->hyperas) (1.1.1)\n",
            "Requirement already satisfied: webencodings in /usr/local/lib/python3.6/dist-packages (from bleach->nbconvert->hyperas) (0.5.1)\n",
            "Requirement already satisfied: pickleshare in /usr/local/lib/python3.6/dist-packages (from ipython>=4.0.0->ipykernel->jupyter->hyperas) (0.7.5)\n",
            "Requirement already satisfied: simplegeneric>0.8 in /usr/local/lib/python3.6/dist-packages (from ipython>=4.0.0->ipykernel->jupyter->hyperas) (0.8.1)\n",
            "Requirement already satisfied: setuptools>=18.5 in /usr/local/lib/python3.6/dist-packages (from ipython>=4.0.0->ipykernel->jupyter->hyperas) (42.0.2)\n",
            "Requirement already satisfied: pexpect; sys_platform != \"win32\" in /usr/local/lib/python3.6/dist-packages (from ipython>=4.0.0->ipykernel->jupyter->hyperas) (4.7.0)\n",
            "Requirement already satisfied: python-dateutil>=2.1 in /usr/local/lib/python3.6/dist-packages (from jupyter-client->ipykernel->jupyter->hyperas) (2.6.1)\n",
            "Requirement already satisfied: pyzmq>=13 in /usr/local/lib/python3.6/dist-packages (from jupyter-client->ipykernel->jupyter->hyperas) (17.0.0)\n",
            "Requirement already satisfied: ptyprocess; os_name != \"nt\" in /usr/local/lib/python3.6/dist-packages (from terminado>=0.3.3; sys_platform != \"win32\"->notebook->jupyter->hyperas) (0.6.0)\n",
            "Requirement already satisfied: wcwidth in /usr/local/lib/python3.6/dist-packages (from prompt-toolkit<2.0.0,>=1.0.0->jupyter-console->jupyter->hyperas) (0.1.8)\n",
            "Installing collected packages: hyperas\n",
            "Successfully installed hyperas-0.4.1\n"
          ],
          "name": "stdout"
        }
      ]
    },
    {
      "cell_type": "code",
      "metadata": {
        "id": "r_TaDmT80oAR",
        "colab_type": "code",
        "colab": {}
      },
      "source": [
        "from hyperas import optim\n",
        "from hyperopt import Trials, STATUS_OK, tpe\n",
        "from hyperas.distributions import choice, uniform"
      ],
      "execution_count": 0,
      "outputs": []
    },
    {
      "cell_type": "code",
      "metadata": {
        "id": "z0YSVpiH0oDP",
        "colab_type": "code",
        "outputId": "943d384d-49c0-4128-fb27-7e4b7ee1daed",
        "colab": {
          "base_uri": "https://localhost:8080/",
          "height": 124
        }
      },
      "source": [
        "#Mount to google drive for easy access to files for import/export\n",
        "from google.colab import drive\n",
        "drive.mount('/content/gdrive/')"
      ],
      "execution_count": 2,
      "outputs": [
        {
          "output_type": "stream",
          "text": [
            "Go to this URL in a browser: https://accounts.google.com/o/oauth2/auth?client_id=947318989803-6bn6qk8qdgf4n4g3pfee6491hc0brc4i.apps.googleusercontent.com&redirect_uri=urn%3aietf%3awg%3aoauth%3a2.0%3aoob&response_type=code&scope=email%20https%3a%2f%2fwww.googleapis.com%2fauth%2fdocs.test%20https%3a%2f%2fwww.googleapis.com%2fauth%2fdrive%20https%3a%2f%2fwww.googleapis.com%2fauth%2fdrive.photos.readonly%20https%3a%2f%2fwww.googleapis.com%2fauth%2fpeopleapi.readonly\n",
            "\n",
            "Enter your authorization code:\n",
            "··········\n",
            "Mounted at /content/gdrive/\n"
          ],
          "name": "stdout"
        }
      ]
    },
    {
      "cell_type": "code",
      "metadata": {
        "id": "YtvdDWM6Mu8n",
        "colab_type": "code",
        "colab": {}
      },
      "source": [
        "#Import globalVars to keep track of count for each hyperas iteration\n",
        "import sys\n",
        "sys.path.append('/content/gdrive/My Drive')\n",
        "import globalVars"
      ],
      "execution_count": 0,
      "outputs": []
    },
    {
      "cell_type": "code",
      "metadata": {
        "id": "RcarcKgO2LuJ",
        "colab_type": "code",
        "colab": {}
      },
      "source": [
        "def data():\n",
        "  xTrainEmotionExtraData = np.load('/content/gdrive/My Drive/Google_Collab/CNNModelsEmotion/xTrainEmotionExtraData.npy')\n",
        "  yTrainEmotionExtraData = np.load('/content/gdrive/My Drive/Google_Collab/CNNModelsEmotion/yTrainEmotionExtraData.npy')\n",
        "  xTestEmotion = np.load('/content/gdrive/My Drive/Google_Collab/CNNModelsEmotion/xTestEmotion.npy')\n",
        "  yTestEmotion = np.load('/content/gdrive/My Drive/Google_Collab/CNNModelsEmotion/yTestEmotion.npy')\n",
        "  return xTrainEmotionExtraData, yTrainEmotionExtraData, xTestEmotion, yTestEmotion"
      ],
      "execution_count": 0,
      "outputs": []
    },
    {
      "cell_type": "code",
      "metadata": {
        "id": "p4gGLqNp01SR",
        "colab_type": "code",
        "colab": {}
      },
      "source": [
        "#Tune hyperparameters for filters, kernel size, number of FC layers, number of neurons in each FC layer, dropout, learning rate, batch size\n",
        "#Set class weights based on test set\n",
        "#Set Early Stopping criteria based on validation loss\n",
        "\n",
        "def createModel(xTrainEmotionExtraData, yTrainEmotionExtraData, xTestEmotion, yTestEmotion):\n",
        "    cnnModelEmotion = Sequential()\n",
        "    cnnModelEmotion.add(Conv2D(filters=8, kernel_size=3, activation='relu', input_shape=(150,150,1)))\n",
        "    cnnModelEmotion.add(BatchNormalization())\n",
        "    cnnModelEmotion.add(MaxPooling2D(pool_size=(2,2)))\n",
        "    cnnModelEmotion.add(Conv2D(filters={{choice([8,16,32])}}, kernel_size={{choice([3,5])}}, activation='relu'))\n",
        "    cnnModelEmotion.add(BatchNormalization())\n",
        "    cnnModelEmotion.add(MaxPooling2D(pool_size=(2,2)))\n",
        "    cnnModelEmotion.add(Conv2D(filters={{choice([8,16,32])}}, kernel_size={{choice([5,7])}}, activation='relu'))\n",
        "    cnnModelEmotion.add(BatchNormalization())\n",
        "    cnnModelEmotion.add(MaxPooling2D(pool_size=(2,2)))\n",
        "    cnnModelEmotion.add(Flatten())\n",
        "\n",
        "    cnnModelEmotion.add(Dense({{choice([512,256,128])}}, activation='relu'))\n",
        "    cnnModelEmotion.add(Dropout({{choice([0.2,0.5])}}))\n",
        "    cnnModelEmotion.add(Dense({{choice([256,128,64])}}, activation='relu'))\n",
        "    cnnModelEmotion.add(Dropout({{choice([0.2,0.5])}}))\n",
        "    cnnModelEmotion.add(Dense({{choice([128,64,32])}}, activation='relu'))\n",
        "    cnnModelEmotion.add(Dropout({{choice([0.2,0.5])}}))\n",
        "\n",
        "    if {{choice(['three', 'four'])}} == 'four':\n",
        "      cnnModelEmotion.add(Dense({{choice([64,32,16])}}, activation='relu'))\n",
        "      cnnModelEmotion.add(Dropout({{choice([0.2,0.5])}}))\n",
        "\n",
        "    cnnModelEmotion.add(Dense(4, activation='softmax'))\n",
        "    \n",
        "    Ad = optimizers.Adam(lr={{choice([0.01,0.001])}}, beta_1=0.9, beta_2=0.999, amsgrad=False)\n",
        "    cnnModelEmotion.compile(loss='categorical_crossentropy', optimizer=Ad, metrics=['accuracy'])\n",
        "\n",
        "    y_integers = np.argmax(yTestEmotion, axis=1)\n",
        "    classWeights = compute_class_weight('balanced', np.unique(y_integers), y_integers)\n",
        "    classWeightsEmotion = dict(enumerate(classWeights))\n",
        "\n",
        "    globalVars.globalVar += 1\n",
        "    checkpointPath = '/content/gdrive/My Drive/Google_Collab/CNNModelsEmotion/Hyperas/BatchNormalisation/TestClassWeights/hyperasEmotion' + str(globalVars.globalVar) + '.h5'\n",
        "\n",
        "    keras_callbacks   = [\n",
        "          EarlyStopping(monitor='val_loss', patience=20, mode='min', min_delta=0.0001),\n",
        "          ModelCheckpoint(checkpointPath, monitor='val_loss', save_best_only=True, mode='min')\n",
        "    ]\n",
        "\n",
        "    result = cnnModelEmotion.fit(xTrainEmotionExtraData, yTrainEmotionExtraData, \n",
        "                                 validation_data=(xTestEmotion, yTestEmotion), \n",
        "                                 epochs=100, \n",
        "                                 batch_size={{choice([8,16])}},\n",
        "                                 class_weight=classWeightsEmotion,\n",
        "                                 callbacks=keras_callbacks, \n",
        "                                 verbose=0)\n",
        "    \n",
        "    valLoss = np.amin(result.history['val_loss'])\n",
        "    print('Best validation loss of epoch:', valLoss)\n",
        "\n",
        "    return {'loss':valLoss, 'status':STATUS_OK, 'model':cnnModelEmotion}"
      ],
      "execution_count": 0,
      "outputs": []
    },
    {
      "cell_type": "code",
      "metadata": {
        "id": "xwxOIrkF1Aio",
        "colab_type": "code",
        "outputId": "57d3d05d-93e2-4c2d-9ed6-b260fb82fd3d",
        "colab": {
          "base_uri": "https://localhost:8080/",
          "height": 1000
        }
      },
      "source": [
        "#https://github.com/maxpumperla/hyperas\n",
        "#Select best model with hyperparameters that give lowest validation loss\n",
        "bestRun, bestModel = optim.minimize(model=createModel, \n",
        "                                    data=data, \n",
        "                                    algo=tpe.suggest, \n",
        "                                    max_evals=50, \n",
        "                                    trials=Trials(),\n",
        "                                    notebook_name='gdrive/My Drive/Google_Collab/HyperasEmotion_BatchNormalisation_testCW')\n",
        "\n",
        "xTrainEmotionExtraData, yTrainEmotionExtraData, xTestEmotion, yTestEmotion = data()\n",
        "print(\"Evalutation of best performing model:\")\n",
        "test = bestModel.evaluate(xTestEmotion, yTestEmotion)\n",
        "print('Test loss:', test[0])\n",
        "print('Test accuracy:', test[1])\n",
        "print(\"Best performing model chosen hyper-parameters:\")\n",
        "print(bestRun)    "
      ],
      "execution_count": 0,
      "outputs": [
        {
          "output_type": "stream",
          "text": [
            ">>> Imports:\n",
            "#coding=utf-8\n",
            "\n",
            "try:\n",
            "    import numpy as np\n",
            "except:\n",
            "    pass\n",
            "\n",
            "try:\n",
            "    import pandas as pd\n",
            "except:\n",
            "    pass\n",
            "\n",
            "try:\n",
            "    from sklearn.model_selection import train_test_split\n",
            "except:\n",
            "    pass\n",
            "\n",
            "try:\n",
            "    from keras.models import Sequential, load_model\n",
            "except:\n",
            "    pass\n",
            "\n",
            "try:\n",
            "    from keras.layers import Dense, Dropout, Activation, Flatten\n",
            "except:\n",
            "    pass\n",
            "\n",
            "try:\n",
            "    from keras.layers import Conv2D, MaxPooling2D, BatchNormalization\n",
            "except:\n",
            "    pass\n",
            "\n",
            "try:\n",
            "    from keras.utils import to_categorical, np_utils\n",
            "except:\n",
            "    pass\n",
            "\n",
            "try:\n",
            "    from keras.callbacks import EarlyStopping, ModelCheckpoint\n",
            "except:\n",
            "    pass\n",
            "\n",
            "try:\n",
            "    from keras.wrappers.scikit_learn import KerasClassifier\n",
            "except:\n",
            "    pass\n",
            "\n",
            "try:\n",
            "    from keras import optimizers\n",
            "except:\n",
            "    pass\n",
            "\n",
            "try:\n",
            "    from sklearn.utils.class_weight import compute_class_weight\n",
            "except:\n",
            "    pass\n",
            "\n",
            "try:\n",
            "    import matplotlib.pyplot as plt\n",
            "except:\n",
            "    pass\n",
            "\n",
            "try:\n",
            "    import warnings\n",
            "except:\n",
            "    pass\n",
            "\n",
            "try:\n",
            "    from hyperas import optim\n",
            "except:\n",
            "    pass\n",
            "\n",
            "try:\n",
            "    from hyperopt import Trials, STATUS_OK, tpe\n",
            "except:\n",
            "    pass\n",
            "\n",
            "try:\n",
            "    from hyperas.distributions import choice, uniform\n",
            "except:\n",
            "    pass\n",
            "\n",
            "try:\n",
            "    from google.colab import drive\n",
            "except:\n",
            "    pass\n",
            "\n",
            "try:\n",
            "    import sys\n",
            "except:\n",
            "    pass\n",
            "\n",
            "try:\n",
            "    import globalVars\n",
            "except:\n",
            "    pass\n",
            "\n",
            "try:\n",
            "    from sklearn.metrics import accuracy_score\n",
            "except:\n",
            "    pass\n",
            "\n",
            "try:\n",
            "    from sklearn.metrics import precision_score\n",
            "except:\n",
            "    pass\n",
            "\n",
            "try:\n",
            "    from sklearn.metrics import recall_score\n",
            "except:\n",
            "    pass\n",
            "\n",
            "try:\n",
            "    from sklearn.metrics import f1_score\n",
            "except:\n",
            "    pass\n",
            "\n",
            "try:\n",
            "    from sklearn.metrics import cohen_kappa_score\n",
            "except:\n",
            "    pass\n",
            "\n",
            "try:\n",
            "    from sklearn.metrics import roc_auc_score\n",
            "except:\n",
            "    pass\n",
            "\n",
            "try:\n",
            "    from sklearn.metrics import confusion_matrix\n",
            "except:\n",
            "    pass\n",
            "\n",
            "try:\n",
            "    from sklearn.metrics import classification_report\n",
            "except:\n",
            "    pass\n",
            "\n",
            "try:\n",
            "    from sklearn.metrics import confusion_matrix\n",
            "except:\n",
            "    pass\n",
            "\n",
            "try:\n",
            "    import itertools\n",
            "except:\n",
            "    pass\n",
            "\n",
            ">>> Hyperas search space:\n",
            "\n",
            "def get_space():\n",
            "    return {\n",
            "        'filters': hp.choice('filters', [8,16,32]),\n",
            "        'kernel_size': hp.choice('kernel_size', [3,5]),\n",
            "        'filters_1': hp.choice('filters_1', [8,16,32]),\n",
            "        'kernel_size_1': hp.choice('kernel_size_1', [5,7]),\n",
            "        'Dense': hp.choice('Dense', [512,256,128]),\n",
            "        'Dropout': hp.choice('Dropout', [0.2,0.5]),\n",
            "        'Dense_1': hp.choice('Dense_1', [256,128,64]),\n",
            "        'Dropout_1': hp.choice('Dropout_1', [0.2,0.5]),\n",
            "        'Dense_2': hp.choice('Dense_2', [128,64,32]),\n",
            "        'Dropout_2': hp.choice('Dropout_2', [0.2,0.5]),\n",
            "        'Dropout_3': hp.choice('Dropout_3', ['three', 'four']),\n",
            "        'Dense_3': hp.choice('Dense_3', [64,32,16]),\n",
            "        'Dropout_4': hp.choice('Dropout_4', [0.2,0.5]),\n",
            "        'lr': hp.choice('lr', [0.01,0.001]),\n",
            "        'batch_size': hp.choice('batch_size', [8,16]),\n",
            "    }\n",
            "\n",
            ">>> Data\n",
            "  1: \n",
            "  2: xTrainEmotionExtraData = np.load('/content/gdrive/My Drive/Google_Collab/CNNModelsEmotion/xTrainEmotionExtraData.npy')\n",
            "  3: yTrainEmotionExtraData = np.load('/content/gdrive/My Drive/Google_Collab/CNNModelsEmotion/yTrainEmotionExtraData.npy')\n",
            "  4: xTestEmotion = np.load('/content/gdrive/My Drive/Google_Collab/CNNModelsEmotion/xTestEmotion.npy')\n",
            "  5: yTestEmotion = np.load('/content/gdrive/My Drive/Google_Collab/CNNModelsEmotion/yTestEmotion.npy')\n",
            "  6: \n",
            "  7: \n",
            "  8: \n",
            ">>> Resulting replaced keras model:\n",
            "\n",
            "   1: def keras_fmin_fnct(space):\n",
            "   2: \n",
            "   3:     cnnModelEmotion = Sequential()\n",
            "   4:     cnnModelEmotion = Sequential()\n",
            "   5:     cnnModelEmotion.add(Conv2D(filters=8, kernel_size=3, activation='relu', input_shape=(150,150,1)))\n",
            "   6:     cnnModelEmotion.add(BatchNormalization())\n",
            "   7:     cnnModelEmotion.add(MaxPooling2D(pool_size=(2,2)))\n",
            "   8:     cnnModelEmotion.add(Conv2D(filters=space['filters'], kernel_size=space['kernel_size'], activation='relu'))\n",
            "   9:     cnnModelEmotion.add(BatchNormalization())\n",
            "  10:     cnnModelEmotion.add(MaxPooling2D(pool_size=(2,2)))\n",
            "  11:     cnnModelEmotion.add(Conv2D(filters=space['filters_1'], kernel_size=space['kernel_size_1'], activation='relu'))\n",
            "  12:     cnnModelEmotion.add(BatchNormalization())\n",
            "  13:     cnnModelEmotion.add(MaxPooling2D(pool_size=(2,2)))\n",
            "  14:     cnnModelEmotion.add(Flatten())\n",
            "  15: \n",
            "  16:     cnnModelEmotion.add(Dense(space['Dense'], activation='relu'))\n",
            "  17:     cnnModelEmotion.add(Dropout(space['Dropout']))\n",
            "  18:     cnnModelEmotion.add(Dense(space['Dense_1'], activation='relu'))\n",
            "  19:     cnnModelEmotion.add(Dropout(space['Dropout_1']))\n",
            "  20:     cnnModelEmotion.add(Dense(space['Dense_2'], activation='relu'))\n",
            "  21:     cnnModelEmotion.add(Dropout(space['Dropout_2']))\n",
            "  22: \n",
            "  23:     if space['Dropout_3'] == 'four':\n",
            "  24:       cnnModelEmotion.add(Dense(space['Dense_3'], activation='relu'))\n",
            "  25:       cnnModelEmotion.add(Dropout(space['Dropout_4']))\n",
            "  26: \n",
            "  27:     cnnModelEmotion.add(Dense(4, activation='softmax'))\n",
            "  28:     \n",
            "  29:     Ad = optimizers.Adam(lr=space['lr'], beta_1=0.9, beta_2=0.999, amsgrad=False)\n",
            "  30:     cnnModelEmotion.compile(loss='categorical_crossentropy', optimizer=Ad, metrics=['accuracy'])\n",
            "  31: \n",
            "  32:     y_integers = np.argmax(yTestEmotion, axis=1)\n",
            "  33:     classWeights = compute_class_weight('balanced', np.unique(y_integers), y_integers)\n",
            "  34:     classWeightsEmotion = dict(enumerate(classWeights))\n",
            "  35: \n",
            "  36:     globalVars.globalVar += 1\n",
            "  37:     checkpointPath = '/content/gdrive/My Drive/Google_Collab/CNNModelsEmotion/Hyperas/BatchNormalisation/TestClassWeights/hyperasEmotion' + str(globalVars.globalVar) + '.h5'\n",
            "  38: \n",
            "  39:     keras_callbacks   = [\n",
            "  40:           EarlyStopping(monitor='val_loss', patience=20, mode='min', min_delta=0.0001),\n",
            "  41:           ModelCheckpoint(checkpointPath, monitor='val_loss', save_best_only=True, mode='min')\n",
            "  42:     ]\n",
            "  43: \n",
            "  44:     result = cnnModelEmotion.fit(xTrainEmotionExtraData, yTrainEmotionExtraData, \n",
            "  45:                                  validation_data=(xTestEmotion, yTestEmotion), \n",
            "  46:                                  epochs=100, \n",
            "  47:                                  batch_size=space['batch_size'],\n",
            "  48:                                  class_weight=classWeightsEmotion,\n",
            "  49:                                  callbacks=keras_callbacks, \n",
            "  50:                                  verbose=0)\n",
            "  51:     \n",
            "  52:     valLoss = np.amin(result.history['val_loss'])\n",
            "  53:     print('Best validation loss of epoch:', valLoss)\n",
            "  54: \n",
            "  55:     return {'loss':valLoss, 'status':STATUS_OK, 'model':cnnModelEmotion}\n",
            "  56: \n",
            "  0%|          | 0/50 [00:00<?, ?it/s, best loss: ?]WARNING:tensorflow:From /usr/local/lib/python3.6/dist-packages/keras/backend/tensorflow_backend.py:66: The name tf.get_default_graph is deprecated. Please use tf.compat.v1.get_default_graph instead.\n",
            "\n",
            "WARNING:tensorflow:From /usr/local/lib/python3.6/dist-packages/keras/backend/tensorflow_backend.py:541: The name tf.placeholder is deprecated. Please use tf.compat.v1.placeholder instead.\n",
            "\n",
            "WARNING:tensorflow:From /usr/local/lib/python3.6/dist-packages/keras/backend/tensorflow_backend.py:4432: The name tf.random_uniform is deprecated. Please use tf.random.uniform instead.\n",
            "\n",
            "WARNING:tensorflow:From /usr/local/lib/python3.6/dist-packages/keras/backend/tensorflow_backend.py:190: The name tf.get_default_session is deprecated. Please use tf.compat.v1.get_default_session instead.\n",
            "\n",
            "WARNING:tensorflow:From /usr/local/lib/python3.6/dist-packages/keras/backend/tensorflow_backend.py:197: The name tf.ConfigProto is deprecated. Please use tf.compat.v1.ConfigProto instead.\n",
            "\n",
            "WARNING:tensorflow:From /usr/local/lib/python3.6/dist-packages/keras/backend/tensorflow_backend.py:203: The name tf.Session is deprecated. Please use tf.compat.v1.Session instead.\n",
            "\n",
            "WARNING:tensorflow:From /usr/local/lib/python3.6/dist-packages/keras/backend/tensorflow_backend.py:207: The name tf.global_variables is deprecated. Please use tf.compat.v1.global_variables instead.\n",
            "\n",
            "WARNING:tensorflow:From /usr/local/lib/python3.6/dist-packages/keras/backend/tensorflow_backend.py:216: The name tf.is_variable_initialized is deprecated. Please use tf.compat.v1.is_variable_initialized instead.\n",
            "\n",
            "WARNING:tensorflow:From /usr/local/lib/python3.6/dist-packages/keras/backend/tensorflow_backend.py:223: The name tf.variables_initializer is deprecated. Please use tf.compat.v1.variables_initializer instead.\n",
            "\n",
            "WARNING:tensorflow:From /usr/local/lib/python3.6/dist-packages/keras/backend/tensorflow_backend.py:2041: The name tf.nn.fused_batch_norm is deprecated. Please use tf.compat.v1.nn.fused_batch_norm instead.\n",
            "\n",
            "WARNING:tensorflow:From /usr/local/lib/python3.6/dist-packages/keras/backend/tensorflow_backend.py:148: The name tf.placeholder_with_default is deprecated. Please use tf.compat.v1.placeholder_with_default instead.\n",
            "\n",
            "WARNING:tensorflow:From /usr/local/lib/python3.6/dist-packages/keras/backend/tensorflow_backend.py:4267: The name tf.nn.max_pool is deprecated. Please use tf.nn.max_pool2d instead.\n",
            "\n",
            "WARNING:tensorflow:From /usr/local/lib/python3.6/dist-packages/keras/backend/tensorflow_backend.py:3733: calling dropout (from tensorflow.python.ops.nn_ops) with keep_prob is deprecated and will be removed in a future version.\n",
            "Instructions for updating:\n",
            "Please use `rate` instead of `keep_prob`. Rate should be set to `rate = 1 - keep_prob`.\n",
            "WARNING:tensorflow:From /usr/local/lib/python3.6/dist-packages/keras/optimizers.py:793: The name tf.train.Optimizer is deprecated. Please use tf.compat.v1.train.Optimizer instead.\n",
            "\n",
            "WARNING:tensorflow:From /usr/local/lib/python3.6/dist-packages/keras/backend/tensorflow_backend.py:3576: The name tf.log is deprecated. Please use tf.math.log instead.\n",
            "\n",
            "WARNING:tensorflow:From /usr/local/lib/python3.6/dist-packages/tensorflow_core/python/ops/math_grad.py:1424: where (from tensorflow.python.ops.array_ops) is deprecated and will be removed in a future version.\n",
            "Instructions for updating:\n",
            "Use tf.where in 2.0, which has the same broadcast rule as np.where\n",
            "WARNING:tensorflow:From /usr/local/lib/python3.6/dist-packages/keras/backend/tensorflow_backend.py:1033: The name tf.assign_add is deprecated. Please use tf.compat.v1.assign_add instead.\n",
            "\n",
            "WARNING:tensorflow:From /usr/local/lib/python3.6/dist-packages/keras/backend/tensorflow_backend.py:1020: The name tf.assign is deprecated. Please use tf.compat.v1.assign instead.\n",
            "\n",
            "Best validation loss of epoch:\n",
            "15.006964046693719\n",
            "Best validation loss of epoch:\n",
            "1.807249320305859\n",
            "Best validation loss of epoch:\n",
            "1.0428474525676614\n",
            "Best validation loss of epoch:\n",
            "0.8061992044365683\n",
            "Best validation loss of epoch:\n",
            "0.8553589807198293\n",
            "Best validation loss of epoch:\n",
            "14.123414099810528\n",
            "Best validation loss of epoch:\n",
            "0.8989781311580113\n",
            "Best validation loss of epoch:\n",
            "14.123414156840886\n",
            "Best validation loss of epoch:\n",
            "1.9066193757263132\n",
            "Best validation loss of epoch:\n",
            "0.845590701332916\n",
            "Best validation loss of epoch:\n",
            "1.2509785740082446\n",
            "Best validation loss of epoch:\n",
            "0.9384804413069127\n",
            "Best validation loss of epoch:\n",
            "1.5827908357512515\n",
            "Best validation loss of epoch:\n",
            "1.8547412121414741\n",
            "Best validation loss of epoch:\n",
            "0.7887388842050419\n",
            "Best validation loss of epoch:\n",
            "0.8030922420793197\n",
            "Best validation loss of epoch:\n",
            "0.8458294405097582\n",
            "Best validation loss of epoch:\n",
            "0.8309605265178553\n",
            "Best validation loss of epoch:\n",
            "9.518244043933196\n",
            "Best validation loss of epoch:\n",
            "0.9314622423577547\n",
            "Best validation loss of epoch:\n",
            "0.7600245741118624\n",
            "Best validation loss of epoch:\n",
            "0.8219489075020698\n",
            "Best validation loss of epoch:\n",
            "0.7986798385449027\n",
            "Best validation loss of epoch:\n",
            "0.7629691983180189\n",
            "Best validation loss of epoch:\n",
            "0.8237571466800778\n",
            "Best validation loss of epoch:\n",
            "0.8056286127860364\n",
            "Best validation loss of epoch:\n",
            "0.7976472777781692\n",
            "Best validation loss of epoch:\n",
            "0.7798020606025113\n",
            "Best validation loss of epoch:\n",
            "0.7950379826697797\n",
            "Best validation loss of epoch:\n",
            "0.8178766605465911\n",
            "Best validation loss of epoch:\n",
            "9.518244043141108\n",
            "Best validation loss of epoch:\n",
            "0.7819049764313175\n",
            "Best validation loss of epoch:\n",
            "9.518244043141108\n",
            "Best validation loss of epoch:\n",
            "0.7752536489717984\n",
            "Best validation loss of epoch:\n",
            "0.8319938060057124\n",
            "Best validation loss of epoch:\n",
            "0.9573061585030287\n",
            "Best validation loss of epoch:\n",
            "10.886107739420032\n",
            "Best validation loss of epoch:\n",
            "0.8931880432901984\n",
            "Best validation loss of epoch:\n",
            "0.8268343354776452\n",
            "Best validation loss of epoch:\n",
            "15.006964046693719\n",
            "Best validation loss of epoch:\n",
            "0.8598914229592611\n",
            "Best validation loss of epoch:\n",
            "0.8745389123295628\n",
            "Best validation loss of epoch:\n",
            "9.70566384578464\n",
            "Best validation loss of epoch:\n",
            "0.8541771763582958\n",
            "Best validation loss of epoch:\n",
            "0.8841755998095009\n",
            "Best validation loss of epoch:\n",
            "0.8425686353464855\n",
            "Best validation loss of epoch:\n",
            "9.518244043933196\n",
            "Best validation loss of epoch:\n",
            "0.9317836373351341\n",
            "Best validation loss of epoch:\n",
            "1.0497708288934144\n",
            "Best validation loss of epoch:\n",
            "1.0053047377405768\n",
            "100%|██████████| 50/50 [3:08:17<00:00, 397.96s/it, best loss: 0.7600245741118624]\n",
            "Evalutation of best performing model:\n",
            "1204/1204 [==============================] - 0s 265us/step\n",
            "Test loss: 1.1964626567704337\n",
            "Test accuracy: 0.7425249167454995\n",
            "Best performing model chosen hyper-parameters:\n",
            "{'Dense': 0, 'Dense_1': 1, 'Dense_2': 1, 'Dense_3': 2, 'Dropout': 1, 'Dropout_1': 1, 'Dropout_2': 1, 'Dropout_3': 0, 'Dropout_4': 0, 'batch_size': 1, 'filters': 0, 'filters_1': 1, 'kernel_size': 0, 'kernel_size_1': 1, 'lr': 1}\n"
          ],
          "name": "stdout"
        }
      ]
    },
    {
      "cell_type": "code",
      "metadata": {
        "id": "6Jz1y7UyaWsp",
        "colab_type": "code",
        "outputId": "62fda90a-a22b-4d28-b384-c92c784c89c9",
        "colab": {
          "base_uri": "https://localhost:8080/",
          "height": 87
        }
      },
      "source": [
        "xTrainEmotionExtraData = np.load('/content/gdrive/My Drive/Google_Collab/CNNModelsEmotion/xTrainEmotionExtraData.npy')\n",
        "yTrainEmotionExtraData = np.load('/content/gdrive/My Drive/Google_Collab/CNNModelsEmotion/yTrainEmotionExtraData.npy')\n",
        "xTestEmotionExtraData = np.load('/content/gdrive/My Drive/Google_Collab/CNNModelsEmotion/xTestEmotion.npy')\n",
        "yTestEmotionExtraData = np.load('/content/gdrive/My Drive/Google_Collab/CNNModelsEmotion/yTestEmotion.npy')\n",
        "testEmotion = load_model('/content/gdrive/My Drive/Google_Collab/CNNModelsEmotion/Hyperas/BatchNormalisation/TestClassWeights/Best_0.760_0.728.h5')\n",
        "train = testEmotion.evaluate(xTrainEmotionExtraData, yTrainEmotionExtraData, verbose=0)\n",
        "print('Train loss:', train[0])\n",
        "print('Train accuracy:', train[1])\n",
        "test = testEmotion.evaluate(xTestEmotionExtraData, yTestEmotionExtraData, verbose=0)\n",
        "print('Test loss:', test[0])\n",
        "print('Test accuracy:', test[1])"
      ],
      "execution_count": 4,
      "outputs": [
        {
          "output_type": "stream",
          "text": [
            "Train loss: 0.3020991001279304\n",
            "Train accuracy: 0.9178197064989518\n",
            "Test loss: 0.7600245685672443\n",
            "Test accuracy: 0.7275747506325427\n"
          ],
          "name": "stdout"
        }
      ]
    },
    {
      "cell_type": "code",
      "metadata": {
        "id": "obwGOhUkdNYD",
        "colab_type": "code",
        "colab": {
          "base_uri": "https://localhost:8080/",
          "height": 745
        },
        "outputId": "1925a64c-35aa-4f3e-d424-993a1e868725"
      },
      "source": [
        "testEmotion.summary()"
      ],
      "execution_count": 6,
      "outputs": [
        {
          "output_type": "stream",
          "text": [
            "Model: \"sequential_42\"\n",
            "_________________________________________________________________\n",
            "Layer (type)                 Output Shape              Param #   \n",
            "=================================================================\n",
            "conv2d_61 (Conv2D)           (None, 148, 148, 8)       80        \n",
            "_________________________________________________________________\n",
            "batch_normalization_61 (Batc (None, 148, 148, 8)       32        \n",
            "_________________________________________________________________\n",
            "max_pooling2d_61 (MaxPooling (None, 74, 74, 8)         0         \n",
            "_________________________________________________________________\n",
            "conv2d_62 (Conv2D)           (None, 72, 72, 8)         584       \n",
            "_________________________________________________________________\n",
            "batch_normalization_62 (Batc (None, 72, 72, 8)         32        \n",
            "_________________________________________________________________\n",
            "max_pooling2d_62 (MaxPooling (None, 36, 36, 8)         0         \n",
            "_________________________________________________________________\n",
            "conv2d_63 (Conv2D)           (None, 30, 30, 16)        6288      \n",
            "_________________________________________________________________\n",
            "batch_normalization_63 (Batc (None, 30, 30, 16)        64        \n",
            "_________________________________________________________________\n",
            "max_pooling2d_63 (MaxPooling (None, 15, 15, 16)        0         \n",
            "_________________________________________________________________\n",
            "flatten_21 (Flatten)         (None, 3600)              0         \n",
            "_________________________________________________________________\n",
            "dense_89 (Dense)             (None, 512)               1843712   \n",
            "_________________________________________________________________\n",
            "dropout_69 (Dropout)         (None, 512)               0         \n",
            "_________________________________________________________________\n",
            "dense_90 (Dense)             (None, 128)               65664     \n",
            "_________________________________________________________________\n",
            "dropout_70 (Dropout)         (None, 128)               0         \n",
            "_________________________________________________________________\n",
            "dense_91 (Dense)             (None, 64)                8256      \n",
            "_________________________________________________________________\n",
            "dropout_71 (Dropout)         (None, 64)                0         \n",
            "_________________________________________________________________\n",
            "dense_92 (Dense)             (None, 4)                 260       \n",
            "=================================================================\n",
            "Total params: 1,924,972\n",
            "Trainable params: 1,924,908\n",
            "Non-trainable params: 64\n",
            "_________________________________________________________________\n"
          ],
          "name": "stdout"
        }
      ]
    },
    {
      "cell_type": "code",
      "metadata": {
        "colab_type": "code",
        "outputId": "f4553b12-b37b-4fd0-901f-e28441418e6a",
        "id": "AOBIqQ2fKg8P",
        "colab": {
          "base_uri": "https://localhost:8080/",
          "height": 35
        }
      },
      "source": [
        "#Model predictions\n",
        "predictions = testEmotion.predict_classes(xTestEmotionExtraData, verbose=0)\n",
        "print(predictions)"
      ],
      "execution_count": 0,
      "outputs": [
        {
          "output_type": "stream",
          "text": [
            "[1 2 1 ... 1 0 1]\n"
          ],
          "name": "stdout"
        }
      ]
    },
    {
      "cell_type": "code",
      "metadata": {
        "id": "ZmPVrCCuK7Xo",
        "colab_type": "code",
        "colab": {}
      },
      "source": [
        "yTestEmotionExtraData = pd.DataFrame(yTestEmotionExtraData).idxmax(axis=1)"
      ],
      "execution_count": 0,
      "outputs": []
    },
    {
      "cell_type": "code",
      "metadata": {
        "id": "J6IZ36zfQYye",
        "colab_type": "code",
        "outputId": "45bab7b7-3e28-49fb-a7ae-f6e974906102",
        "colab": {
          "base_uri": "https://localhost:8080/",
          "height": 139
        }
      },
      "source": [
        "predProbs = testEmotion.predict(xTestEmotionExtraData, verbose=0)\n",
        "print(predProbs)"
      ],
      "execution_count": 0,
      "outputs": [
        {
          "output_type": "stream",
          "text": [
            "[[1.7030948e-01 4.0218055e-01 1.9432025e-01 2.3318966e-01]\n",
            " [1.2731861e-03 2.6586619e-01 7.1354425e-01 1.9316373e-02]\n",
            " [2.5993881e-01 4.7578174e-01 1.1954845e-01 1.4473100e-01]\n",
            " ...\n",
            " [4.8223332e-02 5.2823347e-01 3.8549191e-01 3.8051315e-02]\n",
            " [8.9827073e-01 1.0164890e-01 1.5341622e-05 6.5112130e-05]\n",
            " [1.4432138e-01 3.9014289e-01 1.3766159e-01 3.2787415e-01]]\n"
          ],
          "name": "stdout"
        }
      ]
    },
    {
      "cell_type": "code",
      "metadata": {
        "id": "e_H1hL9jQ4-6",
        "colab_type": "code",
        "outputId": "ecce0cee-da24-423f-e7b9-49d7589d2603",
        "colab": {
          "base_uri": "https://localhost:8080/",
          "height": 173
        }
      },
      "source": [
        "from sklearn.metrics import accuracy_score\n",
        "from sklearn.metrics import precision_score\n",
        "from sklearn.metrics import recall_score\n",
        "from sklearn.metrics import f1_score\n",
        "from sklearn.metrics import cohen_kappa_score\n",
        "from sklearn.metrics import roc_auc_score\n",
        "from sklearn.metrics import confusion_matrix\n",
        "\n",
        "# accuracy: (tp + tn) / (p + n)\n",
        "accuracy = accuracy_score(yTestEmotionExtraData, predictions)\n",
        "print('Accuracy: %f' % accuracy)\n",
        "# precision tp / (tp + fp)\n",
        "precision = precision_score(yTestEmotionExtraData, predictions, average='macro')\n",
        "print('Precision: %f' % precision)\n",
        "# recall: tp / (tp + fn)\n",
        "recall = recall_score(yTestEmotionExtraData, predictions, average='macro')\n",
        "print('Recall: %f' % recall)\n",
        "# f1: 2 tp / (2 tp + fp + fn)\n",
        "f1 = f1_score(yTestEmotionExtraData, predictions, average='macro')\n",
        "print('F1 score: %f' % f1)\n",
        "# ROC AUC\n",
        "auc = roc_auc_score(yTestEmotionExtraData, predProbs, multi_class='ovo', average='macro')\n",
        "print('ROC AUC: %f' % auc)\n",
        "# confusion matrix\n",
        "cm = confusion_matrix(yTestEmotionExtraData, predictions)\n",
        "print(cm)"
      ],
      "execution_count": 0,
      "outputs": [
        {
          "output_type": "stream",
          "text": [
            "Accuracy: 0.727575\n",
            "Precision: 0.693086\n",
            "Recall: 0.622737\n",
            "F1 score: 0.648288\n",
            "ROC AUC: 0.870841\n",
            "[[374  98   1   6]\n",
            " [ 58 393  22  20]\n",
            " [  4  64  75   6]\n",
            " [  4  43   2  34]]\n"
          ],
          "name": "stdout"
        }
      ]
    },
    {
      "cell_type": "code",
      "metadata": {
        "id": "LVpBSYl_8Cl9",
        "colab_type": "code",
        "outputId": "00a80af2-ac10-46db-d3a0-e8fe8cdd7133",
        "colab": {
          "base_uri": "https://localhost:8080/",
          "height": 208
        }
      },
      "source": [
        "from sklearn.metrics import classification_report\n",
        "emotions = ['happy','normal','sad/angry/disgusted','surprised/fearful']\n",
        "metrics = classification_report(yTestEmotionExtraData,predictions,target_names=emotions)\n",
        "print(metrics)"
      ],
      "execution_count": 0,
      "outputs": [
        {
          "output_type": "stream",
          "text": [
            "                     precision    recall  f1-score   support\n",
            "\n",
            "              happy       0.85      0.78      0.81       479\n",
            "             normal       0.66      0.80      0.72       493\n",
            "sad/angry/disgusted       0.75      0.50      0.60       149\n",
            "  surprised/fearful       0.52      0.41      0.46        83\n",
            "\n",
            "           accuracy                           0.73      1204\n",
            "          macro avg       0.69      0.62      0.65      1204\n",
            "       weighted avg       0.74      0.73      0.72      1204\n",
            "\n"
          ],
          "name": "stdout"
        }
      ]
    },
    {
      "cell_type": "markdown",
      "metadata": {
        "id": "DvPbVv0sDGPF",
        "colab_type": "text"
      },
      "source": [
        "The precision is the ratio tp / (tp + fp) where tp is the number of true positives and fp the number of false positives. The precision is intuitively the ability of the classifier not to label as positive a sample that is negative.\n",
        "\n",
        "The recall is the ratio tp / (tp + fn) where tp is the number of true positives and fn the number of false negatives. The recall is intuitively the ability of the classifier to find all the positive samples.\n",
        "\n",
        "The F-beta score can be interpreted as a weighted harmonic mean of the precision and recall, where an F-beta score reaches its best value at 1 and worst score at 0.\n",
        "\n",
        "The F-beta score weights recall more than precision by a factor of beta. beta == 1.0 means recall and precision are equally important.\n",
        "\n",
        "The support is the number of occurrences of each class in y_true."
      ]
    },
    {
      "cell_type": "code",
      "metadata": {
        "id": "vsglJn7D9h9X",
        "colab_type": "code",
        "colab": {}
      },
      "source": [
        "def plot_confusion_matrix(cm, classes,\n",
        "   normalize=False,\n",
        "   title='Confusion matrix',\n",
        "   cmap=plt.cm.Blues):\n",
        " \n",
        "#Add Normalization Option\n",
        "   if normalize:\n",
        "     cm = cm.astype('float') / cm.sum(axis=1)[:, np.newaxis]\n",
        "     print('Normalized confusion matrix')\n",
        "   else:\n",
        "     print('Confusion matrix, without normalization')\n",
        " \n",
        "# print(cm)\n",
        "   plt.imshow(cm, interpolation='nearest', cmap=cmap)\n",
        "   plt.title(title)\n",
        "   plt.colorbar()\n",
        "   tick_marks = np.arange(len(classes))\n",
        "   plt.xticks(tick_marks, classes, rotation=45)\n",
        "   plt.yticks(tick_marks, classes)\n",
        " \n",
        "   fmt = '.2f' if normalize else 'd'\n",
        "   thresh = cm.max() / 2.\n",
        "   for i, j in itertools.product(range(cm.shape[0]), range(cm.shape[1])):\n",
        "      plt.text(j, i, format(cm[i, j], fmt), horizontalalignment='center', color='white' if cm[i, j] > thresh else 'black')\n",
        " \n",
        "   plt.tight_layout()\n",
        "   plt.ylabel('True label')\n",
        "   plt.xlabel('Predicted label') "
      ],
      "execution_count": 0,
      "outputs": []
    },
    {
      "cell_type": "code",
      "metadata": {
        "id": "LL_zgh3U5R9Q",
        "colab_type": "code",
        "outputId": "2d81c6af-0188-4df4-fcbf-1b4f4628e0de",
        "colab": {
          "base_uri": "https://localhost:8080/",
          "height": 329
        }
      },
      "source": [
        "from sklearn.metrics import confusion_matrix\n",
        "import itertools\n",
        "cm = confusion_matrix(yTestEmotionExtraData, predictions)\n",
        "plot_confusion_matrix(cm,emotions,normalize=True)"
      ],
      "execution_count": 0,
      "outputs": [
        {
          "output_type": "stream",
          "text": [
            "Normalized confusion matrix\n"
          ],
          "name": "stdout"
        },
        {
          "output_type": "display_data",
          "data": {
            "image/png": "[encoded data removed]",
            "text/plain": [
              "<Figure size 432x288 with 2 Axes>"
            ]
          },
          "metadata": {
            "tags": []
          }
        }
      ]
    },
    {
      "cell_type": "code",
      "metadata": {
        "id": "Ay4NswLdOIBu",
        "colab_type": "code",
        "outputId": "c6d27e80-2316-418c-c965-2989aa859bd1",
        "colab": {
          "base_uri": "https://localhost:8080/",
          "height": 55
        }
      },
      "source": [
        "actual = list(yTestEmotionExtraData)\n",
        "print(actual)"
      ],
      "execution_count": 0,
      "outputs": [
        {
          "output_type": "stream",
          "text": [
            "[1, 0, 3, 0, 0, 0, 1, 1, 0, 0, 1, 0, 1, 1, 0, 1, 1, 1, 0, 0, 1, 1, 1, 0, 0, 2, 0, 0, 0, 3, 1, 0, 2, 0, 3, 1, 0, 1, 2, 0, 0, 0, 1, 1, 0, 3, 1, 1, 1, 2, 1, 1, 1, 0, 0, 1, 0, 2, 1, 1, 3, 1, 3, 0, 1, 1, 0, 2, 1, 1, 1, 1, 0, 2, 2, 0, 1, 0, 0, 0, 1, 1, 0, 1, 1, 0, 1, 0, 0, 3, 3, 1, 3, 0, 0, 0, 0, 0, 2, 0, 1, 2, 1, 2, 1, 2, 3, 1, 0, 0, 2, 1, 1, 2, 0, 0, 1, 1, 0, 2, 1, 0, 0, 1, 0, 0, 1, 0, 0, 2, 0, 0, 1, 0, 1, 1, 1, 1, 1, 1, 0, 2, 1, 1, 1, 1, 1, 0, 1, 2, 2, 1, 0, 1, 3, 1, 0, 1, 1, 3, 1, 0, 3, 3, 0, 1, 0, 1, 1, 1, 0, 3, 0, 1, 1, 0, 2, 0, 1, 0, 1, 0, 2, 1, 1, 1, 1, 0, 0, 0, 3, 0, 1, 1, 1, 1, 0, 0, 2, 0, 2, 1, 3, 0, 0, 0, 0, 0, 0, 1, 2, 1, 0, 3, 1, 1, 0, 1, 1, 0, 1, 1, 0, 0, 2, 0, 0, 0, 1, 1, 3, 0, 0, 3, 1, 0, 0, 1, 1, 1, 1, 1, 0, 1, 1, 1, 1, 0, 3, 0, 1, 0, 1, 0, 0, 1, 1, 2, 1, 1, 1, 0, 1, 0, 0, 0, 0, 2, 1, 0, 1, 1, 0, 3, 1, 1, 1, 0, 0, 1, 0, 0, 1, 0, 1, 1, 2, 1, 1, 0, 1, 1, 0, 1, 1, 1, 1, 1, 0, 1, 1, 1, 1, 2, 2, 0, 1, 2, 2, 1, 2, 1, 1, 1, 1, 1, 0, 0, 1, 0, 1, 1, 0, 0, 0, 1, 1, 0, 0, 0, 1, 0, 0, 1, 1, 3, 1, 2, 0, 1, 1, 0, 2, 1, 0, 2, 0, 3, 0, 1, 0, 1, 0, 0, 0, 1, 2, 2, 0, 1, 3, 2, 2, 1, 3, 2, 1, 2, 1, 3, 0, 3, 1, 0, 1, 2, 0, 1, 3, 0, 0, 3, 2, 2, 1, 0, 0, 2, 3, 0, 0, 0, 0, 1, 1, 0, 1, 2, 1, 1, 1, 0, 1, 0, 1, 0, 0, 1, 3, 1, 2, 2, 1, 0, 0, 2, 2, 1, 0, 2, 0, 0, 3, 1, 1, 1, 1, 1, 1, 1, 1, 1, 0, 0, 0, 0, 1, 0, 0, 3, 1, 0, 1, 0, 2, 1, 1, 2, 2, 1, 0, 2, 1, 1, 1, 1, 1, 0, 1, 0, 0, 1, 0, 0, 1, 3, 0, 1, 1, 0, 0, 0, 1, 0, 3, 0, 3, 1, 2, 0, 0, 0, 0, 0, 0, 0, 2, 0, 0, 0, 3, 2, 0, 0, 1, 0, 0, 0, 1, 2, 0, 1, 1, 0, 1, 0, 3, 0, 0, 0, 0, 0, 0, 1, 0, 0, 1, 2, 0, 0, 0, 1, 3, 0, 0, 1, 0, 0, 2, 1, 0, 0, 1, 3, 1, 1, 0, 1, 1, 1, 2, 0, 0, 1, 0, 0, 3, 0, 0, 2, 1, 1, 1, 1, 0, 1, 0, 3, 0, 1, 0, 0, 1, 0, 0, 1, 1, 1, 0, 1, 1, 0, 0, 1, 1, 1, 1, 1, 0, 2, 2, 0, 1, 0, 0, 0, 2, 0, 1, 0, 3, 2, 0, 1, 0, 0, 1, 1, 2, 0, 1, 0, 1, 1, 0, 0, 0, 0, 2, 1, 1, 0, 0, 2, 0, 0, 1, 1, 1, 3, 1, 0, 2, 0, 0, 0, 3, 1, 3, 1, 2, 2, 1, 3, 0, 0, 0, 1, 3, 0, 0, 1, 1, 1, 1, 1, 1, 1, 2, 1, 1, 1, 1, 0, 1, 2, 3, 0, 1, 1, 2, 0, 1, 0, 1, 1, 1, 3, 0, 1, 1, 0, 1, 1, 0, 0, 0, 0, 3, 0, 1, 0, 1, 2, 1, 2, 1, 1, 1, 2, 1, 1, 1, 1, 2, 0, 2, 2, 1, 0, 0, 1, 0, 2, 1, 1, 2, 1, 1, 1, 0, 0, 1, 0, 1, 0, 0, 0, 1, 0, 2, 0, 0, 1, 1, 0, 0, 2, 2, 1, 0, 0, 1, 2, 0, 0, 0, 1, 0, 0, 1, 1, 1, 1, 1, 2, 1, 2, 0, 1, 1, 1, 1, 0, 3, 0, 0, 3, 1, 3, 2, 0, 0, 1, 2, 0, 0, 1, 2, 1, 1, 0, 1, 1, 2, 1, 0, 3, 1, 1, 0, 1, 1, 2, 1, 0, 3, 0, 0, 0, 1, 0, 3, 2, 0, 3, 1, 1, 1, 3, 2, 2, 1, 0, 0, 0, 0, 1, 0, 1, 3, 1, 0, 1, 0, 0, 1, 0, 2, 1, 0, 1, 0, 0, 1, 1, 1, 0, 0, 1, 3, 1, 1, 1, 0, 0, 0, 3, 1, 2, 1, 1, 1, 1, 0, 0, 0, 0, 2, 0, 3, 1, 2, 2, 1, 1, 1, 0, 0, 2, 1, 0, 0, 1, 0, 0, 0, 0, 2, 1, 0, 0, 3, 1, 1, 0, 1, 3, 2, 1, 1, 0, 1, 0, 0, 0, 0, 1, 3, 1, 1, 0, 1, 0, 0, 1, 1, 2, 1, 0, 0, 0, 3, 1, 0, 0, 2, 1, 0, 0, 1, 1, 0, 1, 1, 1, 0, 0, 2, 2, 2, 1, 3, 1, 2, 0, 0, 3, 3, 1, 1, 1, 1, 1, 1, 0, 2, 0, 1, 0, 2, 1, 1, 1, 0, 0, 0, 1, 0, 1, 1, 0, 1, 0, 1, 1, 0, 0, 1, 1, 0, 3, 0, 2, 2, 1, 0, 1, 0, 1, 2, 0, 1, 1, 0, 2, 1, 1, 0, 3, 1, 3, 0, 1, 1, 0, 0, 0, 0, 1, 1, 1, 0, 3, 0, 0, 0, 1, 1, 2, 1, 1, 2, 0, 0, 0, 1, 1, 1, 0, 0, 0, 1, 2, 1, 0, 2, 3, 2, 0, 0, 1, 0, 0, 1, 0, 0, 1, 1, 1, 1, 0, 0, 1, 0, 1, 2, 0, 3, 2, 0, 0, 0, 0, 2, 0, 0, 0, 0, 2, 0, 1, 0, 2, 2, 2, 1, 0, 0, 1, 1, 2, 1, 1, 0, 0, 1, 1, 2, 0, 1, 1, 1, 1, 1, 1, 0, 1, 2, 0, 0, 0, 0, 0, 3, 1, 0, 2, 1, 1, 0, 0, 0, 0, 0, 3, 3, 3, 1, 1, 0, 1, 0, 0, 1, 2, 1, 0, 2, 0, 2, 0, 1, 1, 1, 0, 0, 0, 1, 1, 0, 1, 0, 0, 2, 1, 0, 1, 1, 0, 0, 1, 0, 1, 1, 1, 0, 0, 1, 0, 0, 1, 3, 2, 0, 0, 2, 0, 2, 0, 0, 1, 0, 0, 0, 0, 0, 1, 1, 1, 2, 1, 0, 0, 1, 1, 0, 1, 1, 0, 0, 1, 1, 2, 0, 1, 1, 1, 2, 2, 1, 0, 1, 1, 0, 1, 1, 1, 0, 2, 0, 1, 0, 0, 2, 2, 1, 0, 1, 0, 1, 1, 0, 3]\n"
          ],
          "name": "stdout"
        }
      ]
    },
    {
      "cell_type": "code",
      "metadata": {
        "id": "NW9Z1xgLPAMP",
        "colab_type": "code",
        "colab": {}
      },
      "source": [
        "#Check for wrongly classified images and group them based on emotion\n",
        "no = []\n",
        "hp = []\n",
        "sd = []\n",
        "sr = []\n",
        "\n",
        "for i in range(len(actual)):\n",
        "  if actual[i]!=predictions[i]:\n",
        "    if actual[i]==0:\n",
        "      hp.append(i)\n",
        "    elif actual[i]==1:\n",
        "      no.append(i)\n",
        "    elif actual[i]==2:\n",
        "      sd.append(i)\n",
        "    elif actual[i]==3:\n",
        "      sr.append(i)\n",
        "    else:\n",
        "      print('Error')"
      ],
      "execution_count": 0,
      "outputs": []
    },
    {
      "cell_type": "code",
      "metadata": {
        "id": "VQMrlRp8PAO4",
        "colab_type": "code",
        "outputId": "ea8403d4-aa89-4559-fb32-25aa10bf15c3",
        "colab": {
          "base_uri": "https://localhost:8080/",
          "height": 87
        }
      },
      "source": [
        "print(len(no))\n",
        "print(len(hp))\n",
        "print(len(sd))\n",
        "print(len(sr))"
      ],
      "execution_count": 0,
      "outputs": [
        {
          "output_type": "stream",
          "text": [
            "100\n",
            "105\n",
            "74\n",
            "49\n"
          ],
          "name": "stdout"
        }
      ]
    },
    {
      "cell_type": "code",
      "metadata": {
        "id": "CUplnIIsfzmP",
        "colab_type": "code",
        "colab": {}
      },
      "source": [
        "indicesTest = np.load('/content/gdrive/My Drive/Google_Collab/CNNModelsEmotion/indicesTest.npy')\n",
        "imagesCombined = np.load('/content/gdrive/My Drive/Google_Collab/CNNModelsEmotion/imagesCombined.npy')\n",
        "targetDf = pd.read_csv('/content/gdrive/My Drive/Google_Collab/CNNModelsEmotion/targetDf.csv')"
      ],
      "execution_count": 0,
      "outputs": []
    },
    {
      "cell_type": "code",
      "metadata": {
        "id": "DnHNOERDkGJr",
        "colab_type": "code",
        "colab": {}
      },
      "source": [
        "emotionsDict = {0:'hp',\n",
        "                1:'no',\n",
        "                2:'sd',\n",
        "                3:'sr'}"
      ],
      "execution_count": 0,
      "outputs": []
    },
    {
      "cell_type": "code",
      "metadata": {
        "id": "5mFOx_VQi8Qc",
        "colab_type": "code",
        "colab": {}
      },
      "source": [
        "def checkWronglyClassifiedEmotionsResults(emotionType, index):\n",
        "  if emotionType == 'no':\n",
        "      cv2_imshow(imagesCombined[indicesTest[no[index]]])\n",
        "      print(targetDf.loc[indicesTest[no[index]],:])\n",
        "      print('Predicted Emotion:',emotionsDict[predictions[no[index]]])\n",
        "      print(predProbs[no[index]])\n",
        "  if emotionType == 'hp':\n",
        "      cv2_imshow(imagesCombined[indicesTest[hp[index]]])\n",
        "      print(targetDf.loc[indicesTest[hp[index]],:])\n",
        "      print('Predicted Emotion:',emotionsDict[predictions[hp[index]]])\n",
        "      print(predProbs[hp[index]])\n",
        "  if emotionType == 'sd':\n",
        "      cv2_imshow(imagesCombined[indicesTest[sd[index]]])\n",
        "      print(targetDf.loc[indicesTest[sd[index]],:])\n",
        "      print('Predicted Emotion:',emotionsDict[predictions[sd[index]]])\n",
        "      print(predProbs[sd[index]])\n",
        "  if emotionType == 'sr':\n",
        "      cv2_imshow(imagesCombined[indicesTest[sr[index]]])\n",
        "      print(targetDf.loc[indicesTest[sr[index]],:])\n",
        "      print('Predicted Emotion:',emotionsDict[predictions[sr[index]]])\n",
        "      print(predProbs[sr[index]])"
      ],
      "execution_count": 0,
      "outputs": []
    },
    {
      "cell_type": "code",
      "metadata": {
        "id": "YI8k8LcXiWW_",
        "colab_type": "code",
        "outputId": "dd9737b4-79ad-4b36-9932-c4fad702872d",
        "colab": {
          "base_uri": "https://localhost:8080/",
          "height": 341
        }
      },
      "source": [
        "checkWronglyClassifiedEmotionsResults('hp',30)"
      ],
      "execution_count": 0,
      "outputs": [
        {
          "output_type": "display_data",
          "data": {
            "image/png": "[encoded data removed]",
            "text/plain": [
              "<PIL.Image.Image image mode=L size=150x150 at 0x7F7B035B7F98>"
            ]
          },
          "metadata": {
            "tags": []
          }
        },
        {
          "output_type": "stream",
          "text": [
            "Unnamed: 0                                             3164\n",
            "filename      MahA_00945_m_28_i_nf_nc_hp_2016_2_e0_nl_o.jpg\n",
            "name                                                   MahA\n",
            "gender                                                    m\n",
            "age                                                      28\n",
            "emotion                                                  hp\n",
            "emotionCat                                                0\n",
            "Name: 3164, dtype: object\n",
            "Predicted Emotion: no\n",
            "[0.2591272  0.5118865  0.1533936  0.07559276]\n"
          ],
          "name": "stdout"
        }
      ]
    }
  ]
}