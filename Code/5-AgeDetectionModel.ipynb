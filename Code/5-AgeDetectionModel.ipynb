{
  "nbformat": 4,
  "nbformat_minor": 0,
  "metadata": {
    "colab": {
      "name": "CNNModelsAge.ipynb",
      "provenance": [],
      "collapsed_sections": [],
      "machine_shape": "hm"
    },
    "kernelspec": {
      "name": "python3",
      "display_name": "Python 3"
    }
  },
  "cells": [
    {
      "cell_type": "code",
      "metadata": {
        "id": "V_YGhpo3R-wC",
        "colab_type": "code",
        "outputId": "9ea97ead-5207-4941-debd-c1f2bbf63bfd",
        "colab": {
          "base_uri": "https://localhost:8080/",
          "height": 81
        }
      },
      "source": [
        "#Import libraries\n",
        "import numpy as np\n",
        "np.random.seed(42)\n",
        "from keras.models import Sequential, load_model\n",
        "from keras.layers import Dense, Dropout, Activation, Flatten\n",
        "from keras.layers import Conv2D, MaxPooling2D, BatchNormalization\n",
        "from keras.callbacks import EarlyStopping, ModelCheckpoint\n",
        "from keras import optimizers\n",
        "import matplotlib.pyplot as plt\n",
        "%matplotlib inline\n",
        "\n",
        "import warnings\n",
        "warnings.filterwarnings(\"ignore\")"
      ],
      "execution_count": 0,
      "outputs": [
        {
          "output_type": "stream",
          "text": [
            "Using TensorFlow backend.\n"
          ],
          "name": "stderr"
        },
        {
          "output_type": "display_data",
          "data": {
            "text/html": [
              "<p style=\"color: red;\">\n",
              "The default version of TensorFlow in Colab will soon switch to TensorFlow 2.x.<br>\n",
              "We recommend you <a href=\"https://www.tensorflow.org/guide/migrate\" target=\"_blank\">upgrade</a> now \n",
              "or ensure your notebook will continue to use TensorFlow 1.x via the <code>%tensorflow_version 1.x</code> magic:\n",
              "<a href=\"https://colab.research.google.com/notebooks/tensorflow_version.ipynb\" target=\"_blank\">more info</a>.</p>\n"
            ],
            "text/plain": [
              "<IPython.core.display.HTML object>"
            ]
          },
          "metadata": {
            "tags": []
          }
        }
      ]
    },
    {
      "cell_type": "code",
      "metadata": {
        "id": "oHpUZscFTnhG",
        "colab_type": "code",
        "outputId": "f3320eb1-7b17-4034-b503-d02a20515e9d",
        "colab": {
          "base_uri": "https://localhost:8080/",
          "height": 124
        }
      },
      "source": [
        "#Mount to google drive for easy access to files for import/export\n",
        "from google.colab import drive\n",
        "drive.mount('/content/gdrive')"
      ],
      "execution_count": 0,
      "outputs": [
        {
          "output_type": "stream",
          "text": [
            "Go to this URL in a browser: https://accounts.google.com/o/oauth2/auth?client_id=947318989803-6bn6qk8qdgf4n4g3pfee6491hc0brc4i.apps.googleusercontent.com&redirect_uri=urn%3aietf%3awg%3aoauth%3a2.0%3aoob&response_type=code&scope=email%20https%3a%2f%2fwww.googleapis.com%2fauth%2fdocs.test%20https%3a%2f%2fwww.googleapis.com%2fauth%2fdrive%20https%3a%2f%2fwww.googleapis.com%2fauth%2fdrive.photos.readonly%20https%3a%2f%2fwww.googleapis.com%2fauth%2fpeopleapi.readonly\n",
            "\n",
            "Enter your authorization code:\n",
            "··········\n",
            "Mounted at /content/gdrive\n"
          ],
          "name": "stdout"
        }
      ]
    },
    {
      "cell_type": "code",
      "metadata": {
        "id": "M_YSUAdeTp9w",
        "colab_type": "code",
        "colab": {}
      },
      "source": [
        "xTrainAge = np.load('/content/gdrive/My Drive/Google_Collab/CNNModelsAge/xTrainAge.npy', allow_pickle=True)\n",
        "xTestAge = np.load('/content/gdrive/My Drive/Google_Collab/CNNModelsAge/xTestAge.npy', allow_pickle=True)\n",
        "yTrainAge = np.load('/content/gdrive/My Drive/Google_Collab/CNNModelsAge/yTrainAge.npy', allow_pickle=True)\n",
        "yTestAge = np.load('/content/gdrive/My Drive/Google_Collab/CNNModelsAge/yTestAge.npy', allow_pickle=True)"
      ],
      "execution_count": 0,
      "outputs": []
    },
    {
      "cell_type": "code",
      "metadata": {
        "id": "sXOEAOTSXhch",
        "colab_type": "code",
        "colab": {}
      },
      "source": [
        "checkpointPath1 = '/content/gdrive/My Drive/Google_Collab/CNNModelsAge/cnnModelAge1.h5'\n",
        "\n",
        "keras_callbacks1   = [\n",
        "      EarlyStopping(monitor='val_loss', patience=20, mode='min', min_delta=0.0001),\n",
        "      ModelCheckpoint(checkpointPath1, monitor='val_loss', save_best_only=True, mode='min')\n",
        "]"
      ],
      "execution_count": 0,
      "outputs": []
    },
    {
      "cell_type": "code",
      "metadata": {
        "id": "ZTsQxSZEW745",
        "colab_type": "code",
        "colab": {}
      },
      "source": [
        "cnnModelAge = Sequential()\n",
        "cnnModelAge.add(Conv2D(filters=8, kernel_size=3, activation='relu', input_shape=(150,150,1))) \n",
        "cnnModelAge.add(BatchNormalization())\n",
        "cnnModelAge.add(MaxPooling2D(pool_size=(2,2)))\n",
        "cnnModelAge.add(Conv2D(filters=16, kernel_size=3, activation='relu'))\n",
        "cnnModelAge.add(BatchNormalization())\n",
        "cnnModelAge.add(MaxPooling2D(pool_size=(2,2)))\n",
        "cnnModelAge.add(Flatten())\n",
        "cnnModelAge.add(Dense(128, activation='relu'))\n",
        "cnnModelAge.add(Dropout(0.5))\n",
        "cnnModelAge.add(Dense(1))\n",
        "cnnModelAge.compile(loss='mse', optimizer='adam', metrics=['mae'])"
      ],
      "execution_count": 0,
      "outputs": []
    },
    {
      "cell_type": "code",
      "metadata": {
        "id": "e-gVIJNWW7-4",
        "colab_type": "code",
        "outputId": "142be9ed-a25f-4a14-f4aa-bf80a164d0d2",
        "colab": {
          "base_uri": "https://localhost:8080/",
          "height": 1000
        }
      },
      "source": [
        "historyAge = cnnModelAge.fit(xTrainAge, yTrainAge, \n",
        "                             validation_data=(xTestAge, yTestAge),\n",
        "                             batch_size=8,\n",
        "                             callbacks=keras_callbacks1, \n",
        "                             epochs=100,\n",
        "                             verbose=2)"
      ],
      "execution_count": 0,
      "outputs": [
        {
          "output_type": "stream",
          "text": [
            "WARNING:tensorflow:From /usr/local/lib/python3.6/dist-packages/keras/backend/tensorflow_backend.py:1033: The name tf.assign_add is deprecated. Please use tf.compat.v1.assign_add instead.\n",
            "\n",
            "WARNING:tensorflow:From /usr/local/lib/python3.6/dist-packages/keras/backend/tensorflow_backend.py:1020: The name tf.assign is deprecated. Please use tf.compat.v1.assign instead.\n",
            "\n",
            "Train on 2808 samples, validate on 1204 samples\n",
            "Epoch 1/100\n",
            " - 34s - loss: 125.5250 - mean_absolute_error: 8.5081 - val_loss: 56.6940 - val_mean_absolute_error: 5.7142\n",
            "Epoch 2/100\n",
            " - 33s - loss: 83.3449 - mean_absolute_error: 6.9446 - val_loss: 49.3438 - val_mean_absolute_error: 5.3465\n",
            "Epoch 3/100\n",
            " - 34s - loss: 83.4930 - mean_absolute_error: 6.5857 - val_loss: 64.0976 - val_mean_absolute_error: 6.3642\n",
            "Epoch 4/100\n",
            " - 33s - loss: 64.6292 - mean_absolute_error: 5.8864 - val_loss: 30.0703 - val_mean_absolute_error: 3.9324\n",
            "Epoch 5/100\n",
            " - 34s - loss: 53.7116 - mean_absolute_error: 5.5783 - val_loss: 50.2329 - val_mean_absolute_error: 5.6807\n",
            "Epoch 6/100\n",
            " - 33s - loss: 47.2620 - mean_absolute_error: 5.2802 - val_loss: 50.2109 - val_mean_absolute_error: 5.7666\n",
            "Epoch 7/100\n",
            " - 33s - loss: 42.7545 - mean_absolute_error: 5.0328 - val_loss: 39.3054 - val_mean_absolute_error: 4.8078\n",
            "Epoch 8/100\n",
            " - 33s - loss: 37.5988 - mean_absolute_error: 4.7702 - val_loss: 26.8979 - val_mean_absolute_error: 3.7168\n",
            "Epoch 9/100\n",
            " - 33s - loss: 36.5378 - mean_absolute_error: 4.6923 - val_loss: 27.9309 - val_mean_absolute_error: 3.6294\n",
            "Epoch 10/100\n",
            " - 33s - loss: 38.1916 - mean_absolute_error: 4.7570 - val_loss: 35.4753 - val_mean_absolute_error: 4.4517\n",
            "Epoch 11/100\n",
            " - 33s - loss: 37.1143 - mean_absolute_error: 4.6334 - val_loss: 35.0238 - val_mean_absolute_error: 4.1575\n",
            "Epoch 12/100\n",
            " - 33s - loss: 34.3967 - mean_absolute_error: 4.4895 - val_loss: 32.9126 - val_mean_absolute_error: 4.2494\n",
            "Epoch 13/100\n",
            " - 33s - loss: 35.2929 - mean_absolute_error: 4.6732 - val_loss: 35.0399 - val_mean_absolute_error: 4.6616\n",
            "Epoch 14/100\n",
            " - 33s - loss: 31.9274 - mean_absolute_error: 4.4529 - val_loss: 21.9222 - val_mean_absolute_error: 3.1743\n",
            "Epoch 15/100\n",
            " - 33s - loss: 30.6460 - mean_absolute_error: 4.2704 - val_loss: 30.8756 - val_mean_absolute_error: 4.0466\n",
            "Epoch 16/100\n",
            " - 33s - loss: 30.9068 - mean_absolute_error: 4.3159 - val_loss: 23.0320 - val_mean_absolute_error: 3.2623\n",
            "Epoch 17/100\n",
            " - 33s - loss: 29.2157 - mean_absolute_error: 4.2292 - val_loss: 34.6110 - val_mean_absolute_error: 4.4600\n",
            "Epoch 18/100\n",
            " - 33s - loss: 30.4184 - mean_absolute_error: 4.3018 - val_loss: 24.5299 - val_mean_absolute_error: 3.5292\n",
            "Epoch 19/100\n",
            " - 33s - loss: 28.5755 - mean_absolute_error: 4.2294 - val_loss: 27.4578 - val_mean_absolute_error: 3.6127\n",
            "Epoch 20/100\n",
            " - 33s - loss: 27.1577 - mean_absolute_error: 4.0399 - val_loss: 22.0076 - val_mean_absolute_error: 3.2469\n",
            "Epoch 21/100\n",
            " - 33s - loss: 26.6671 - mean_absolute_error: 4.0057 - val_loss: 24.1164 - val_mean_absolute_error: 3.3683\n",
            "Epoch 22/100\n",
            " - 33s - loss: 25.7988 - mean_absolute_error: 3.9465 - val_loss: 24.9757 - val_mean_absolute_error: 3.5765\n",
            "Epoch 23/100\n",
            " - 33s - loss: 26.3890 - mean_absolute_error: 3.9662 - val_loss: 23.0929 - val_mean_absolute_error: 3.2919\n",
            "Epoch 24/100\n",
            " - 33s - loss: 24.4207 - mean_absolute_error: 3.8638 - val_loss: 23.1593 - val_mean_absolute_error: 3.2735\n",
            "Epoch 25/100\n",
            " - 33s - loss: 24.6970 - mean_absolute_error: 3.8248 - val_loss: 21.7837 - val_mean_absolute_error: 3.1970\n",
            "Epoch 26/100\n",
            " - 33s - loss: 22.2193 - mean_absolute_error: 3.6674 - val_loss: 22.6890 - val_mean_absolute_error: 3.2370\n",
            "Epoch 27/100\n",
            " - 33s - loss: 25.3504 - mean_absolute_error: 3.8804 - val_loss: 23.3461 - val_mean_absolute_error: 3.2880\n",
            "Epoch 28/100\n",
            " - 33s - loss: 23.9853 - mean_absolute_error: 3.7596 - val_loss: 32.8955 - val_mean_absolute_error: 4.3397\n",
            "Epoch 29/100\n",
            " - 33s - loss: 21.8205 - mean_absolute_error: 3.6157 - val_loss: 25.4712 - val_mean_absolute_error: 3.7490\n",
            "Epoch 30/100\n",
            " - 33s - loss: 21.7921 - mean_absolute_error: 3.5991 - val_loss: 27.0037 - val_mean_absolute_error: 3.6605\n",
            "Epoch 31/100\n",
            " - 33s - loss: 21.8882 - mean_absolute_error: 3.6239 - val_loss: 22.3657 - val_mean_absolute_error: 3.2211\n",
            "Epoch 32/100\n",
            " - 33s - loss: 19.4474 - mean_absolute_error: 3.4387 - val_loss: 30.1374 - val_mean_absolute_error: 3.9721\n",
            "Epoch 33/100\n",
            " - 33s - loss: 19.7930 - mean_absolute_error: 3.4584 - val_loss: 22.8848 - val_mean_absolute_error: 3.2424\n",
            "Epoch 34/100\n",
            " - 33s - loss: 20.1298 - mean_absolute_error: 3.5003 - val_loss: 21.0248 - val_mean_absolute_error: 3.1520\n",
            "Epoch 35/100\n",
            " - 33s - loss: 18.4022 - mean_absolute_error: 3.3447 - val_loss: 21.5021 - val_mean_absolute_error: 3.1329\n",
            "Epoch 36/100\n",
            " - 32s - loss: 19.5388 - mean_absolute_error: 3.4435 - val_loss: 23.0309 - val_mean_absolute_error: 3.3017\n",
            "Epoch 37/100\n",
            " - 32s - loss: 20.0663 - mean_absolute_error: 3.4355 - val_loss: 22.4358 - val_mean_absolute_error: 3.1889\n",
            "Epoch 38/100\n",
            " - 33s - loss: 17.1866 - mean_absolute_error: 3.2326 - val_loss: 36.5260 - val_mean_absolute_error: 4.5853\n",
            "Epoch 39/100\n",
            " - 33s - loss: 18.1822 - mean_absolute_error: 3.2804 - val_loss: 27.9435 - val_mean_absolute_error: 3.6663\n",
            "Epoch 40/100\n",
            " - 33s - loss: 17.7319 - mean_absolute_error: 3.2584 - val_loss: 22.0801 - val_mean_absolute_error: 3.3091\n",
            "Epoch 41/100\n",
            " - 33s - loss: 18.8023 - mean_absolute_error: 3.3819 - val_loss: 22.6176 - val_mean_absolute_error: 3.2702\n",
            "Epoch 42/100\n",
            " - 33s - loss: 18.0187 - mean_absolute_error: 3.2583 - val_loss: 21.7011 - val_mean_absolute_error: 3.1310\n",
            "Epoch 43/100\n",
            " - 33s - loss: 16.9331 - mean_absolute_error: 3.1886 - val_loss: 22.1093 - val_mean_absolute_error: 3.2328\n",
            "Epoch 44/100\n",
            " - 33s - loss: 17.3417 - mean_absolute_error: 3.1998 - val_loss: 25.6043 - val_mean_absolute_error: 3.5638\n",
            "Epoch 45/100\n",
            " - 33s - loss: 17.2047 - mean_absolute_error: 3.2425 - val_loss: 31.7285 - val_mean_absolute_error: 4.0603\n",
            "Epoch 46/100\n",
            " - 33s - loss: 17.3378 - mean_absolute_error: 3.1898 - val_loss: 21.8697 - val_mean_absolute_error: 3.1807\n",
            "Epoch 47/100\n",
            " - 33s - loss: 16.1666 - mean_absolute_error: 3.0942 - val_loss: 22.3153 - val_mean_absolute_error: 3.1996\n",
            "Epoch 48/100\n",
            " - 33s - loss: 15.9809 - mean_absolute_error: 3.0908 - val_loss: 21.0280 - val_mean_absolute_error: 3.0776\n",
            "Epoch 49/100\n",
            " - 33s - loss: 15.7845 - mean_absolute_error: 3.0642 - val_loss: 24.5804 - val_mean_absolute_error: 3.4572\n",
            "Epoch 50/100\n",
            " - 33s - loss: 16.1484 - mean_absolute_error: 3.1343 - val_loss: 23.8127 - val_mean_absolute_error: 3.3250\n",
            "Epoch 51/100\n",
            " - 33s - loss: 15.7179 - mean_absolute_error: 3.0643 - val_loss: 22.1424 - val_mean_absolute_error: 3.1647\n",
            "Epoch 52/100\n",
            " - 33s - loss: 14.8573 - mean_absolute_error: 2.9822 - val_loss: 22.7408 - val_mean_absolute_error: 3.2495\n",
            "Epoch 53/100\n",
            " - 33s - loss: 13.8500 - mean_absolute_error: 2.8635 - val_loss: 22.6908 - val_mean_absolute_error: 3.3225\n",
            "Epoch 54/100\n",
            " - 33s - loss: 13.8655 - mean_absolute_error: 2.8677 - val_loss: 21.4655 - val_mean_absolute_error: 3.2050\n"
          ],
          "name": "stdout"
        }
      ]
    },
    {
      "cell_type": "code",
      "metadata": {
        "id": "gFM4p-sKW8BT",
        "colab_type": "code",
        "outputId": "8fd67231-e319-45a0-8ad7-84f3d01914a9",
        "colab": {
          "base_uri": "https://localhost:8080/",
          "height": 87
        }
      },
      "source": [
        "train_scores_cnn = cnnModelAge.evaluate(xTrainAge, yTrainAge, verbose=2)\n",
        "print('Train mse:', train_scores_cnn[0])\n",
        "print('Train mae:', train_scores_cnn[1])\n",
        "test_scores_cnn = cnnModelAge.evaluate(xTestAge, yTestAge, verbose=2)\n",
        "print('Test mse:', test_scores_cnn[0])\n",
        "print('Test mae:', test_scores_cnn[1])"
      ],
      "execution_count": 0,
      "outputs": [
        {
          "output_type": "stream",
          "text": [
            "Train mse: 3.575549515563878\n",
            "Train mae: 1.513157775599053\n",
            "Test mse: 21.465479980671525\n",
            "Test mae: 3.20499518939427\n"
          ],
          "name": "stdout"
        }
      ]
    },
    {
      "cell_type": "code",
      "metadata": {
        "id": "YbZFlL5gXoai",
        "colab_type": "code",
        "outputId": "45c82462-1cf3-41f5-b846-783809f8fa60",
        "colab": {
          "base_uri": "https://localhost:8080/",
          "height": 87
        }
      },
      "source": [
        "modelTest1 = load_model(checkpointPath1)\n",
        "train1 = modelTest1.evaluate(xTrainAge, yTrainAge, verbose=2)\n",
        "print('Train mse:', train1[0])\n",
        "print('Train mae:', train1[1])\n",
        "test1 = modelTest1.evaluate(xTestAge, yTestAge, verbose=2)\n",
        "print('Test mse:', test1[0])\n",
        "print('Test mae:', test1[1])"
      ],
      "execution_count": 0,
      "outputs": [
        {
          "output_type": "stream",
          "text": [
            "Train mse: 5.172914668705388\n",
            "Train mae: 1.7462737421024899\n",
            "Test mse: 21.024767638044896\n",
            "Test mae: 3.1520488135442384\n"
          ],
          "name": "stdout"
        }
      ]
    },
    {
      "cell_type": "code",
      "metadata": {
        "id": "2VOHkK-rW8D5",
        "colab_type": "code",
        "outputId": "e1baebea-cbb9-4a72-dad2-28f3e7ad0550",
        "colab": {
          "base_uri": "https://localhost:8080/",
          "height": 503
        }
      },
      "source": [
        "cnnModelAge.summary()"
      ],
      "execution_count": 0,
      "outputs": [
        {
          "output_type": "stream",
          "text": [
            "Model: \"sequential_2\"\n",
            "_________________________________________________________________\n",
            "Layer (type)                 Output Shape              Param #   \n",
            "=================================================================\n",
            "conv2d_3 (Conv2D)            (None, 148, 148, 8)       80        \n",
            "_________________________________________________________________\n",
            "batch_normalization_3 (Batch (None, 148, 148, 8)       32        \n",
            "_________________________________________________________________\n",
            "max_pooling2d_3 (MaxPooling2 (None, 74, 74, 8)         0         \n",
            "_________________________________________________________________\n",
            "conv2d_4 (Conv2D)            (None, 72, 72, 16)        1168      \n",
            "_________________________________________________________________\n",
            "batch_normalization_4 (Batch (None, 72, 72, 16)        64        \n",
            "_________________________________________________________________\n",
            "max_pooling2d_4 (MaxPooling2 (None, 36, 36, 16)        0         \n",
            "_________________________________________________________________\n",
            "flatten_2 (Flatten)          (None, 20736)             0         \n",
            "_________________________________________________________________\n",
            "dense_3 (Dense)              (None, 128)               2654336   \n",
            "_________________________________________________________________\n",
            "dropout_2 (Dropout)          (None, 128)               0         \n",
            "_________________________________________________________________\n",
            "dense_4 (Dense)              (None, 1)                 129       \n",
            "=================================================================\n",
            "Total params: 2,655,809\n",
            "Trainable params: 2,655,761\n",
            "Non-trainable params: 48\n",
            "_________________________________________________________________\n"
          ],
          "name": "stdout"
        }
      ]
    },
    {
      "cell_type": "code",
      "metadata": {
        "id": "MMWiBgIuXYYV",
        "colab_type": "code",
        "outputId": "2ca61693-2949-4fbb-ff01-2c5fe3aed2a0",
        "colab": {
          "base_uri": "https://localhost:8080/",
          "height": 265
        }
      },
      "source": [
        "plt.plot(historyAge.history['loss'], label='Train loss')\n",
        "plt.plot(historyAge.history['val_loss'], label='Val Loss')\n",
        "plt.legend();"
      ],
      "execution_count": 0,
      "outputs": [
        {
          "output_type": "display_data",
          "data": {
            "image/png": "[encoded data removed]",
            "text/plain": [
              "<Figure size 432x288 with 1 Axes>"
            ]
          },
          "metadata": {
            "tags": []
          }
        }
      ]
    },
    {
      "cell_type": "code",
      "metadata": {
        "id": "1PRypg0vXYd1",
        "colab_type": "code",
        "outputId": "38d116ed-a9b1-480a-99e4-722c332e72ed",
        "colab": {
          "base_uri": "https://localhost:8080/",
          "height": 265
        }
      },
      "source": [
        "plt.plot(historyAge.history['mean_absolute_error'], label='Train mae')\n",
        "plt.plot(historyAge.history['val_mean_absolute_error'], label='Val mae')\n",
        "plt.legend();"
      ],
      "execution_count": 0,
      "outputs": [
        {
          "output_type": "display_data",
          "data": {
            "image/png": "[encoded data removed]",
            "text/plain": [
              "<Figure size 432x288 with 1 Axes>"
            ]
          },
          "metadata": {
            "tags": []
          }
        }
      ]
    },
    {
      "cell_type": "code",
      "metadata": {
        "id": "F-44FGJOXYbK",
        "colab_type": "code",
        "colab": {}
      },
      "source": [
        ""
      ],
      "execution_count": 0,
      "outputs": []
    },
    {
      "cell_type": "code",
      "metadata": {
        "id": "XlIe3hwiW8G7",
        "colab_type": "code",
        "colab": {}
      },
      "source": [
        ""
      ],
      "execution_count": 0,
      "outputs": []
    }
  ]
}