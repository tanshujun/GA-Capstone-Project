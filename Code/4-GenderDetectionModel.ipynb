{
  "nbformat": 4,
  "nbformat_minor": 0,
  "metadata": {
    "colab": {
      "name": "CNNModelsGender.ipynb",
      "provenance": [],
      "collapsed_sections": [],
      "machine_shape": "hm"
    },
    "kernelspec": {
      "name": "python3",
      "display_name": "Python 3"
    }
  },
  "cells": [
    {
      "cell_type": "code",
      "metadata": {
        "id": "V_YGhpo3R-wC",
        "colab_type": "code",
        "colab": {}
      },
      "source": [
        "#Import libraries\n",
        "import numpy as np\n",
        "np.random.seed(42)\n",
        "from keras.models import Sequential, load_model\n",
        "from keras.layers import Dense, Dropout, Activation, Flatten\n",
        "from keras.layers import Conv2D, MaxPooling2D, BatchNormalization\n",
        "from keras.utils import to_categorical, np_utils\n",
        "from keras.callbacks import EarlyStopping, ModelCheckpoint\n",
        "from keras.wrappers.scikit_learn import KerasClassifier\n",
        "from keras import optimizers\n",
        "from sklearn.utils.class_weight import compute_class_weight\n",
        "import matplotlib.pyplot as plt\n",
        "%matplotlib inline\n",
        "\n",
        "import warnings\n",
        "warnings.filterwarnings(\"ignore\")"
      ],
      "execution_count": 0,
      "outputs": []
    },
    {
      "cell_type": "code",
      "metadata": {
        "id": "oHpUZscFTnhG",
        "colab_type": "code",
        "outputId": "c2b96c9f-dd45-499f-b203-618e1c8165fb",
        "colab": {
          "base_uri": "https://localhost:8080/",
          "height": 35
        }
      },
      "source": [
        "#Mount to google drive for easy access to files for import/export\n",
        "from google.colab import drive\n",
        "drive.mount('/content/gdrive')"
      ],
      "execution_count": 0,
      "outputs": [
        {
          "output_type": "stream",
          "text": [
            "Drive already mounted at /content/gdrive; to attempt to forcibly remount, call drive.mount(\"/content/gdrive\", force_remount=True).\n"
          ],
          "name": "stdout"
        }
      ]
    },
    {
      "cell_type": "code",
      "metadata": {
        "id": "M_YSUAdeTp9w",
        "colab_type": "code",
        "colab": {}
      },
      "source": [
        "xTrainGender = np.load('/content/gdrive/My Drive/Google_Collab/CNNModelsGender/xTrainGender.npy')\n",
        "xTestGender = np.load('/content/gdrive/My Drive/Google_Collab/CNNModelsGender/xTestGender.npy')\n",
        "yTrainGender = np.load('/content/gdrive/My Drive/Google_Collab/CNNModelsGender/yTrainGender.npy')\n",
        "yTestGender = np.load('/content/gdrive/My Drive/Google_Collab/CNNModelsGender/yTestGender.npy')"
      ],
      "execution_count": 0,
      "outputs": []
    },
    {
      "cell_type": "code",
      "metadata": {
        "id": "sXOEAOTSXhch",
        "colab_type": "code",
        "colab": {}
      },
      "source": [
        "checkpointPath1 = '/content/gdrive/My Drive/Google_Collab/CNNModelsGender/cnnModelGender1.h5'\n",
        "\n",
        "keras_callbacks1   = [\n",
        "      EarlyStopping(monitor='val_loss', patience=20, mode='min', min_delta=0.0001),\n",
        "      ModelCheckpoint(checkpointPath1, monitor='val_loss', save_best_only=True, mode='min')\n",
        "]"
      ],
      "execution_count": 0,
      "outputs": []
    },
    {
      "cell_type": "code",
      "metadata": {
        "id": "Bdp7nuJLzfS3",
        "colab_type": "code",
        "colab": {}
      },
      "source": [
        "#Class weights computed from data prep and EDA\n",
        "classWeightsGender = {0: 0.620,\n",
        "                      1: 0.380}"
      ],
      "execution_count": 0,
      "outputs": []
    },
    {
      "cell_type": "code",
      "metadata": {
        "id": "ZTsQxSZEW745",
        "colab_type": "code",
        "colab": {}
      },
      "source": [
        "cnnModelGender = Sequential()\n",
        "cnnModelGender.add(Conv2D(filters=8, kernel_size=3, activation='relu', input_shape=(150,150,1))) \n",
        "cnnModelGender.add(BatchNormalization())\n",
        "cnnModelGender.add(MaxPooling2D(pool_size=(2,2)))\n",
        "cnnModelGender.add(Conv2D(filters=16, kernel_size=3, activation='relu'))\n",
        "cnnModelGender.add(BatchNormalization())\n",
        "cnnModelGender.add(MaxPooling2D(pool_size=(2,2)))\n",
        "cnnModelGender.add(Flatten())\n",
        "cnnModelGender.add(Dense(128, activation='relu'))\n",
        "cnnModelGender.add(Dropout(0.5))\n",
        "cnnModelGender.add(Dense(1, activation='sigmoid'))\n",
        "cnnModelGender.compile(loss='binary_crossentropy', optimizer='adam', metrics=['accuracy'])"
      ],
      "execution_count": 0,
      "outputs": []
    },
    {
      "cell_type": "code",
      "metadata": {
        "id": "e-gVIJNWW7-4",
        "colab_type": "code",
        "outputId": "a3628a97-8e4c-44ca-e690-122f7e639f9f",
        "colab": {
          "base_uri": "https://localhost:8080/",
          "height": 901
        }
      },
      "source": [
        "historyGender = cnnModelGender.fit(xTrainGender, yTrainGender, \n",
        "                                   validation_data=(xTestGender, yTestGender),\n",
        "                                   batch_size=16,\n",
        "                                   class_weight=classWeightsGender,\n",
        "                                   callbacks=keras_callbacks1, \n",
        "                                   epochs=100,\n",
        "                                   verbose=2)"
      ],
      "execution_count": 0,
      "outputs": [
        {
          "output_type": "stream",
          "text": [
            "Train on 2808 samples, validate on 1204 samples\n",
            "Epoch 1/100\n",
            " - 30s - loss: 0.6638 - acc: 0.8095 - val_loss: 0.3389 - val_acc: 0.9161\n",
            "Epoch 2/100\n",
            " - 29s - loss: 0.1716 - acc: 0.9184 - val_loss: 0.3141 - val_acc: 0.9178\n",
            "Epoch 3/100\n",
            " - 29s - loss: 0.0847 - acc: 0.9448 - val_loss: 0.1431 - val_acc: 0.9535\n",
            "Epoch 4/100\n",
            " - 29s - loss: 0.0550 - acc: 0.9580 - val_loss: 0.1942 - val_acc: 0.9527\n",
            "Epoch 5/100\n",
            " - 29s - loss: 0.0418 - acc: 0.9683 - val_loss: 0.1159 - val_acc: 0.9684\n",
            "Epoch 6/100\n",
            " - 29s - loss: 0.0282 - acc: 0.9786 - val_loss: 0.1635 - val_acc: 0.9502\n",
            "Epoch 7/100\n",
            " - 29s - loss: 0.0297 - acc: 0.9833 - val_loss: 0.1850 - val_acc: 0.9610\n",
            "Epoch 8/100\n",
            " - 29s - loss: 0.0379 - acc: 0.9747 - val_loss: 0.1513 - val_acc: 0.9601\n",
            "Epoch 9/100\n",
            " - 29s - loss: 0.0231 - acc: 0.9833 - val_loss: 0.1225 - val_acc: 0.9668\n",
            "Epoch 10/100\n",
            " - 29s - loss: 0.0293 - acc: 0.9833 - val_loss: 0.2265 - val_acc: 0.9510\n",
            "Epoch 11/100\n",
            " - 29s - loss: 0.0211 - acc: 0.9815 - val_loss: 0.1819 - val_acc: 0.9601\n",
            "Epoch 12/100\n",
            " - 29s - loss: 0.0264 - acc: 0.9808 - val_loss: 0.3675 - val_acc: 0.9352\n",
            "Epoch 13/100\n",
            " - 29s - loss: 0.0353 - acc: 0.9776 - val_loss: 0.2046 - val_acc: 0.9560\n",
            "Epoch 14/100\n",
            " - 29s - loss: 0.0269 - acc: 0.9801 - val_loss: 0.2184 - val_acc: 0.9510\n",
            "Epoch 15/100\n",
            " - 29s - loss: 0.0235 - acc: 0.9822 - val_loss: 0.4552 - val_acc: 0.9169\n",
            "Epoch 16/100\n",
            " - 29s - loss: 0.0305 - acc: 0.9758 - val_loss: 0.5695 - val_acc: 0.9128\n",
            "Epoch 17/100\n",
            " - 29s - loss: 0.0220 - acc: 0.9858 - val_loss: 0.2019 - val_acc: 0.9618\n",
            "Epoch 18/100\n",
            " - 29s - loss: 0.0229 - acc: 0.9854 - val_loss: 0.2231 - val_acc: 0.9643\n",
            "Epoch 19/100\n",
            " - 29s - loss: 0.0282 - acc: 0.9818 - val_loss: 0.2024 - val_acc: 0.9626\n",
            "Epoch 20/100\n",
            " - 29s - loss: 0.0177 - acc: 0.9865 - val_loss: 0.1888 - val_acc: 0.9643\n",
            "Epoch 21/100\n",
            " - 29s - loss: 0.0174 - acc: 0.9893 - val_loss: 0.2911 - val_acc: 0.9527\n",
            "Epoch 22/100\n",
            " - 29s - loss: 0.0193 - acc: 0.9907 - val_loss: 0.2808 - val_acc: 0.9502\n",
            "Epoch 23/100\n",
            " - 29s - loss: 0.0165 - acc: 0.9879 - val_loss: 0.2485 - val_acc: 0.9626\n",
            "Epoch 24/100\n",
            " - 29s - loss: 0.0322 - acc: 0.9815 - val_loss: 0.2810 - val_acc: 0.9535\n",
            "Epoch 25/100\n",
            " - 29s - loss: 0.0225 - acc: 0.9893 - val_loss: 0.3915 - val_acc: 0.9360\n"
          ],
          "name": "stdout"
        }
      ]
    },
    {
      "cell_type": "code",
      "metadata": {
        "id": "gFM4p-sKW8BT",
        "colab_type": "code",
        "outputId": "d47442fe-10f9-448b-abf8-ba6962f4f3c7",
        "colab": {
          "base_uri": "https://localhost:8080/",
          "height": 87
        }
      },
      "source": [
        "train_scores_cnn = cnnModelGender.evaluate(xTrainGender, yTrainGender, verbose=2)\n",
        "print('Train loss:', train_scores_cnn[0])\n",
        "print('Train accuracy:', train_scores_cnn[1])\n",
        "test_scores_cnn = cnnModelGender.evaluate(xTestGender, yTestGender, verbose=2)\n",
        "print('Test loss:', test_scores_cnn[0])\n",
        "print('Test accuracy:', test_scores_cnn[1])"
      ],
      "execution_count": 0,
      "outputs": [
        {
          "output_type": "stream",
          "text": [
            "Train loss: 0.021124311328042513\n",
            "Train accuracy: 0.9921652419954283\n",
            "Test loss: 0.39154878380148367\n",
            "Test accuracy: 0.936046511825929\n"
          ],
          "name": "stdout"
        }
      ]
    },
    {
      "cell_type": "code",
      "metadata": {
        "id": "YbZFlL5gXoai",
        "colab_type": "code",
        "outputId": "af994148-0a31-4d40-aafa-f9e480a2c617",
        "colab": {
          "base_uri": "https://localhost:8080/",
          "height": 87
        }
      },
      "source": [
        "modelTest1 = load_model(checkpointPath1)\n",
        "train1 = modelTest1.evaluate(xTrainGender, yTrainGender, verbose=2)\n",
        "print('Train loss:', train1[0])\n",
        "print('Train accuracy:', train1[1])\n",
        "test1 = modelTest1.evaluate(xTestGender, yTestGender, verbose=2)\n",
        "print('Test loss:', test1[0])\n",
        "print('Test accuracy:', test1[1])"
      ],
      "execution_count": 0,
      "outputs": [
        {
          "output_type": "stream",
          "text": [
            "Train loss: 0.01884487562579371\n",
            "Train accuracy: 0.9939458689458689\n",
            "Test loss: 0.11590494257568125\n",
            "Test accuracy: 0.96843853820598\n"
          ],
          "name": "stdout"
        }
      ]
    },
    {
      "cell_type": "code",
      "metadata": {
        "id": "2VOHkK-rW8D5",
        "colab_type": "code",
        "outputId": "c1ec14f8-ea4c-4cc3-aab3-f3a7b9dd816e",
        "colab": {
          "base_uri": "https://localhost:8080/",
          "height": 503
        }
      },
      "source": [
        "cnnModelGender.summary()"
      ],
      "execution_count": 0,
      "outputs": [
        {
          "output_type": "stream",
          "text": [
            "Model: \"sequential_6\"\n",
            "_________________________________________________________________\n",
            "Layer (type)                 Output Shape              Param #   \n",
            "=================================================================\n",
            "conv2d_11 (Conv2D)           (None, 148, 148, 8)       80        \n",
            "_________________________________________________________________\n",
            "batch_normalization_3 (Batch (None, 148, 148, 8)       32        \n",
            "_________________________________________________________________\n",
            "max_pooling2d_11 (MaxPooling (None, 74, 74, 8)         0         \n",
            "_________________________________________________________________\n",
            "conv2d_12 (Conv2D)           (None, 72, 72, 16)        1168      \n",
            "_________________________________________________________________\n",
            "batch_normalization_4 (Batch (None, 72, 72, 16)        64        \n",
            "_________________________________________________________________\n",
            "max_pooling2d_12 (MaxPooling (None, 36, 36, 16)        0         \n",
            "_________________________________________________________________\n",
            "flatten_6 (Flatten)          (None, 20736)             0         \n",
            "_________________________________________________________________\n",
            "dense_11 (Dense)             (None, 128)               2654336   \n",
            "_________________________________________________________________\n",
            "dropout_6 (Dropout)          (None, 128)               0         \n",
            "_________________________________________________________________\n",
            "dense_12 (Dense)             (None, 1)                 129       \n",
            "=================================================================\n",
            "Total params: 2,655,809\n",
            "Trainable params: 2,655,761\n",
            "Non-trainable params: 48\n",
            "_________________________________________________________________\n"
          ],
          "name": "stdout"
        }
      ]
    },
    {
      "cell_type": "code",
      "metadata": {
        "id": "MMWiBgIuXYYV",
        "colab_type": "code",
        "outputId": "21d8753a-0253-4768-affd-a8aad867efe4",
        "colab": {
          "base_uri": "https://localhost:8080/",
          "height": 265
        }
      },
      "source": [
        "plt.plot(historyGender.history['loss'], label='Train loss')\n",
        "plt.plot(historyGender.history['val_loss'], label='Val Loss')\n",
        "plt.legend();"
      ],
      "execution_count": 0,
      "outputs": [
        {
          "output_type": "display_data",
          "data": {
            "image/png": "[encoded data removed]",
            "text/plain": [
              "<Figure size 432x288 with 1 Axes>"
            ]
          },
          "metadata": {
            "tags": []
          }
        }
      ]
    },
    {
      "cell_type": "code",
      "metadata": {
        "id": "1PRypg0vXYd1",
        "colab_type": "code",
        "outputId": "a0d54093-88db-4db7-b633-8a4209b3a792",
        "colab": {
          "base_uri": "https://localhost:8080/",
          "height": 265
        }
      },
      "source": [
        "plt.plot(historyGender.history['acc'], label='Train accuracy')\n",
        "plt.plot(historyGender.history['val_acc'], label='Val accuracy')\n",
        "plt.legend();"
      ],
      "execution_count": 0,
      "outputs": [
        {
          "output_type": "display_data",
          "data": {
            "image/png": "[encoded data removed]",
            "text/plain": [
              "<Figure size 432x288 with 1 Axes>"
            ]
          },
          "metadata": {
            "tags": []
          }
        }
      ]
    },
    {
      "cell_type": "code",
      "metadata": {
        "id": "F-44FGJOXYbK",
        "colab_type": "code",
        "colab": {}
      },
      "source": [
        ""
      ],
      "execution_count": 0,
      "outputs": []
    },
    {
      "cell_type": "code",
      "metadata": {
        "id": "XlIe3hwiW8G7",
        "colab_type": "code",
        "colab": {}
      },
      "source": [
        ""
      ],
      "execution_count": 0,
      "outputs": []
    }
  ]
}