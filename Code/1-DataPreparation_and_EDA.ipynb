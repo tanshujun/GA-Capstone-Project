{
  "nbformat": 4,
  "nbformat_minor": 0,
  "metadata": {
    "colab": {
      "name": "DataPreparation and EDA.ipynb",
      "provenance": [],
      "collapsed_sections": [],
      "machine_shape": "hm"
    },
    "kernelspec": {
      "name": "python3",
      "display_name": "Python 3"
    },
    "accelerator": "GPU"
  },
  "cells": [
    {
      "cell_type": "code",
      "metadata": {
        "id": "BYelsCRcwxrK",
        "colab_type": "code",
        "outputId": "40e098c9-ee73-4fbe-8088-2c7ec7d0f17a",
        "colab": {
          "base_uri": "https://localhost:8080/",
          "height": 81
        }
      },
      "source": [
        "#Import libraries\n",
        "import numpy as np\n",
        "np.random.seed(42)\n",
        "from sklearn.model_selection import train_test_split\n",
        "import matplotlib.pyplot as plt\n",
        "%matplotlib inline\n",
        "import cv2\n",
        "import os\n",
        "import pandas as pd\n",
        "from google.colab.patches import cv2_imshow\n",
        "from keras.utils import to_categorical\n",
        "import warnings\n",
        "warnings.filterwarnings(\"ignore\")"
      ],
      "execution_count": 0,
      "outputs": [
        {
          "output_type": "stream",
          "text": [
            "Using TensorFlow backend.\n"
          ],
          "name": "stderr"
        },
        {
          "output_type": "display_data",
          "data": {
            "text/html": [
              "<p style=\"color: red;\">\n",
              "The default version of TensorFlow in Colab will soon switch to TensorFlow 2.x.<br>\n",
              "We recommend you <a href=\"https://www.tensorflow.org/guide/migrate\" target=\"_blank\">upgrade</a> now \n",
              "or ensure your notebook will continue to use TensorFlow 1.x via the <code>%tensorflow_version 1.x</code> magic:\n",
              "<a href=\"https://colab.research.google.com/notebooks/tensorflow_version.ipynb\" target=\"_blank\">more info</a>.</p>\n"
            ],
            "text/plain": [
              "<IPython.core.display.HTML object>"
            ]
          },
          "metadata": {
            "tags": []
          }
        }
      ]
    },
    {
      "cell_type": "markdown",
      "metadata": {
        "id": "h6tQU3_xQzMW",
        "colab_type": "text"
      },
      "source": [
        "Data Cleaning and Pre-processing"
      ]
    },
    {
      "cell_type": "code",
      "metadata": {
        "id": "plScoGmLxUl_",
        "colab_type": "code",
        "outputId": "bc3ded81-6054-4b66-ccd7-2d445444ffe0",
        "colab": {
          "base_uri": "https://localhost:8080/",
          "height": 280
        }
      },
      "source": [
        "!pip install mtcnn"
      ],
      "execution_count": 0,
      "outputs": [
        {
          "output_type": "stream",
          "text": [
            "Collecting mtcnn\n",
            "\u001b[?25l  Downloading https://files.pythonhosted.org/packages/67/43/abee91792797c609c1bf30f1112117f7a87a713ebaa6ec5201d5555a73ef/mtcnn-0.1.0-py3-none-any.whl (2.3MB)\n",
            "\r\u001b[K     |▏                               | 10kB 28.1MB/s eta 0:00:01\r\u001b[K     |▎                               | 20kB 5.8MB/s eta 0:00:01\r\u001b[K     |▍                               | 30kB 8.3MB/s eta 0:00:01\r\u001b[K     |▋                               | 40kB 5.5MB/s eta 0:00:01\r\u001b[K     |▊                               | 51kB 6.7MB/s eta 0:00:01\r\u001b[K     |▉                               | 61kB 7.9MB/s eta 0:00:01\r\u001b[K     |█                               | 71kB 9.0MB/s eta 0:00:01\r\u001b[K     |█▏                              | 81kB 10.0MB/s eta 0:00:01\r\u001b[K     |█▎                              | 92kB 11.1MB/s eta 0:00:01\r\u001b[K     |█▌                              | 102kB 8.8MB/s eta 0:00:01\r\u001b[K     |█▋                              | 112kB 8.8MB/s eta 0:00:01\r\u001b[K     |█▊                              | 122kB 8.8MB/s eta 0:00:01\r\u001b[K     |█▉                              | 133kB 8.8MB/s eta 0:00:01\r\u001b[K     |██                              | 143kB 8.8MB/s eta 0:00:01\r\u001b[K     |██▏                             | 153kB 8.8MB/s eta 0:00:01\r\u001b[K     |██▎                             | 163kB 8.8MB/s eta 0:00:01\r\u001b[K     |██▌                             | 174kB 8.8MB/s eta 0:00:01\r\u001b[K     |██▋                             | 184kB 8.8MB/s eta 0:00:01\r\u001b[K     |██▊                             | 194kB 8.8MB/s eta 0:00:01\r\u001b[K     |███                             | 204kB 8.8MB/s eta 0:00:01\r\u001b[K     |███                             | 215kB 8.8MB/s eta 0:00:01\r\u001b[K     |███▏                            | 225kB 8.8MB/s eta 0:00:01\r\u001b[K     |███▍                            | 235kB 8.8MB/s eta 0:00:01\r\u001b[K     |███▌                            | 245kB 8.8MB/s eta 0:00:01\r\u001b[K     |███▋                            | 256kB 8.8MB/s eta 0:00:01\r\u001b[K     |███▊                            | 266kB 8.8MB/s eta 0:00:01\r\u001b[K     |████                            | 276kB 8.8MB/s eta 0:00:01\r\u001b[K     |████                            | 286kB 8.8MB/s eta 0:00:01\r\u001b[K     |████▏                           | 296kB 8.8MB/s eta 0:00:01\r\u001b[K     |████▍                           | 307kB 8.8MB/s eta 0:00:01\r\u001b[K     |████▌                           | 317kB 8.8MB/s eta 0:00:01\r\u001b[K     |████▋                           | 327kB 8.8MB/s eta 0:00:01\r\u001b[K     |████▉                           | 337kB 8.8MB/s eta 0:00:01\r\u001b[K     |█████                           | 348kB 8.8MB/s eta 0:00:01\r\u001b[K     |█████                           | 358kB 8.8MB/s eta 0:00:01\r\u001b[K     |█████▏                          | 368kB 8.8MB/s eta 0:00:01\r\u001b[K     |█████▍                          | 378kB 8.8MB/s eta 0:00:01\r\u001b[K     |█████▌                          | 389kB 8.8MB/s eta 0:00:01\r\u001b[K     |█████▋                          | 399kB 8.8MB/s eta 0:00:01\r\u001b[K     |█████▉                          | 409kB 8.8MB/s eta 0:00:01\r\u001b[K     |██████                          | 419kB 8.8MB/s eta 0:00:01\r\u001b[K     |██████                          | 430kB 8.8MB/s eta 0:00:01\r\u001b[K     |██████▎                         | 440kB 8.8MB/s eta 0:00:01\r\u001b[K     |██████▍                         | 450kB 8.8MB/s eta 0:00:01\r\u001b[K     |██████▌                         | 460kB 8.8MB/s eta 0:00:01\r\u001b[K     |██████▊                         | 471kB 8.8MB/s eta 0:00:01\r\u001b[K     |██████▉                         | 481kB 8.8MB/s eta 0:00:01\r\u001b[K     |███████                         | 491kB 8.8MB/s eta 0:00:01\r\u001b[K     |███████                         | 501kB 8.8MB/s eta 0:00:01\r\u001b[K     |███████▎                        | 512kB 8.8MB/s eta 0:00:01\r\u001b[K     |███████▍                        | 522kB 8.8MB/s eta 0:00:01\r\u001b[K     |███████▌                        | 532kB 8.8MB/s eta 0:00:01\r\u001b[K     |███████▊                        | 542kB 8.8MB/s eta 0:00:01\r\u001b[K     |███████▉                        | 552kB 8.8MB/s eta 0:00:01\r\u001b[K     |████████                        | 563kB 8.8MB/s eta 0:00:01\r\u001b[K     |████████▏                       | 573kB 8.8MB/s eta 0:00:01\r\u001b[K     |████████▎                       | 583kB 8.8MB/s eta 0:00:01\r\u001b[K     |████████▍                       | 593kB 8.8MB/s eta 0:00:01\r\u001b[K     |████████▌                       | 604kB 8.8MB/s eta 0:00:01\r\u001b[K     |████████▊                       | 614kB 8.8MB/s eta 0:00:01\r\u001b[K     |████████▉                       | 624kB 8.8MB/s eta 0:00:01\r\u001b[K     |█████████                       | 634kB 8.8MB/s eta 0:00:01\r\u001b[K     |█████████▏                      | 645kB 8.8MB/s eta 0:00:01\r\u001b[K     |█████████▎                      | 655kB 8.8MB/s eta 0:00:01\r\u001b[K     |█████████▍                      | 665kB 8.8MB/s eta 0:00:01\r\u001b[K     |█████████▋                      | 675kB 8.8MB/s eta 0:00:01\r\u001b[K     |█████████▊                      | 686kB 8.8MB/s eta 0:00:01\r\u001b[K     |█████████▉                      | 696kB 8.8MB/s eta 0:00:01\r\u001b[K     |██████████                      | 706kB 8.8MB/s eta 0:00:01\r\u001b[K     |██████████▏                     | 716kB 8.8MB/s eta 0:00:01\r\u001b[K     |██████████▎                     | 727kB 8.8MB/s eta 0:00:01\r\u001b[K     |██████████▍                     | 737kB 8.8MB/s eta 0:00:01\r\u001b[K     |██████████▋                     | 747kB 8.8MB/s eta 0:00:01\r\u001b[K     |██████████▊                     | 757kB 8.8MB/s eta 0:00:01\r\u001b[K     |██████████▉                     | 768kB 8.8MB/s eta 0:00:01\r\u001b[K     |███████████                     | 778kB 8.8MB/s eta 0:00:01\r\u001b[K     |███████████▏                    | 788kB 8.8MB/s eta 0:00:01\r\u001b[K     |███████████▎                    | 798kB 8.8MB/s eta 0:00:01\r\u001b[K     |███████████▌                    | 808kB 8.8MB/s eta 0:00:01\r\u001b[K     |███████████▋                    | 819kB 8.8MB/s eta 0:00:01\r\u001b[K     |███████████▊                    | 829kB 8.8MB/s eta 0:00:01\r\u001b[K     |███████████▉                    | 839kB 8.8MB/s eta 0:00:01\r\u001b[K     |████████████                    | 849kB 8.8MB/s eta 0:00:01\r\u001b[K     |████████████▏                   | 860kB 8.8MB/s eta 0:00:01\r\u001b[K     |████████████▎                   | 870kB 8.8MB/s eta 0:00:01\r\u001b[K     |████████████▌                   | 880kB 8.8MB/s eta 0:00:01\r\u001b[K     |████████████▋                   | 890kB 8.8MB/s eta 0:00:01\r\u001b[K     |████████████▊                   | 901kB 8.8MB/s eta 0:00:01\r\u001b[K     |█████████████                   | 911kB 8.8MB/s eta 0:00:01\r\u001b[K     |█████████████                   | 921kB 8.8MB/s eta 0:00:01\r\u001b[K     |█████████████▏                  | 931kB 8.8MB/s eta 0:00:01\r\u001b[K     |█████████████▍                  | 942kB 8.8MB/s eta 0:00:01\r\u001b[K     |█████████████▌                  | 952kB 8.8MB/s eta 0:00:01\r\u001b[K     |█████████████▋                  | 962kB 8.8MB/s eta 0:00:01\r\u001b[K     |█████████████▊                  | 972kB 8.8MB/s eta 0:00:01\r\u001b[K     |██████████████                  | 983kB 8.8MB/s eta 0:00:01\r\u001b[K     |██████████████                  | 993kB 8.8MB/s eta 0:00:01\r\u001b[K     |██████████████▏                 | 1.0MB 8.8MB/s eta 0:00:01\r\u001b[K     |██████████████▍                 | 1.0MB 8.8MB/s eta 0:00:01\r\u001b[K     |██████████████▌                 | 1.0MB 8.8MB/s eta 0:00:01\r\u001b[K     |██████████████▋                 | 1.0MB 8.8MB/s eta 0:00:01\r\u001b[K     |██████████████▉                 | 1.0MB 8.8MB/s eta 0:00:01\r\u001b[K     |███████████████                 | 1.1MB 8.8MB/s eta 0:00:01\r\u001b[K     |███████████████                 | 1.1MB 8.8MB/s eta 0:00:01\r\u001b[K     |███████████████▏                | 1.1MB 8.8MB/s eta 0:00:01\r\u001b[K     |███████████████▍                | 1.1MB 8.8MB/s eta 0:00:01\r\u001b[K     |███████████████▌                | 1.1MB 8.8MB/s eta 0:00:01\r\u001b[K     |███████████████▋                | 1.1MB 8.8MB/s eta 0:00:01\r\u001b[K     |███████████████▉                | 1.1MB 8.8MB/s eta 0:00:01\r\u001b[K     |████████████████                | 1.1MB 8.8MB/s eta 0:00:01\r\u001b[K     |████████████████                | 1.1MB 8.8MB/s eta 0:00:01\r\u001b[K     |████████████████▎               | 1.1MB 8.8MB/s eta 0:00:01\r\u001b[K     |████████████████▍               | 1.2MB 8.8MB/s eta 0:00:01\r\u001b[K     |████████████████▌               | 1.2MB 8.8MB/s eta 0:00:01\r\u001b[K     |████████████████▊               | 1.2MB 8.8MB/s eta 0:00:01\r\u001b[K     |████████████████▉               | 1.2MB 8.8MB/s eta 0:00:01\r\u001b[K     |█████████████████               | 1.2MB 8.8MB/s eta 0:00:01\r\u001b[K     |█████████████████               | 1.2MB 8.8MB/s eta 0:00:01\r\u001b[K     |█████████████████▎              | 1.2MB 8.8MB/s eta 0:00:01\r\u001b[K     |█████████████████▍              | 1.2MB 8.8MB/s eta 0:00:01\r\u001b[K     |█████████████████▌              | 1.2MB 8.8MB/s eta 0:00:01\r\u001b[K     |█████████████████▊              | 1.2MB 8.8MB/s eta 0:00:01\r\u001b[K     |█████████████████▉              | 1.3MB 8.8MB/s eta 0:00:01\r\u001b[K     |██████████████████              | 1.3MB 8.8MB/s eta 0:00:01\r\u001b[K     |██████████████████▏             | 1.3MB 8.8MB/s eta 0:00:01\r\u001b[K     |██████████████████▎             | 1.3MB 8.8MB/s eta 0:00:01\r\u001b[K     |██████████████████▍             | 1.3MB 8.8MB/s eta 0:00:01\r\u001b[K     |██████████████████▋             | 1.3MB 8.8MB/s eta 0:00:01\r\u001b[K     |██████████████████▊             | 1.3MB 8.8MB/s eta 0:00:01\r\u001b[K     |██████████████████▉             | 1.3MB 8.8MB/s eta 0:00:01\r\u001b[K     |███████████████████             | 1.3MB 8.8MB/s eta 0:00:01\r\u001b[K     |███████████████████▏            | 1.4MB 8.8MB/s eta 0:00:01\r\u001b[K     |███████████████████▎            | 1.4MB 8.8MB/s eta 0:00:01\r\u001b[K     |███████████████████▍            | 1.4MB 8.8MB/s eta 0:00:01\r\u001b[K     |███████████████████▋            | 1.4MB 8.8MB/s eta 0:00:01\r\u001b[K     |███████████████████▊            | 1.4MB 8.8MB/s eta 0:00:01\r\u001b[K     |███████████████████▉            | 1.4MB 8.8MB/s eta 0:00:01\r\u001b[K     |████████████████████            | 1.4MB 8.8MB/s eta 0:00:01\r\u001b[K     |████████████████████▏           | 1.4MB 8.8MB/s eta 0:00:01\r\u001b[K     |████████████████████▎           | 1.4MB 8.8MB/s eta 0:00:01\r\u001b[K     |████████████████████▍           | 1.4MB 8.8MB/s eta 0:00:01\r\u001b[K     |████████████████████▋           | 1.5MB 8.8MB/s eta 0:00:01\r\u001b[K     |████████████████████▊           | 1.5MB 8.8MB/s eta 0:00:01\r\u001b[K     |████████████████████▉           | 1.5MB 8.8MB/s eta 0:00:01\r\u001b[K     |█████████████████████           | 1.5MB 8.8MB/s eta 0:00:01\r\u001b[K     |█████████████████████▏          | 1.5MB 8.8MB/s eta 0:00:01\r\u001b[K     |█████████████████████▎          | 1.5MB 8.8MB/s eta 0:00:01\r\u001b[K     |█████████████████████▌          | 1.5MB 8.8MB/s eta 0:00:01\r\u001b[K     |█████████████████████▋          | 1.5MB 8.8MB/s eta 0:00:01\r\u001b[K     |█████████████████████▊          | 1.5MB 8.8MB/s eta 0:00:01\r\u001b[K     |██████████████████████          | 1.5MB 8.8MB/s eta 0:00:01\r\u001b[K     |██████████████████████          | 1.6MB 8.8MB/s eta 0:00:01\r\u001b[K     |██████████████████████▏         | 1.6MB 8.8MB/s eta 0:00:01\r\u001b[K     |██████████████████████▎         | 1.6MB 8.8MB/s eta 0:00:01\r\u001b[K     |██████████████████████▌         | 1.6MB 8.8MB/s eta 0:00:01\r\u001b[K     |██████████████████████▋         | 1.6MB 8.8MB/s eta 0:00:01\r\u001b[K     |██████████████████████▊         | 1.6MB 8.8MB/s eta 0:00:01\r\u001b[K     |███████████████████████         | 1.6MB 8.8MB/s eta 0:00:01\r\u001b[K     |███████████████████████         | 1.6MB 8.8MB/s eta 0:00:01\r\u001b[K     |███████████████████████▏        | 1.6MB 8.8MB/s eta 0:00:01\r\u001b[K     |███████████████████████▍        | 1.6MB 8.8MB/s eta 0:00:01\r\u001b[K     |███████████████████████▌        | 1.7MB 8.8MB/s eta 0:00:01\r\u001b[K     |███████████████████████▋        | 1.7MB 8.8MB/s eta 0:00:01\r\u001b[K     |███████████████████████▊        | 1.7MB 8.8MB/s eta 0:00:01\r\u001b[K     |████████████████████████        | 1.7MB 8.8MB/s eta 0:00:01\r\u001b[K     |████████████████████████        | 1.7MB 8.8MB/s eta 0:00:01\r\u001b[K     |████████████████████████▏       | 1.7MB 8.8MB/s eta 0:00:01\r\u001b[K     |████████████████████████▍       | 1.7MB 8.8MB/s eta 0:00:01\r\u001b[K     |████████████████████████▌       | 1.7MB 8.8MB/s eta 0:00:01\r\u001b[K     |████████████████████████▋       | 1.7MB 8.8MB/s eta 0:00:01\r\u001b[K     |████████████████████████▉       | 1.8MB 8.8MB/s eta 0:00:01\r\u001b[K     |█████████████████████████       | 1.8MB 8.8MB/s eta 0:00:01\r\u001b[K     |█████████████████████████       | 1.8MB 8.8MB/s eta 0:00:01\r\u001b[K     |█████████████████████████▎      | 1.8MB 8.8MB/s eta 0:00:01\r\u001b[K     |█████████████████████████▍      | 1.8MB 8.8MB/s eta 0:00:01\r\u001b[K     |█████████████████████████▌      | 1.8MB 8.8MB/s eta 0:00:01\r\u001b[K     |█████████████████████████▋      | 1.8MB 8.8MB/s eta 0:00:01\r\u001b[K     |█████████████████████████▉      | 1.8MB 8.8MB/s eta 0:00:01\r\u001b[K     |██████████████████████████      | 1.8MB 8.8MB/s eta 0:00:01\r\u001b[K     |██████████████████████████      | 1.8MB 8.8MB/s eta 0:00:01\r\u001b[K     |██████████████████████████▎     | 1.9MB 8.8MB/s eta 0:00:01\r\u001b[K     |██████████████████████████▍     | 1.9MB 8.8MB/s eta 0:00:01\r\u001b[K     |██████████████████████████▌     | 1.9MB 8.8MB/s eta 0:00:01\r\u001b[K     |██████████████████████████▊     | 1.9MB 8.8MB/s eta 0:00:01\r\u001b[K     |██████████████████████████▉     | 1.9MB 8.8MB/s eta 0:00:01\r\u001b[K     |███████████████████████████     | 1.9MB 8.8MB/s eta 0:00:01\r\u001b[K     |███████████████████████████     | 1.9MB 8.8MB/s eta 0:00:01\r\u001b[K     |███████████████████████████▎    | 1.9MB 8.8MB/s eta 0:00:01\r\u001b[K     |███████████████████████████▍    | 1.9MB 89kB/s eta 0:00:04\r\u001b[K     |███████████████████████████▌    | 1.9MB 89kB/s eta 0:00:04\r\u001b[K     |███████████████████████████▊    | 2.0MB 89kB/s eta 0:00:04\r\u001b[K     |███████████████████████████▉    | 2.0MB 89kB/s eta 0:00:04\r\u001b[K     |████████████████████████████    | 2.0MB 89kB/s eta 0:00:04\r\u001b[K     |████████████████████████████▏   | 2.0MB 89kB/s eta 0:00:04\r\u001b[K     |████████████████████████████▎   | 2.0MB 89kB/s eta 0:00:03\r\u001b[K     |████████████████████████████▍   | 2.0MB 89kB/s eta 0:00:03\r\u001b[K     |████████████████████████████▋   | 2.0MB 89kB/s eta 0:00:03\r\u001b[K     |████████████████████████████▊   | 2.0MB 89kB/s eta 0:00:03\r\u001b[K     |████████████████████████████▉   | 2.0MB 89kB/s eta 0:00:03\r\u001b[K     |█████████████████████████████   | 2.0MB 89kB/s eta 0:00:03\r\u001b[K     |█████████████████████████████▏  | 2.1MB 89kB/s eta 0:00:03\r\u001b[K     |█████████████████████████████▎  | 2.1MB 89kB/s eta 0:00:03\r\u001b[K     |█████████████████████████████▍  | 2.1MB 89kB/s eta 0:00:03\r\u001b[K     |█████████████████████████████▋  | 2.1MB 89kB/s eta 0:00:02\r\u001b[K     |█████████████████████████████▊  | 2.1MB 89kB/s eta 0:00:02\r\u001b[K     |█████████████████████████████▉  | 2.1MB 89kB/s eta 0:00:02\r\u001b[K     |██████████████████████████████  | 2.1MB 89kB/s eta 0:00:02\r\u001b[K     |██████████████████████████████▏ | 2.1MB 89kB/s eta 0:00:02\r\u001b[K     |██████████████████████████████▎ | 2.1MB 89kB/s eta 0:00:02\r\u001b[K     |██████████████████████████████▍ | 2.2MB 89kB/s eta 0:00:02\r\u001b[K     |██████████████████████████████▋ | 2.2MB 89kB/s eta 0:00:02\r\u001b[K     |██████████████████████████████▊ | 2.2MB 89kB/s eta 0:00:01\r\u001b[K     |██████████████████████████████▉ | 2.2MB 89kB/s eta 0:00:01\r\u001b[K     |███████████████████████████████ | 2.2MB 89kB/s eta 0:00:01\r\u001b[K     |███████████████████████████████▏| 2.2MB 89kB/s eta 0:00:01\r\u001b[K     |███████████████████████████████▎| 2.2MB 89kB/s eta 0:00:01\r\u001b[K     |███████████████████████████████▌| 2.2MB 89kB/s eta 0:00:01\r\u001b[K     |███████████████████████████████▋| 2.2MB 89kB/s eta 0:00:01\r\u001b[K     |███████████████████████████████▊| 2.2MB 89kB/s eta 0:00:01\r\u001b[K     |████████████████████████████████| 2.3MB 89kB/s eta 0:00:01\r\u001b[K     |████████████████████████████████| 2.3MB 89kB/s \n",
            "\u001b[?25hRequirement already satisfied: keras>=2.0.0 in /usr/local/lib/python3.6/dist-packages (from mtcnn) (2.2.5)\n",
            "Requirement already satisfied: opencv-python>=4.1.0 in /usr/local/lib/python3.6/dist-packages (from mtcnn) (4.1.2.30)\n",
            "Requirement already satisfied: scipy>=0.14 in /usr/local/lib/python3.6/dist-packages (from keras>=2.0.0->mtcnn) (1.3.3)\n",
            "Requirement already satisfied: pyyaml in /usr/local/lib/python3.6/dist-packages (from keras>=2.0.0->mtcnn) (3.13)\n",
            "Requirement already satisfied: keras-preprocessing>=1.1.0 in /usr/local/lib/python3.6/dist-packages (from keras>=2.0.0->mtcnn) (1.1.0)\n",
            "Requirement already satisfied: numpy>=1.9.1 in /usr/local/lib/python3.6/dist-packages (from keras>=2.0.0->mtcnn) (1.17.4)\n",
            "Requirement already satisfied: six>=1.9.0 in /usr/local/lib/python3.6/dist-packages (from keras>=2.0.0->mtcnn) (1.12.0)\n",
            "Requirement already satisfied: h5py in /usr/local/lib/python3.6/dist-packages (from keras>=2.0.0->mtcnn) (2.8.0)\n",
            "Requirement already satisfied: keras-applications>=1.0.8 in /usr/local/lib/python3.6/dist-packages (from keras>=2.0.0->mtcnn) (1.0.8)\n",
            "Installing collected packages: mtcnn\n",
            "Successfully installed mtcnn-0.1.0\n"
          ],
          "name": "stdout"
        }
      ]
    },
    {
      "cell_type": "code",
      "metadata": {
        "id": "l1Jre6ICxUq1",
        "colab_type": "code",
        "outputId": "1528ab33-7898-45fd-9f3b-129b6ffbedec",
        "colab": {
          "base_uri": "https://localhost:8080/",
          "height": 124
        }
      },
      "source": [
        "#Mount to google drive for easy access to files for import/export\n",
        "from google.colab import drive\n",
        "drive.mount('/content/gdrive')"
      ],
      "execution_count": 0,
      "outputs": [
        {
          "output_type": "stream",
          "text": [
            "Go to this URL in a browser: https://accounts.google.com/o/oauth2/auth?client_id=947318989803-6bn6qk8qdgf4n4g3pfee6491hc0brc4i.apps.googleusercontent.com&redirect_uri=urn%3aietf%3awg%3aoauth%3a2.0%3aoob&response_type=code&scope=email%20https%3a%2f%2fwww.googleapis.com%2fauth%2fdocs.test%20https%3a%2f%2fwww.googleapis.com%2fauth%2fdrive%20https%3a%2f%2fwww.googleapis.com%2fauth%2fdrive.photos.readonly%20https%3a%2f%2fwww.googleapis.com%2fauth%2fpeopleapi.readonly\n",
            "\n",
            "Enter your authorization code:\n",
            "··········\n",
            "Mounted at /content/gdrive\n"
          ],
          "name": "stdout"
        }
      ]
    },
    {
      "cell_type": "code",
      "metadata": {
        "id": "KdSoDo70xanF",
        "colab_type": "code",
        "outputId": "26c6183f-a719-46e0-ff33-d2635118297b",
        "colab": {
          "base_uri": "https://localhost:8080/",
          "height": 52
        }
      },
      "source": [
        "#Load SOF images and filename into lists\n",
        "#Filename of each image contains the tags and information about the image\n",
        "images = []\n",
        "names = []\n",
        "\n",
        "for filename in os.listdir('/content/gdrive/My Drive/Google_Collab/original images'):\n",
        "    filename1 = '/content/gdrive/My Drive/Google_Collab/original images/' + filename\n",
        "    picRgb = cv2.imread(filename1, 1)\n",
        "    images.append(picRgb)\n",
        "    names.append(filename)\n",
        "\n",
        "print(len(images))\n",
        "print(len(names))"
      ],
      "execution_count": 0,
      "outputs": [
        {
          "output_type": "stream",
          "text": [
            "2662\n",
            "2662\n"
          ],
          "name": "stdout"
        }
      ]
    },
    {
      "cell_type": "code",
      "metadata": {
        "id": "gOiZMb1lxapa",
        "colab_type": "code",
        "outputId": "16724a92-f604-4689-b4e1-5bcb6480e9be",
        "colab": {
          "base_uri": "https://localhost:8080/",
          "height": 497
        }
      },
      "source": [
        "#Print 101th image to verify that import was successful\n",
        "cv2_imshow(images[100]) "
      ],
      "execution_count": 0,
      "outputs": [
        {
          "output_type": "display_data",
          "data": {
            "image/png": "[encoded data removed]",
            "text/plain": [
              "<PIL.Image.Image image mode=RGB size=640x480 at 0x7F78F623F748>"
            ]
          },
          "metadata": {
            "tags": []
          }
        }
      ]
    },
    {
      "cell_type": "code",
      "metadata": {
        "id": "3N0K5qucx0xz",
        "colab_type": "code",
        "colab": {}
      },
      "source": [
        "images = np.array(images,dtype=np.float32)"
      ],
      "execution_count": 0,
      "outputs": []
    },
    {
      "cell_type": "markdown",
      "metadata": {
        "id": "3Yk3MkRD4beP",
        "colab_type": "text"
      },
      "source": [
        "Use MTCNN pre-trained model to detect and crop the faces from our images. This helps to remove noise from the images, so that the CNN models subsequently only focus on information derived from the faces and features within.\n",
        "- https://github.com/ipazc/mtcnn\n",
        "- https://machinelearningmastery.com/how-to-develop-a-face-recognition-system-using-facenet-in-keras-and-an-svm-classifier/"
      ]
    },
    {
      "cell_type": "code",
      "metadata": {
        "id": "ePm8-HTLx0vp",
        "colab_type": "code",
        "outputId": "929bc153-78f2-490f-e73b-a3a86e9509a4",
        "colab": {
          "base_uri": "https://localhost:8080/",
          "height": 99
        }
      },
      "source": [
        "#Function to detect face from image and crop\n",
        "from mtcnn.mtcnn import MTCNN\n",
        "def detectFace(pic, faceDetected):\n",
        "  detector = MTCNN()\n",
        "  pixels = pic\n",
        "  results = detector.detect_faces(pixels)\n",
        "  if len(results)!=0:\n",
        "    x1, y1, width, height = results[0]['box']\n",
        "    x1, y1 = abs(x1), abs(y1)\n",
        "    x2, y2 = x1 + width, y1 + height\n",
        "    face = pixels[y1:y2, x1:x2]\n",
        "    faceDetected = True\n",
        "    return face, faceDetected\n",
        "  else:\n",
        "    return np.nan, faceDetected"
      ],
      "execution_count": 0,
      "outputs": [
        {
          "output_type": "stream",
          "text": [
            "Using TensorFlow backend.\n"
          ],
          "name": "stderr"
        },
        {
          "output_type": "display_data",
          "data": {
            "text/html": [
              "<p style=\"color: red;\">\n",
              "The default version of TensorFlow in Colab will soon switch to TensorFlow 2.x.<br>\n",
              "We recommend you <a href=\"https://www.tensorflow.org/guide/migrate\" target=\"_blank\">upgrade</a> now \n",
              "or ensure your notebook will continue to use TensorFlow 1.x via the <code>%tensorflow_version 1.x</code> magic:\n",
              "<a href=\"https://colab.research.google.com/notebooks/tensorflow_version.ipynb\" target=\"_blank\">more info</a>.</p>\n"
            ],
            "text/plain": [
              "<IPython.core.display.HTML object>"
            ]
          },
          "metadata": {
            "tags": []
          }
        }
      ]
    },
    {
      "cell_type": "code",
      "metadata": {
        "id": "6aD1RS5ex0sR",
        "colab_type": "code",
        "outputId": "93f81c14-8785-46e8-b928-68e16e6abdd9",
        "colab": {
          "base_uri": "https://localhost:8080/",
          "height": 35
        }
      },
      "source": [
        "#Detect face from image and save cropped face + label to new folder\n",
        "for pic in images:\n",
        "  detection = False\n",
        "  face, detection = detectFace(pic,detection)\n",
        "  if detection==True:\n",
        "    filename = '/content/gdrive/My Drive/Google_Collab/cropped images/'+ names[count]\n",
        "    cv2.imwrite(filename,face)"
      ],
      "execution_count": 0,
      "outputs": [
        {
          "output_type": "stream",
          "text": [
            "Done cropping all images True\n"
          ],
          "name": "stdout"
        }
      ]
    },
    {
      "cell_type": "code",
      "metadata": {
        "id": "BWBy8xa4xatD",
        "colab_type": "code",
        "outputId": "92507078-742b-47ce-85b6-24d1f6967fd9",
        "colab": {
          "base_uri": "https://localhost:8080/",
          "height": 52
        }
      },
      "source": [
        "#Load cropped images (as greyscale) and filename into lists\n",
        "croppedImages = []\n",
        "croppedNames = []\n",
        "\n",
        "for filename in os.listdir('/content/gdrive/My Drive/Google_Collab/cropped images'):\n",
        "    filename1 = '/content/gdrive/My Drive/Google_Collab/cropped images/' + filename\n",
        "    pic = cv2.imread(filename1, 0)\n",
        "    croppedImages.append(pic)\n",
        "    croppedNames.append(filename)\n",
        "\n",
        "print(len(croppedImages))\n",
        "print(len(croppedNames))"
      ],
      "execution_count": 0,
      "outputs": [
        {
          "output_type": "stream",
          "text": [
            "2028\n",
            "2028\n"
          ],
          "name": "stdout"
        }
      ]
    },
    {
      "cell_type": "code",
      "metadata": {
        "id": "SmbE86voyCxt",
        "colab_type": "code",
        "outputId": "1684afe0-2d58-4d7e-dd49-cd6a0922512e",
        "colab": {
          "base_uri": "https://localhost:8080/",
          "height": 35
        }
      },
      "source": [
        "#Remove wrongly cropped images (sort by size)\n",
        "sortedList = sorted(zip(croppedImages,croppedNames), key=lambda x: x[0].shape)\n",
        "del sortedList[:22]\n",
        "len(sortedList)"
      ],
      "execution_count": 0,
      "outputs": [
        {
          "output_type": "execute_result",
          "data": {
            "text/plain": [
              "2006"
            ]
          },
          "metadata": {
            "tags": []
          },
          "execution_count": 4
        }
      ]
    },
    {
      "cell_type": "code",
      "metadata": {
        "id": "L8kR4GsP7N76",
        "colab_type": "code",
        "outputId": "034db326-9d3a-4f67-da73-7fe706daa9db",
        "colab": {
          "base_uri": "https://localhost:8080/",
          "height": 77
        }
      },
      "source": [
        "cv2_imshow(sortedList[0][0]) "
      ],
      "execution_count": 0,
      "outputs": [
        {
          "output_type": "display_data",
          "data": {
            "image/png": "[encoded data removed]",
            "text/plain": [
              "<PIL.Image.Image image mode=L size=48x60 at 0x7EFFE1617630>"
            ]
          },
          "metadata": {
            "tags": []
          }
        }
      ]
    },
    {
      "cell_type": "code",
      "metadata": {
        "id": "ZMi1254oyC08",
        "colab_type": "code",
        "outputId": "609d3d7c-7ab5-4e7e-ec69-1e95f3fb9eba",
        "colab": {
          "base_uri": "https://localhost:8080/",
          "height": 69
        }
      },
      "source": [
        "#Find the median size of image\n",
        "print(sortedList[0][0].shape)\n",
        "print(sortedList[1003][0].shape)\n",
        "print(sortedList[2005][0].shape)"
      ],
      "execution_count": 0,
      "outputs": [
        {
          "output_type": "stream",
          "text": [
            "(60, 48)\n",
            "(158, 116)\n",
            "(477, 340)\n"
          ],
          "name": "stdout"
        }
      ]
    },
    {
      "cell_type": "code",
      "metadata": {
        "id": "tedU4dS1yCvq",
        "colab_type": "code",
        "colab": {}
      },
      "source": [
        "imageSorted = [row[0] for row in sortedList]\n",
        "descriptionSorted = [row[1] for row in sortedList]"
      ],
      "execution_count": 0,
      "outputs": []
    },
    {
      "cell_type": "code",
      "metadata": {
        "id": "5Y-L2yfh7Veg",
        "colab_type": "code",
        "outputId": "7f223340-cc4c-4fca-831c-ac5ef0de4d5d",
        "colab": {
          "base_uri": "https://localhost:8080/",
          "height": 265
        }
      },
      "source": [
        "imageSize = list(map(lambda x: x.shape[0]*x.shape[1],imageSorted))\n",
        "plt.hist(x=imageSize,bins=10);"
      ],
      "execution_count": 0,
      "outputs": [
        {
          "output_type": "display_data",
          "data": {
            "image/png": "[encoded data removed]",
            "text/plain": [
              "<Figure size 432x288 with 1 Axes>"
            ]
          },
          "metadata": {
            "tags": []
          }
        }
      ]
    },
    {
      "cell_type": "code",
      "metadata": {
        "id": "INFOZz-Q7RVV",
        "colab_type": "code",
        "outputId": "ae829397-33de-4710-912f-78a7629be5ea",
        "colab": {
          "base_uri": "https://localhost:8080/",
          "height": 167
        }
      },
      "source": [
        "#Select dim = (150,150) ~ median image size in the dataset\n",
        "dim = (150,150)\n",
        "croppedImagesResized = []\n",
        "for pic in imageSorted:\n",
        "  croppedImagesResized.append(cv2.resize(pic, dim))\n",
        "cv2_imshow(croppedImagesResized[0]) "
      ],
      "execution_count": 0,
      "outputs": [
        {
          "output_type": "display_data",
          "data": {
            "image/png": "[encoded data removed]",
            "text/plain": [
              "<PIL.Image.Image image mode=L size=150x150 at 0x7EFF7F1A4898>"
            ]
          },
          "metadata": {
            "tags": []
          }
        }
      ]
    },
    {
      "cell_type": "code",
      "metadata": {
        "id": "5DyrnSQuyLNK",
        "colab_type": "code",
        "outputId": "2d2aee5c-29d1-4463-94ad-ae1eb123bb81",
        "colab": {
          "base_uri": "https://localhost:8080/",
          "height": 167
        }
      },
      "source": [
        "#Image augmentation (horizontal flip) to increase size of dataset\n",
        "imagesHflip = []\n",
        "for pic in croppedImagesResized:\n",
        "  imagesHflip.append(cv2.flip(pic,1))\n",
        "\n",
        "cv2_imshow(imagesHflip[0])"
      ],
      "execution_count": 0,
      "outputs": [
        {
          "output_type": "display_data",
          "data": {
            "image/png": "[encoded data removed]",
            "text/plain": [
              "<PIL.Image.Image image mode=L size=150x150 at 0x7EFF7EC397B8>"
            ]
          },
          "metadata": {
            "tags": []
          }
        }
      ]
    },
    {
      "cell_type": "code",
      "metadata": {
        "id": "t-WDsBOoyLR2",
        "colab_type": "code",
        "colab": {}
      },
      "source": [
        "imagesCombined = croppedImagesResized + imagesHflip"
      ],
      "execution_count": 0,
      "outputs": []
    },
    {
      "cell_type": "code",
      "metadata": {
        "id": "XWsne8PWyLQG",
        "colab_type": "code",
        "outputId": "1cf09ab3-34b3-4302-c3e5-debd39027790",
        "colab": {
          "base_uri": "https://localhost:8080/",
          "height": 35
        }
      },
      "source": [
        "#Normalise images (subtract mean, divide by std) to reduce effects of poor lighting\n",
        "#Convert images to numpy array and dtype=float32\n",
        "x = [(imageArray-imageArray.mean())/imageArray.std() for imageArray in imagesCombined]\n",
        "x = np.array(x,dtype=np.float32)\n",
        "x.shape"
      ],
      "execution_count": 0,
      "outputs": [
        {
          "output_type": "execute_result",
          "data": {
            "text/plain": [
              "(4012, 150, 150)"
            ]
          },
          "metadata": {
            "tags": []
          },
          "execution_count": 12
        }
      ]
    },
    {
      "cell_type": "code",
      "metadata": {
        "id": "HdMB_UyTxUtM",
        "colab_type": "code",
        "outputId": "f27977d0-fa0a-414e-b200-6be3d2716df5",
        "colab": {
          "base_uri": "https://localhost:8080/",
          "height": 219
        }
      },
      "source": [
        "#Image filename contains information about the image features\n",
        "#Save list of filenames to dataframe for further analysis\n",
        "#Duplicate rows to account for horizontal flipped images\n",
        "targetDf = pd.DataFrame(descriptionSorted,columns=['filename'])\n",
        "targetDf = targetDf.append([targetDf],ignore_index=True)\n",
        "print(targetDf.shape)\n",
        "targetDf.head()"
      ],
      "execution_count": 0,
      "outputs": [
        {
          "output_type": "stream",
          "text": [
            "(4012, 1)\n"
          ],
          "name": "stdout"
        },
        {
          "output_type": "execute_result",
          "data": {
            "text/html": [
              "<div>\n",
              "<style scoped>\n",
              "    .dataframe tbody tr th:only-of-type {\n",
              "        vertical-align: middle;\n",
              "    }\n",
              "\n",
              "    .dataframe tbody tr th {\n",
              "        vertical-align: top;\n",
              "    }\n",
              "\n",
              "    .dataframe thead th {\n",
              "        text-align: right;\n",
              "    }\n",
              "</style>\n",
              "<table border=\"1\" class=\"dataframe\">\n",
              "  <thead>\n",
              "    <tr style=\"text-align: right;\">\n",
              "      <th></th>\n",
              "      <th>filename</th>\n",
              "    </tr>\n",
              "  </thead>\n",
              "  <tbody>\n",
              "    <tr>\n",
              "      <th>0</th>\n",
              "      <td>RehM_02280_f_25_o_fr_nc_no_2015_1_e0_nl_o.jpg</td>\n",
              "    </tr>\n",
              "    <tr>\n",
              "      <th>1</th>\n",
              "      <td>HedA_00835_m_46_o_fr_nc_no_2016_1_e0_nl_o.jpg</td>\n",
              "    </tr>\n",
              "    <tr>\n",
              "      <th>2</th>\n",
              "      <td>HedA_00831_m_45_o_fr_nc_no_2015_1_e0_nl_o.jpg</td>\n",
              "    </tr>\n",
              "    <tr>\n",
              "      <th>3</th>\n",
              "      <td>HedA_00834_m_45_o_fr_nc_no_2015_1_e0_nl_o.jpg</td>\n",
              "    </tr>\n",
              "    <tr>\n",
              "      <th>4</th>\n",
              "      <td>ZenH_02662_f_24_o_nf_nc_no_2014_1_e0_nl_o.jpg</td>\n",
              "    </tr>\n",
              "  </tbody>\n",
              "</table>\n",
              "</div>"
            ],
            "text/plain": [
              "                                        filename\n",
              "0  RehM_02280_f_25_o_fr_nc_no_2015_1_e0_nl_o.jpg\n",
              "1  HedA_00835_m_46_o_fr_nc_no_2016_1_e0_nl_o.jpg\n",
              "2  HedA_00831_m_45_o_fr_nc_no_2015_1_e0_nl_o.jpg\n",
              "3  HedA_00834_m_45_o_fr_nc_no_2015_1_e0_nl_o.jpg\n",
              "4  ZenH_02662_f_24_o_nf_nc_no_2014_1_e0_nl_o.jpg"
            ]
          },
          "metadata": {
            "tags": []
          },
          "execution_count": 13
        }
      ]
    },
    {
      "cell_type": "code",
      "metadata": {
        "id": "3_6MUpasyQ6w",
        "colab_type": "code",
        "outputId": "01547970-eee9-4099-dbc2-3d6c1894c198",
        "colab": {
          "base_uri": "https://localhost:8080/",
          "height": 202
        }
      },
      "source": [
        "#Create new columns in dataframe to represent the important image features\n",
        "#For this project, important features are: gender, age, emotion\n",
        "new = targetDf[\"filename\"].str.split('_', expand = True) \n",
        "targetDf['name']=new[0]\n",
        "targetDf['gender']=new[2]\n",
        "targetDf['age']=new[3]\n",
        "targetDf['emotion']=new[7]\n",
        "targetDf.head()"
      ],
      "execution_count": 0,
      "outputs": [
        {
          "output_type": "execute_result",
          "data": {
            "text/html": [
              "<div>\n",
              "<style scoped>\n",
              "    .dataframe tbody tr th:only-of-type {\n",
              "        vertical-align: middle;\n",
              "    }\n",
              "\n",
              "    .dataframe tbody tr th {\n",
              "        vertical-align: top;\n",
              "    }\n",
              "\n",
              "    .dataframe thead th {\n",
              "        text-align: right;\n",
              "    }\n",
              "</style>\n",
              "<table border=\"1\" class=\"dataframe\">\n",
              "  <thead>\n",
              "    <tr style=\"text-align: right;\">\n",
              "      <th></th>\n",
              "      <th>filename</th>\n",
              "      <th>name</th>\n",
              "      <th>gender</th>\n",
              "      <th>age</th>\n",
              "      <th>emotion</th>\n",
              "    </tr>\n",
              "  </thead>\n",
              "  <tbody>\n",
              "    <tr>\n",
              "      <th>0</th>\n",
              "      <td>RehM_02280_f_25_o_fr_nc_no_2015_1_e0_nl_o.jpg</td>\n",
              "      <td>RehM</td>\n",
              "      <td>f</td>\n",
              "      <td>25</td>\n",
              "      <td>no</td>\n",
              "    </tr>\n",
              "    <tr>\n",
              "      <th>1</th>\n",
              "      <td>HedA_00835_m_46_o_fr_nc_no_2016_1_e0_nl_o.jpg</td>\n",
              "      <td>HedA</td>\n",
              "      <td>m</td>\n",
              "      <td>46</td>\n",
              "      <td>no</td>\n",
              "    </tr>\n",
              "    <tr>\n",
              "      <th>2</th>\n",
              "      <td>HedA_00831_m_45_o_fr_nc_no_2015_1_e0_nl_o.jpg</td>\n",
              "      <td>HedA</td>\n",
              "      <td>m</td>\n",
              "      <td>45</td>\n",
              "      <td>no</td>\n",
              "    </tr>\n",
              "    <tr>\n",
              "      <th>3</th>\n",
              "      <td>HedA_00834_m_45_o_fr_nc_no_2015_1_e0_nl_o.jpg</td>\n",
              "      <td>HedA</td>\n",
              "      <td>m</td>\n",
              "      <td>45</td>\n",
              "      <td>no</td>\n",
              "    </tr>\n",
              "    <tr>\n",
              "      <th>4</th>\n",
              "      <td>ZenH_02662_f_24_o_nf_nc_no_2014_1_e0_nl_o.jpg</td>\n",
              "      <td>ZenH</td>\n",
              "      <td>f</td>\n",
              "      <td>24</td>\n",
              "      <td>no</td>\n",
              "    </tr>\n",
              "  </tbody>\n",
              "</table>\n",
              "</div>"
            ],
            "text/plain": [
              "                                        filename  name gender age emotion\n",
              "0  RehM_02280_f_25_o_fr_nc_no_2015_1_e0_nl_o.jpg  RehM      f  25      no\n",
              "1  HedA_00835_m_46_o_fr_nc_no_2016_1_e0_nl_o.jpg  HedA      m  46      no\n",
              "2  HedA_00831_m_45_o_fr_nc_no_2015_1_e0_nl_o.jpg  HedA      m  45      no\n",
              "3  HedA_00834_m_45_o_fr_nc_no_2015_1_e0_nl_o.jpg  HedA      m  45      no\n",
              "4  ZenH_02662_f_24_o_nf_nc_no_2014_1_e0_nl_o.jpg  ZenH      f  24      no"
            ]
          },
          "metadata": {
            "tags": []
          },
          "execution_count": 14
        }
      ]
    },
    {
      "cell_type": "markdown",
      "metadata": {
        "id": "PeWyxGs9QvX4",
        "colab_type": "text"
      },
      "source": [
        "Exploratory Data Analysis"
      ]
    },
    {
      "cell_type": "code",
      "metadata": {
        "id": "AoUEEp5SGsdD",
        "colab_type": "code",
        "outputId": "fb8ba3c9-988e-489a-f074-48c16752cab4",
        "colab": {
          "base_uri": "https://localhost:8080/",
          "height": 369
        }
      },
      "source": [
        "import seaborn as sns\n",
        "sns.catplot(x=\"emotion\", kind=\"count\", palette=\"ch:.25\", data=targetDf);"
      ],
      "execution_count": 0,
      "outputs": [
        {
          "output_type": "display_data",
          "data": {
            "image/png": "[encoded data removed]",
            "text/plain": [
              "<Figure size 360x360 with 1 Axes>"
            ]
          },
          "metadata": {
            "tags": []
          }
        }
      ]
    },
    {
      "cell_type": "code",
      "metadata": {
        "id": "5Z_rPT7mIsum",
        "colab_type": "code",
        "outputId": "86243c84-00be-4fb6-bd12-da863bf32387",
        "colab": {
          "base_uri": "https://localhost:8080/",
          "height": 369
        }
      },
      "source": [
        "sns.catplot(x=\"gender\", kind=\"count\", palette=\"ch:.25\", data=targetDf);"
      ],
      "execution_count": 0,
      "outputs": [
        {
          "output_type": "display_data",
          "data": {
            "image/png": "[encoded data removed]",
            "text/plain": [
              "<Figure size 360x360 with 1 Axes>"
            ]
          },
          "metadata": {
            "tags": []
          }
        }
      ]
    },
    {
      "cell_type": "code",
      "metadata": {
        "id": "AKmTLxL4I450",
        "colab_type": "code",
        "outputId": "6e8496ce-70db-4ddf-c5c8-8c1ac7682abd",
        "colab": {
          "base_uri": "https://localhost:8080/",
          "height": 121
        }
      },
      "source": [
        "targetDf.dtypes"
      ],
      "execution_count": 0,
      "outputs": [
        {
          "output_type": "execute_result",
          "data": {
            "text/plain": [
              "filename    object\n",
              "name        object\n",
              "gender      object\n",
              "age         object\n",
              "emotion     object\n",
              "dtype: object"
            ]
          },
          "metadata": {
            "tags": []
          },
          "execution_count": 28
        }
      ]
    },
    {
      "cell_type": "code",
      "metadata": {
        "id": "IITqkCCsKf2D",
        "colab_type": "code",
        "colab": {}
      },
      "source": [
        "targetDf['age'] = targetDf['age'].astype(int)"
      ],
      "execution_count": 0,
      "outputs": []
    },
    {
      "cell_type": "code",
      "metadata": {
        "id": "1tb3oOgcKlW4",
        "colab_type": "code",
        "outputId": "a853d9a2-de29-4c2b-d97c-d37d116b02e6",
        "colab": {
          "base_uri": "https://localhost:8080/",
          "height": 121
        }
      },
      "source": [
        "targetDf.dtypes"
      ],
      "execution_count": 0,
      "outputs": [
        {
          "output_type": "execute_result",
          "data": {
            "text/plain": [
              "filename    object\n",
              "name        object\n",
              "gender      object\n",
              "age          int64\n",
              "emotion     object\n",
              "dtype: object"
            ]
          },
          "metadata": {
            "tags": []
          },
          "execution_count": 32
        }
      ]
    },
    {
      "cell_type": "code",
      "metadata": {
        "id": "p572v_ODKrCC",
        "colab_type": "code",
        "outputId": "b299c930-7904-41f4-8fd0-343a8048621a",
        "colab": {
          "base_uri": "https://localhost:8080/",
          "height": 297
        }
      },
      "source": [
        "sns.distplot(targetDf['age']);"
      ],
      "execution_count": 0,
      "outputs": [
        {
          "output_type": "execute_result",
          "data": {
            "text/plain": [
              "<matplotlib.axes._subplots.AxesSubplot at 0x7eff7165deb8>"
            ]
          },
          "metadata": {
            "tags": []
          },
          "execution_count": 35
        },
        {
          "output_type": "display_data",
          "data": {
            "image/png": "[encoded data removed]",
            "text/plain": [
              "<Figure size 432x288 with 1 Axes>"
            ]
          },
          "metadata": {
            "tags": []
          }
        }
      ]
    },
    {
      "cell_type": "markdown",
      "metadata": {
        "id": "ehoF5r6mQ7m9",
        "colab_type": "text"
      },
      "source": [
        "Feature Selection for Model"
      ]
    },
    {
      "cell_type": "code",
      "metadata": {
        "id": "JT4OcAiTyQ4l",
        "colab_type": "code",
        "outputId": "fd4d3281-1823-49c4-af50-16b591e0756c",
        "colab": {
          "base_uri": "https://localhost:8080/",
          "height": 104
        }
      },
      "source": [
        "#Predicting emotions\n",
        "#Convert string descriptions to categorical\n",
        "targetDf['emotion'] = pd.Categorical(targetDf['emotion'])\n",
        "targetDf['emotionCat'] = targetDf['emotion'].cat.codes\n",
        "yEmotion = to_categorical(targetDf['emotionCat'])\n",
        "yEmotion[:5]"
      ],
      "execution_count": 0,
      "outputs": [
        {
          "output_type": "execute_result",
          "data": {
            "text/plain": [
              "array([[0., 1., 0., 0.],\n",
              "       [0., 1., 0., 0.],\n",
              "       [0., 1., 0., 0.],\n",
              "       [0., 1., 0., 0.],\n",
              "       [0., 1., 0., 0.]], dtype=float32)"
            ]
          },
          "metadata": {
            "tags": []
          },
          "execution_count": 15
        }
      ]
    },
    {
      "cell_type": "code",
      "metadata": {
        "id": "QPFFFqYXyXA7",
        "colab_type": "code",
        "outputId": "3bb6fde7-d8c2-4a78-f0f4-9166ca347985",
        "colab": {
          "base_uri": "https://localhost:8080/",
          "height": 35
        }
      },
      "source": [
        "yEmotion.shape"
      ],
      "execution_count": 0,
      "outputs": [
        {
          "output_type": "execute_result",
          "data": {
            "text/plain": [
              "(4012, 4)"
            ]
          },
          "metadata": {
            "tags": []
          },
          "execution_count": 16
        }
      ]
    },
    {
      "cell_type": "code",
      "metadata": {
        "id": "3zU1R3qUyXEI",
        "colab_type": "code",
        "outputId": "a88dd4f3-9c7c-482d-d893-c95a7348e374",
        "colab": {
          "base_uri": "https://localhost:8080/",
          "height": 191
        }
      },
      "source": [
        "#Check the distribution of images for each emotion classification\n",
        "#We have an imbalanced data set with majority of the images tagged with 'no' and 'hp'\n",
        "print(targetDf['emotion'].value_counts())\n",
        "print(targetDf['emotion'].value_counts(normalize=True))"
      ],
      "execution_count": 0,
      "outputs": [
        {
          "output_type": "stream",
          "text": [
            "no    1644\n",
            "hp    1596\n",
            "sd     496\n",
            "sr     276\n",
            "Name: emotion, dtype: int64\n",
            "no    0.409771\n",
            "hp    0.397807\n",
            "sd    0.123629\n",
            "sr    0.068794\n",
            "Name: emotion, dtype: float64\n"
          ],
          "name": "stdout"
        }
      ]
    },
    {
      "cell_type": "code",
      "metadata": {
        "id": "VJm1jd_SAq0I",
        "colab_type": "code",
        "outputId": "b770b132-a1fa-4691-861e-7e26258969bd",
        "colab": {
          "base_uri": "https://localhost:8080/",
          "height": 104
        }
      },
      "source": [
        "print(targetDf['emotionCat'].value_counts())"
      ],
      "execution_count": 0,
      "outputs": [
        {
          "output_type": "stream",
          "text": [
            "1    1644\n",
            "0    1596\n",
            "2     496\n",
            "3     276\n",
            "Name: emotionCat, dtype: int64\n"
          ],
          "name": "stdout"
        }
      ]
    },
    {
      "cell_type": "code",
      "metadata": {
        "id": "g9Vx5gzide4W",
        "colab_type": "code",
        "outputId": "23620ab7-a178-4a5e-a2bd-cd3fe9d1b1ce",
        "colab": {
          "base_uri": "https://localhost:8080/",
          "height": 35
        }
      },
      "source": [
        "indices = np.arange(len(targetDf['emotionCat']))\n",
        "indices"
      ],
      "execution_count": 0,
      "outputs": [
        {
          "output_type": "execute_result",
          "data": {
            "text/plain": [
              "array([   0,    1,    2, ..., 4009, 4010, 4011])"
            ]
          },
          "metadata": {
            "tags": []
          },
          "execution_count": 20
        }
      ]
    },
    {
      "cell_type": "code",
      "metadata": {
        "id": "7dZJaT7uyQ2X",
        "colab_type": "code",
        "colab": {}
      },
      "source": [
        "#Train Test Split image dataset, with stratification for emotion class\n",
        "#Include indices to reference original images later\n",
        "xTrainEmotion,xTestEmotion,yTrainEmotion,yTestEmotion,indicesTrain,indicesTest = train_test_split(x, \n",
        "                                                                                                  yEmotion,\n",
        "                                                                                                  indices, \n",
        "                                                                                                  train_size=0.7, \n",
        "                                                                                                  random_state=42, \n",
        "                                                                                                  stratify=yEmotion)"
      ],
      "execution_count": 0,
      "outputs": []
    },
    {
      "cell_type": "code",
      "metadata": {
        "id": "DredSARiyeEH",
        "colab_type": "code",
        "outputId": "f4376b27-e936-4183-c7a7-fce4f0ac3938",
        "colab": {
          "base_uri": "https://localhost:8080/",
          "height": 69
        }
      },
      "source": [
        "print(xTrainEmotion.shape)\n",
        "print(yTrainEmotion.shape)\n",
        "print(indicesTrain.shape)"
      ],
      "execution_count": 0,
      "outputs": [
        {
          "output_type": "stream",
          "text": [
            "(2808, 150, 150)\n",
            "(2808, 4)\n",
            "(2808,)\n"
          ],
          "name": "stdout"
        }
      ]
    },
    {
      "cell_type": "code",
      "metadata": {
        "id": "TqDVsrbDjbdO",
        "colab_type": "code",
        "colab": {}
      },
      "source": [
        "#Reshape image array to (150,150,1) so the computer knows it is in grayscale\n",
        "xTrainEmotion = xTrainEmotion.reshape(xTrainEmotion.shape[0], 150, 150, 1)\n",
        "xTestEmotion = xTestEmotion.reshape(xTestEmotion.shape[0], 150, 150, 1)"
      ],
      "execution_count": 0,
      "outputs": []
    },
    {
      "cell_type": "code",
      "metadata": {
        "id": "dXGxu4rHjhk4",
        "colab_type": "code",
        "colab": {}
      },
      "source": [
        "#Save train-test-split results as npy file for ease of subsequent use\n",
        "np.save('/content/gdrive/My Drive/Google_Collab/CNNModelsEmotion/xTrainEmotion.npy', xTrainEmotion)\n",
        "np.save('/content/gdrive/My Drive/Google_Collab/CNNModelsEmotion/xTestEmotion.npy', xTestEmotion)\n",
        "np.save('/content/gdrive/My Drive/Google_Collab/CNNModelsEmotion/yTrainEmotion.npy', yTrainEmotion)\n",
        "np.save('/content/gdrive/My Drive/Google_Collab/CNNModelsEmotion/yTestEmotion.npy', yTestEmotion)\n",
        "np.save('/content/gdrive/My Drive/Google_Collab/CNNModelsEmotion/indicesTrain.npy', indicesTrain)\n",
        "np.save('/content/gdrive/My Drive/Google_Collab/CNNModelsEmotion/indicesTest.npy', indicesTest)\n",
        "np.save('/content/gdrive/My Drive/Google_Collab/CNNModelsEmotion/imagesCombined.npy', imagesCombined)\n",
        "targetDf.to_csv('/content/gdrive/My Drive/Google_Collab/CNNModelsEmotion/targetDf.csv')"
      ],
      "execution_count": 0,
      "outputs": []
    },
    {
      "cell_type": "code",
      "metadata": {
        "id": "3VcH_qDLjoub",
        "colab_type": "code",
        "colab": {}
      },
      "source": [
        "xTrainEmotion = np.load('/content/gdrive/My Drive/Google_Collab/CNNModelsEmotion/xTrainEmotion.npy')\n",
        "xTestEmotion = np.load('/content/gdrive/My Drive/Google_Collab/CNNModelsEmotion/xTestEmotion.npy')\n",
        "yTrainEmotion = np.load('/content/gdrive/My Drive/Google_Collab/CNNModelsEmotion/yTrainEmotion.npy')\n",
        "yTestEmotion = np.load('/content/gdrive/My Drive/Google_Collab/CNNModelsEmotion/yTestEmotion.npy')"
      ],
      "execution_count": 0,
      "outputs": []
    },
    {
      "cell_type": "markdown",
      "metadata": {
        "id": "wghey6sVRqK1",
        "colab_type": "text"
      },
      "source": [
        "Addition of CK+48 images to the train dataset"
      ]
    },
    {
      "cell_type": "code",
      "metadata": {
        "id": "IK4CQeBNyeBs",
        "colab_type": "code",
        "outputId": "e4620d52-62a7-4de6-c386-7ba5752a018f",
        "colab": {
          "base_uri": "https://localhost:8080/",
          "height": 83
        }
      },
      "source": [
        "extraImagesAnger = []\n",
        "count = 0\n",
        "\n",
        "for filename in os.listdir('/content/gdrive/My Drive/Google_Collab/CK+48/anger'):\n",
        "    filename1 = '/content/gdrive/My Drive/Google_Collab/CK+48/anger/' + filename\n",
        "    pic = cv2.imread(filename1, 0)\n",
        "    extraImagesAnger.append(pic)\n",
        "    count+=1\n",
        "\n",
        "countAnger = count\n",
        "print(countAnger)\n",
        "cv2_imshow(extraImagesAnger[0])"
      ],
      "execution_count": 0,
      "outputs": [
        {
          "output_type": "stream",
          "text": [
            "135\n"
          ],
          "name": "stdout"
        },
        {
          "output_type": "display_data",
          "data": {
            "image/png": "[encoded data removed]",
            "text/plain": [
              "<PIL.Image.Image image mode=L size=48x48 at 0x7F7A321C2048>"
            ]
          },
          "metadata": {
            "tags": []
          }
        }
      ]
    },
    {
      "cell_type": "code",
      "metadata": {
        "id": "A10yuVjbygMm",
        "colab_type": "code",
        "outputId": "ae293007-bda7-4122-bb7e-4c7d3b56e7f2",
        "colab": {
          "base_uri": "https://localhost:8080/",
          "height": 35
        }
      },
      "source": [
        "extraImagesAnger[0].shape"
      ],
      "execution_count": 0,
      "outputs": [
        {
          "output_type": "execute_result",
          "data": {
            "text/plain": [
              "(48, 48)"
            ]
          },
          "metadata": {
            "tags": []
          },
          "execution_count": 27
        }
      ]
    },
    {
      "cell_type": "code",
      "metadata": {
        "id": "lEEV0-yMygXz",
        "colab_type": "code",
        "outputId": "12255cd4-1f6e-4e10-8773-c5f9112d41c6",
        "colab": {
          "base_uri": "https://localhost:8080/",
          "height": 83
        }
      },
      "source": [
        "extraImagesContempt = []\n",
        "count=0\n",
        "\n",
        "for filename in os.listdir('/content/gdrive/My Drive/Google_Collab/CK+48/contempt'):\n",
        "    filename1 = '/content/gdrive/My Drive/Google_Collab/CK+48/contempt/' + filename\n",
        "    pic = cv2.imread(filename1, 0)\n",
        "    extraImagesContempt.append(pic)\n",
        "    count+=1\n",
        "\n",
        "countContempt = count\n",
        "print(countContempt)\n",
        "cv2_imshow(extraImagesContempt[0])"
      ],
      "execution_count": 0,
      "outputs": [
        {
          "output_type": "stream",
          "text": [
            "54\n"
          ],
          "name": "stdout"
        },
        {
          "output_type": "display_data",
          "data": {
            "image/png": "[encoded data removed]",
            "text/plain": [
              "<PIL.Image.Image image mode=L size=48x48 at 0x7F7A321C8DA0>"
            ]
          },
          "metadata": {
            "tags": []
          }
        }
      ]
    },
    {
      "cell_type": "code",
      "metadata": {
        "id": "RFW3oZP1ygVr",
        "colab_type": "code",
        "outputId": "e8274d93-38e6-45ad-86ab-0d3290cf815a",
        "colab": {
          "base_uri": "https://localhost:8080/",
          "height": 83
        }
      },
      "source": [
        "extraImagesDisgust = []\n",
        "count = 0\n",
        "\n",
        "for filename in os.listdir('/content/gdrive/My Drive/Google_Collab/CK+48/disgust'):\n",
        "    filename1 = '/content/gdrive/My Drive/Google_Collab/CK+48/disgust/' + filename\n",
        "    pic = cv2.imread(filename1, 0)\n",
        "    extraImagesDisgust.append(pic)\n",
        "    count+=1\n",
        "\n",
        "countDisgust = count\n",
        "print(countDisgust)\n",
        "cv2_imshow(extraImagesDisgust[0])"
      ],
      "execution_count": 0,
      "outputs": [
        {
          "output_type": "stream",
          "text": [
            "177\n"
          ],
          "name": "stdout"
        },
        {
          "output_type": "display_data",
          "data": {
            "image/png": "[encoded data removed]",
            "text/plain": [
              "<PIL.Image.Image image mode=L size=48x48 at 0x7F7A321C8860>"
            ]
          },
          "metadata": {
            "tags": []
          }
        }
      ]
    },
    {
      "cell_type": "code",
      "metadata": {
        "id": "lCjIO6xRygTq",
        "colab_type": "code",
        "outputId": "612f57e1-c6f8-438f-eb32-c9f8cb0397b3",
        "colab": {
          "base_uri": "https://localhost:8080/",
          "height": 83
        }
      },
      "source": [
        "extraImagesFear = []\n",
        "count = 0\n",
        "\n",
        "for filename in os.listdir('/content/gdrive/My Drive/Google_Collab/CK+48/fear'):\n",
        "    filename1 = '/content/gdrive/My Drive/Google_Collab/CK+48/fear/' + filename\n",
        "    pic = cv2.imread(filename1, 0)\n",
        "    extraImagesFear.append(pic)\n",
        "    count+=1\n",
        "\n",
        "countFear = count\n",
        "print(countFear)\n",
        "cv2_imshow(extraImagesFear[0])"
      ],
      "execution_count": 0,
      "outputs": [
        {
          "output_type": "stream",
          "text": [
            "75\n"
          ],
          "name": "stdout"
        },
        {
          "output_type": "display_data",
          "data": {
            "image/png": "[encoded data removed]",
            "text/plain": [
              "<PIL.Image.Image image mode=L size=48x48 at 0x7F7A321C8438>"
            ]
          },
          "metadata": {
            "tags": []
          }
        }
      ]
    },
    {
      "cell_type": "code",
      "metadata": {
        "id": "9DhN_tjDygRI",
        "colab_type": "code",
        "outputId": "c5e382ce-284f-404e-af3c-c5257d316f4b",
        "colab": {
          "base_uri": "https://localhost:8080/",
          "height": 83
        }
      },
      "source": [
        "extraImagesHappy = []\n",
        "count = 0\n",
        "\n",
        "for filename in os.listdir('/content/gdrive/My Drive/Google_Collab/CK+48/happy'):\n",
        "    filename1 = '/content/gdrive/My Drive/Google_Collab/CK+48/happy/' + filename\n",
        "    pic = cv2.imread(filename1, 0)\n",
        "    extraImagesHappy.append(pic)\n",
        "    count+=1\n",
        "\n",
        "countHappy = count\n",
        "print(countHappy)\n",
        "cv2_imshow(extraImagesHappy[0])"
      ],
      "execution_count": 0,
      "outputs": [
        {
          "output_type": "stream",
          "text": [
            "207\n"
          ],
          "name": "stdout"
        },
        {
          "output_type": "display_data",
          "data": {
            "image/png": "[encoded data removed]",
            "text/plain": [
              "<PIL.Image.Image image mode=L size=48x48 at 0x7F7A321FC080>"
            ]
          },
          "metadata": {
            "tags": []
          }
        }
      ]
    },
    {
      "cell_type": "code",
      "metadata": {
        "id": "FKnqxao4ygPG",
        "colab_type": "code",
        "outputId": "fb51f5c4-bf96-4d5e-8d8d-5b1601667d88",
        "colab": {
          "base_uri": "https://localhost:8080/",
          "height": 83
        }
      },
      "source": [
        "extraImagesSadness = []\n",
        "count = 0\n",
        "\n",
        "for filename in os.listdir('/content/gdrive/My Drive/Google_Collab/CK+48/sadness'):\n",
        "    filename1 = '/content/gdrive/My Drive/Google_Collab/CK+48/sadness/' + filename\n",
        "    pic = cv2.imread(filename1, 0)\n",
        "    extraImagesSadness.append(pic)\n",
        "    count+=1\n",
        "\n",
        "countSadness = count\n",
        "print(countSadness)\n",
        "cv2_imshow(extraImagesSadness[0])"
      ],
      "execution_count": 0,
      "outputs": [
        {
          "output_type": "stream",
          "text": [
            "84\n"
          ],
          "name": "stdout"
        },
        {
          "output_type": "display_data",
          "data": {
            "image/png": "[encoded data removed]",
            "text/plain": [
              "<PIL.Image.Image image mode=L size=48x48 at 0x7F7A32171EB8>"
            ]
          },
          "metadata": {
            "tags": []
          }
        }
      ]
    },
    {
      "cell_type": "code",
      "metadata": {
        "id": "eRgXoTufyd_P",
        "colab_type": "code",
        "outputId": "3ff76ab2-8068-4eb1-bcaf-63bec761a8b6",
        "colab": {
          "base_uri": "https://localhost:8080/",
          "height": 83
        }
      },
      "source": [
        "extraImagesSurprise = []\n",
        "count = 0\n",
        "\n",
        "for filename in os.listdir('/content/gdrive/My Drive/Google_Collab/CK+48/surprise'):\n",
        "    filename1 = '/content/gdrive/My Drive/Google_Collab/CK+48/surprise/' + filename\n",
        "    pic = cv2.imread(filename1, 0)\n",
        "    extraImagesSurprise.append(pic)\n",
        "    count+=1\n",
        "\n",
        "countSurprise = count\n",
        "print(countSurprise)\n",
        "cv2_imshow(extraImagesSurprise[0])"
      ],
      "execution_count": 0,
      "outputs": [
        {
          "output_type": "stream",
          "text": [
            "249\n"
          ],
          "name": "stdout"
        },
        {
          "output_type": "display_data",
          "data": {
            "image/png": "[encoded data removed]",
            "text/plain": [
              "<PIL.Image.Image image mode=L size=48x48 at 0x7F7A321C8978>"
            ]
          },
          "metadata": {
            "tags": []
          }
        }
      ]
    },
    {
      "cell_type": "markdown",
      "metadata": {
        "id": "w_KWjM-RzUET",
        "colab_type": "text"
      },
      "source": [
        "Based on data dictionary,\n",
        "- hp: happy\n",
        "- sd: anger, contempt, disgust, sadness\n",
        "- sr: fear, surprise "
      ]
    },
    {
      "cell_type": "code",
      "metadata": {
        "id": "gri8PBXcxUvx",
        "colab_type": "code",
        "outputId": "16e66213-c011-4b69-e133-c8278dccc9fe",
        "colab": {
          "base_uri": "https://localhost:8080/",
          "height": 52
        }
      },
      "source": [
        "totalHp = countHappy\n",
        "totalSd = countAnger + countContempt + countDisgust + countSadness\n",
        "totalSr = countFear + countSurprise\n",
        "extraImagesEmotions = ['hp']*totalHp + ['sd']*totalSd + ['sr']*totalSr\n",
        "print(type(extraImagesEmotions))\n",
        "print(len(extraImagesEmotions))"
      ],
      "execution_count": 0,
      "outputs": [
        {
          "output_type": "stream",
          "text": [
            "<class 'list'>\n",
            "981\n"
          ],
          "name": "stdout"
        }
      ]
    },
    {
      "cell_type": "code",
      "metadata": {
        "id": "CRm9N8TMzRmb",
        "colab_type": "code",
        "outputId": "1fb02264-e92c-4dd3-d927-94f8be2193a3",
        "colab": {
          "base_uri": "https://localhost:8080/",
          "height": 35
        }
      },
      "source": [
        "extraImagesCombined = (extraImagesHappy + extraImagesAnger + extraImagesContempt +\n",
        "                       extraImagesDisgust + extraImagesSadness + extraImagesFear +\n",
        "                       extraImagesSurprise)\n",
        "len(extraImagesCombined)"
      ],
      "execution_count": 0,
      "outputs": [
        {
          "output_type": "execute_result",
          "data": {
            "text/plain": [
              "981"
            ]
          },
          "metadata": {
            "tags": []
          },
          "execution_count": 35
        }
      ]
    },
    {
      "cell_type": "code",
      "metadata": {
        "id": "udiGOltozRk4",
        "colab_type": "code",
        "outputId": "fbb313df-8a6f-48ee-e01e-3f476f1421ba",
        "colab": {
          "base_uri": "https://localhost:8080/",
          "height": 65
        }
      },
      "source": [
        "cv2_imshow(extraImagesCombined[0])"
      ],
      "execution_count": 0,
      "outputs": [
        {
          "output_type": "display_data",
          "data": {
            "image/png": "[encoded data removed]",
            "text/plain": [
              "<PIL.Image.Image image mode=L size=48x48 at 0x7F7A321C8128>"
            ]
          },
          "metadata": {
            "tags": []
          }
        }
      ]
    },
    {
      "cell_type": "code",
      "metadata": {
        "id": "CkCuMvLOzfbv",
        "colab_type": "code",
        "outputId": "332bd8c7-1166-4b2d-825c-6965ad199e47",
        "colab": {
          "base_uri": "https://localhost:8080/",
          "height": 35
        }
      },
      "source": [
        "#Repeat data augmentation for extra images\n",
        "extraImagesHflip = []\n",
        "for pic in extraImagesCombined:\n",
        "  extraImagesHflip.append(cv2.flip(pic,1))\n",
        "extraImagesCombinedFlipped = extraImagesCombined + extraImagesHflip\n",
        "len(extraImagesCombinedFlipped)"
      ],
      "execution_count": 0,
      "outputs": [
        {
          "output_type": "execute_result",
          "data": {
            "text/plain": [
              "1962"
            ]
          },
          "metadata": {
            "tags": []
          },
          "execution_count": 37
        }
      ]
    },
    {
      "cell_type": "code",
      "metadata": {
        "id": "2osn8Jh3zfYS",
        "colab_type": "code",
        "colab": {}
      },
      "source": [
        "#Similarly resize extra images to same dim = (150,150)\n",
        "dim = (150,150)\n",
        "extraImagesCombinedFlippedResized = []\n",
        "for pic in extraImagesCombinedFlipped:\n",
        "  extraImagesCombinedFlippedResized.append(cv2.resize(pic, dim))"
      ],
      "execution_count": 0,
      "outputs": []
    },
    {
      "cell_type": "code",
      "metadata": {
        "id": "klciMFTnzfVm",
        "colab_type": "code",
        "outputId": "320a37d7-d6f7-48e2-c254-9ec3c59c7001",
        "colab": {
          "base_uri": "https://localhost:8080/",
          "height": 35
        }
      },
      "source": [
        "extraImagesCombinedFlippedResized[0].shape"
      ],
      "execution_count": 0,
      "outputs": [
        {
          "output_type": "execute_result",
          "data": {
            "text/plain": [
              "(150, 150)"
            ]
          },
          "metadata": {
            "tags": []
          },
          "execution_count": 39
        }
      ]
    },
    {
      "cell_type": "code",
      "metadata": {
        "id": "HCeDsokazRiz",
        "colab_type": "code",
        "outputId": "44f30335-a28b-4267-9059-4dc5af1b9e97",
        "colab": {
          "base_uri": "https://localhost:8080/",
          "height": 167
        }
      },
      "source": [
        "cv2_imshow(extraImagesCombinedFlippedResized[0])"
      ],
      "execution_count": 0,
      "outputs": [
        {
          "output_type": "display_data",
          "data": {
            "image/png": "[encoded data removed]",
            "text/plain": [
              "<PIL.Image.Image image mode=L size=150x150 at 0x7F7A320D4BA8>"
            ]
          },
          "metadata": {
            "tags": []
          }
        }
      ]
    },
    {
      "cell_type": "code",
      "metadata": {
        "id": "vKrMjZy8zkku",
        "colab_type": "code",
        "outputId": "3ac50678-02eb-436e-bc02-79bb9a00c6bb",
        "colab": {
          "base_uri": "https://localhost:8080/",
          "height": 35
        }
      },
      "source": [
        "x2 = [(imageArray-imageArray.mean())/imageArray.std() for imageArray in extraImagesCombinedFlippedResized]\n",
        "x2 = np.array(x2,dtype=np.float32)\n",
        "x2.shape"
      ],
      "execution_count": 0,
      "outputs": [
        {
          "output_type": "execute_result",
          "data": {
            "text/plain": [
              "(1962, 150, 150)"
            ]
          },
          "metadata": {
            "tags": []
          },
          "execution_count": 41
        }
      ]
    },
    {
      "cell_type": "code",
      "metadata": {
        "id": "2JuLPCzpzkqN",
        "colab_type": "code",
        "outputId": "fbbdf299-b775-4485-870d-f22763a4019e",
        "colab": {
          "base_uri": "https://localhost:8080/",
          "height": 139
        }
      },
      "source": [
        "#Generate and add labels for extra images\n",
        "extraTargetDf = pd.DataFrame(extraImagesEmotions,columns=['emotion'])\n",
        "extraTargetDf = extraTargetDf.append([extraTargetDf],ignore_index=True)\n",
        "extraTargetDf['emotion'] = pd.Categorical(extraTargetDf['emotion'])\n",
        "extraTargetDf['emotionCat'] = extraTargetDf['emotion'].cat.codes\n",
        "extraYEmotion = to_categorical(extraTargetDf['emotionCat'])\n",
        "extraYEmotion[:-5]"
      ],
      "execution_count": 0,
      "outputs": [
        {
          "output_type": "execute_result",
          "data": {
            "text/plain": [
              "array([[1., 0., 0.],\n",
              "       [1., 0., 0.],\n",
              "       [1., 0., 0.],\n",
              "       ...,\n",
              "       [0., 0., 1.],\n",
              "       [0., 0., 1.],\n",
              "       [0., 0., 1.]], dtype=float32)"
            ]
          },
          "metadata": {
            "tags": []
          },
          "execution_count": 42
        }
      ]
    },
    {
      "cell_type": "code",
      "metadata": {
        "id": "fAKQsnwmzkn8",
        "colab_type": "code",
        "outputId": "661783f2-592a-4285-99de-bbc9017724c3",
        "colab": {
          "base_uri": "https://localhost:8080/",
          "height": 35
        }
      },
      "source": [
        "extraYEmotion.shape"
      ],
      "execution_count": 0,
      "outputs": [
        {
          "output_type": "execute_result",
          "data": {
            "text/plain": [
              "(1962, 3)"
            ]
          },
          "metadata": {
            "tags": []
          },
          "execution_count": 43
        }
      ]
    },
    {
      "cell_type": "code",
      "metadata": {
        "id": "kzFcua5WzwRR",
        "colab_type": "code",
        "outputId": "a6f57fd9-ad3e-4377-e639-623f990fa0fe",
        "colab": {
          "base_uri": "https://localhost:8080/",
          "height": 139
        }
      },
      "source": [
        "#Add column because extra images does not contain faces with \"neutral\" emotion label\n",
        "z = np.zeros((1962,1))\n",
        "extraYEmotion = np.append(z,extraYEmotion, axis=1)\n",
        "extraYEmotion[:-5]"
      ],
      "execution_count": 0,
      "outputs": [
        {
          "output_type": "execute_result",
          "data": {
            "text/plain": [
              "array([[0., 1., 0., 0.],\n",
              "       [0., 1., 0., 0.],\n",
              "       [0., 1., 0., 0.],\n",
              "       ...,\n",
              "       [0., 0., 0., 1.],\n",
              "       [0., 0., 0., 1.],\n",
              "       [0., 0., 0., 1.]])"
            ]
          },
          "metadata": {
            "tags": []
          },
          "execution_count": 44
        }
      ]
    },
    {
      "cell_type": "code",
      "metadata": {
        "id": "qEKpfvdhpBJ1",
        "colab_type": "code",
        "colab": {}
      },
      "source": [
        "x2 = x2.reshape(x2.shape[0], 150, 150, 1)"
      ],
      "execution_count": 0,
      "outputs": []
    },
    {
      "cell_type": "code",
      "metadata": {
        "id": "b1v312i4zwWg",
        "colab_type": "code",
        "outputId": "5619084e-ae35-4536-e709-c7abd5c97ca1",
        "colab": {
          "base_uri": "https://localhost:8080/",
          "height": 35
        }
      },
      "source": [
        "xTrainEmotionExtraData = np.append(xTrainEmotion,x2,axis=0)\n",
        "len(xTrainEmotionExtraData)"
      ],
      "execution_count": 0,
      "outputs": [
        {
          "output_type": "execute_result",
          "data": {
            "text/plain": [
              "4770"
            ]
          },
          "metadata": {
            "tags": []
          },
          "execution_count": 52
        }
      ]
    },
    {
      "cell_type": "code",
      "metadata": {
        "id": "1u2RtILSzRes",
        "colab_type": "code",
        "outputId": "f90ee78c-101b-4422-b328-238ceae9d6f8",
        "colab": {
          "base_uri": "https://localhost:8080/",
          "height": 35
        }
      },
      "source": [
        "yTrainEmotionExtraData = np.append(yTrainEmotion, extraYEmotion, axis=0)\n",
        "len(yTrainEmotionExtraData)"
      ],
      "execution_count": 0,
      "outputs": [
        {
          "output_type": "execute_result",
          "data": {
            "text/plain": [
              "4770"
            ]
          },
          "metadata": {
            "tags": []
          },
          "execution_count": 53
        }
      ]
    },
    {
      "cell_type": "code",
      "metadata": {
        "id": "VzdM0xIsz2k7",
        "colab_type": "code",
        "outputId": "04512162-cc3e-485f-db65-40cca11ce5f7",
        "colab": {
          "base_uri": "https://localhost:8080/",
          "height": 52
        }
      },
      "source": [
        "print(type(xTrainEmotionExtraData))\n",
        "print(type(yTrainEmotionExtraData))"
      ],
      "execution_count": 0,
      "outputs": [
        {
          "output_type": "stream",
          "text": [
            "<class 'numpy.ndarray'>\n",
            "<class 'numpy.ndarray'>\n"
          ],
          "name": "stdout"
        }
      ]
    },
    {
      "cell_type": "code",
      "metadata": {
        "id": "XgjrMMM4z2vs",
        "colab_type": "code",
        "colab": {}
      },
      "source": [
        "#Save updated train/test dataset as npy for subsequent use\n",
        "np.save('/content/gdrive/My Drive/Google_Collab/CNNModelsEmotion/xTrainEmotionExtraData.npy', xTrainEmotionExtraData)\n",
        "np.save('/content/gdrive/My Drive/Google_Collab/CNNModelsEmotion/xTestEmotion.npy', xTestEmotion)\n",
        "np.save('/content/gdrive/My Drive/Google_Collab/CNNModelsEmotion/yTrainEmotionExtraData.npy', yTrainEmotionExtraData)\n",
        "np.save('/content/gdrive/My Drive/Google_Collab/CNNModelsEmotion/yTestEmotion.npy', yTestEmotion)"
      ],
      "execution_count": 0,
      "outputs": []
    },
    {
      "cell_type": "code",
      "metadata": {
        "id": "Z-qdbfDhz2sd",
        "colab_type": "code",
        "outputId": "a2a7b68b-24e9-4989-fe5e-660be1989773",
        "colab": {
          "base_uri": "https://localhost:8080/",
          "height": 52
        }
      },
      "source": [
        "xTrainEmotionExtraData = np.load('/content/gdrive/My Drive/Google_Collab/CNNModelsEmotion/xTrainEmotionExtraData.npy')\n",
        "xTestEmotion = np.load('/content/gdrive/My Drive/Google_Collab/CNNModelsEmotion/xTestEmotion.npy')\n",
        "yTrainEmotionExtraData = np.load('/content/gdrive/My Drive/Google_Collab/CNNModelsEmotion/yTrainEmotionExtraData.npy')\n",
        "yTestEmotion = np.load('/content/gdrive/My Drive/Google_Collab/CNNModelsEmotion/yTestEmotion.npy')\n",
        "print(len(xTrainEmotionExtraData))\n",
        "print(type(xTrainEmotionExtraData))"
      ],
      "execution_count": 0,
      "outputs": [
        {
          "output_type": "stream",
          "text": [
            "4770\n",
            "<class 'numpy.ndarray'>\n"
          ],
          "name": "stdout"
        }
      ]
    },
    {
      "cell_type": "code",
      "metadata": {
        "id": "j1QQteACxUpE",
        "colab_type": "code",
        "outputId": "38a53933-c337-4ea9-ac68-401a655ac0e1",
        "colab": {
          "base_uri": "https://localhost:8080/",
          "height": 202
        }
      },
      "source": [
        "#Predicting gender\n",
        "targetDf['genderCat'] = targetDf['gender'].map(lambda x: 1 if x=='m' else 0)\n",
        "targetDf.head()"
      ],
      "execution_count": 0,
      "outputs": [
        {
          "output_type": "execute_result",
          "data": {
            "text/html": [
              "<div>\n",
              "<style scoped>\n",
              "    .dataframe tbody tr th:only-of-type {\n",
              "        vertical-align: middle;\n",
              "    }\n",
              "\n",
              "    .dataframe tbody tr th {\n",
              "        vertical-align: top;\n",
              "    }\n",
              "\n",
              "    .dataframe thead th {\n",
              "        text-align: right;\n",
              "    }\n",
              "</style>\n",
              "<table border=\"1\" class=\"dataframe\">\n",
              "  <thead>\n",
              "    <tr style=\"text-align: right;\">\n",
              "      <th></th>\n",
              "      <th>filename</th>\n",
              "      <th>name</th>\n",
              "      <th>gender</th>\n",
              "      <th>age</th>\n",
              "      <th>emotion</th>\n",
              "      <th>emotionCat</th>\n",
              "      <th>genderCat</th>\n",
              "    </tr>\n",
              "  </thead>\n",
              "  <tbody>\n",
              "    <tr>\n",
              "      <th>0</th>\n",
              "      <td>RehM_02280_f_25_o_fr_nc_no_2015_1_e0_nl_o.jpg</td>\n",
              "      <td>RehM</td>\n",
              "      <td>f</td>\n",
              "      <td>25</td>\n",
              "      <td>no</td>\n",
              "      <td>1</td>\n",
              "      <td>0</td>\n",
              "    </tr>\n",
              "    <tr>\n",
              "      <th>1</th>\n",
              "      <td>HedA_00835_m_46_o_fr_nc_no_2016_1_e0_nl_o.jpg</td>\n",
              "      <td>HedA</td>\n",
              "      <td>m</td>\n",
              "      <td>46</td>\n",
              "      <td>no</td>\n",
              "      <td>1</td>\n",
              "      <td>1</td>\n",
              "    </tr>\n",
              "    <tr>\n",
              "      <th>2</th>\n",
              "      <td>HedA_00831_m_45_o_fr_nc_no_2015_1_e0_nl_o.jpg</td>\n",
              "      <td>HedA</td>\n",
              "      <td>m</td>\n",
              "      <td>45</td>\n",
              "      <td>no</td>\n",
              "      <td>1</td>\n",
              "      <td>1</td>\n",
              "    </tr>\n",
              "    <tr>\n",
              "      <th>3</th>\n",
              "      <td>HedA_00834_m_45_o_fr_nc_no_2015_1_e0_nl_o.jpg</td>\n",
              "      <td>HedA</td>\n",
              "      <td>m</td>\n",
              "      <td>45</td>\n",
              "      <td>no</td>\n",
              "      <td>1</td>\n",
              "      <td>1</td>\n",
              "    </tr>\n",
              "    <tr>\n",
              "      <th>4</th>\n",
              "      <td>ZenH_02662_f_24_o_nf_nc_no_2014_1_e0_nl_o.jpg</td>\n",
              "      <td>ZenH</td>\n",
              "      <td>f</td>\n",
              "      <td>24</td>\n",
              "      <td>no</td>\n",
              "      <td>1</td>\n",
              "      <td>0</td>\n",
              "    </tr>\n",
              "  </tbody>\n",
              "</table>\n",
              "</div>"
            ],
            "text/plain": [
              "                                        filename  name  ... emotionCat genderCat\n",
              "0  RehM_02280_f_25_o_fr_nc_no_2015_1_e0_nl_o.jpg  RehM  ...          1         0\n",
              "1  HedA_00835_m_46_o_fr_nc_no_2016_1_e0_nl_o.jpg  HedA  ...          1         1\n",
              "2  HedA_00831_m_45_o_fr_nc_no_2015_1_e0_nl_o.jpg  HedA  ...          1         1\n",
              "3  HedA_00834_m_45_o_fr_nc_no_2015_1_e0_nl_o.jpg  HedA  ...          1         1\n",
              "4  ZenH_02662_f_24_o_nf_nc_no_2014_1_e0_nl_o.jpg  ZenH  ...          1         0\n",
              "\n",
              "[5 rows x 7 columns]"
            ]
          },
          "metadata": {
            "tags": []
          },
          "execution_count": 57
        }
      ]
    },
    {
      "cell_type": "code",
      "metadata": {
        "id": "XPrgqrztIPpp",
        "colab_type": "code",
        "outputId": "9b7c5c4d-5345-40bf-8ca9-ca68541dde10",
        "colab": {
          "base_uri": "https://localhost:8080/",
          "height": 121
        }
      },
      "source": [
        "print(targetDf['gender'].value_counts())\n",
        "print(targetDf['genderCat'].value_counts(normalize=True))"
      ],
      "execution_count": 0,
      "outputs": [
        {
          "output_type": "stream",
          "text": [
            "m    2488\n",
            "f    1524\n",
            "Name: gender, dtype: int64\n",
            "1    0.62014\n",
            "0    0.37986\n",
            "Name: genderCat, dtype: float64\n"
          ],
          "name": "stdout"
        }
      ]
    },
    {
      "cell_type": "code",
      "metadata": {
        "id": "5KvVzPz5IPuv",
        "colab_type": "code",
        "outputId": "b9fef7c5-a381-413f-df68-628150614ae1",
        "colab": {
          "base_uri": "https://localhost:8080/",
          "height": 35
        }
      },
      "source": [
        "yGender = targetDf['genderCat']\n",
        "yGender.shape"
      ],
      "execution_count": 0,
      "outputs": [
        {
          "output_type": "execute_result",
          "data": {
            "text/plain": [
              "(4012,)"
            ]
          },
          "metadata": {
            "tags": []
          },
          "execution_count": 59
        }
      ]
    },
    {
      "cell_type": "code",
      "metadata": {
        "id": "yDH3AllFIQBh",
        "colab_type": "code",
        "colab": {}
      },
      "source": [
        "#Stratify gender dataset similarly to the emotion dataset previously, to ensure same test set for each model\n",
        "xTrainGender, xTestGender, yTrainGender, yTestGender = train_test_split(x, \n",
        "                                                                        yGender, \n",
        "                                                                        train_size=0.7, \n",
        "                                                                        random_state=42, \n",
        "                                                                        stratify=yEmotion)"
      ],
      "execution_count": 0,
      "outputs": []
    },
    {
      "cell_type": "code",
      "metadata": {
        "id": "62d7lKJLrMYX",
        "colab_type": "code",
        "colab": {}
      },
      "source": [
        "xTrainGender = xTrainGender.reshape(xTrainGender.shape[0], 150, 150, 1)\n",
        "xTestGender = xTestGender.reshape(xTestGender.shape[0], 150, 150, 1)"
      ],
      "execution_count": 0,
      "outputs": []
    },
    {
      "cell_type": "code",
      "metadata": {
        "id": "8pdD_z-FN-xV",
        "colab_type": "code",
        "outputId": "6306f559-2bda-4666-e2bb-1b8eaffa6cb1",
        "colab": {
          "base_uri": "https://localhost:8080/",
          "height": 35
        }
      },
      "source": [
        "print (np.all(xTestGender == xTestEmotion))"
      ],
      "execution_count": 0,
      "outputs": [
        {
          "output_type": "stream",
          "text": [
            "True\n"
          ],
          "name": "stdout"
        }
      ]
    },
    {
      "cell_type": "code",
      "metadata": {
        "id": "kuxd2wVcN70r",
        "colab_type": "code",
        "outputId": "5c47b8a3-c362-49ef-ffa8-6a287b31e07c",
        "colab": {
          "base_uri": "https://localhost:8080/",
          "height": 173
        }
      },
      "source": [
        "yTrainGender.describe()"
      ],
      "execution_count": 0,
      "outputs": [
        {
          "output_type": "execute_result",
          "data": {
            "text/plain": [
              "count    2808.000000\n",
              "mean        0.624644\n",
              "std         0.484301\n",
              "min         0.000000\n",
              "25%         0.000000\n",
              "50%         1.000000\n",
              "75%         1.000000\n",
              "max         1.000000\n",
              "Name: genderCat, dtype: float64"
            ]
          },
          "metadata": {
            "tags": []
          },
          "execution_count": 70
        }
      ]
    },
    {
      "cell_type": "code",
      "metadata": {
        "id": "eqrCNa0IN8vw",
        "colab_type": "code",
        "outputId": "5a992b67-5431-4391-80f4-72054cb74a3e",
        "colab": {
          "base_uri": "https://localhost:8080/",
          "height": 173
        }
      },
      "source": [
        "yTestGender.describe()"
      ],
      "execution_count": 0,
      "outputs": [
        {
          "output_type": "execute_result",
          "data": {
            "text/plain": [
              "count    1204.000000\n",
              "mean        0.609635\n",
              "std         0.488035\n",
              "min         0.000000\n",
              "25%         0.000000\n",
              "50%         1.000000\n",
              "75%         1.000000\n",
              "max         1.000000\n",
              "Name: genderCat, dtype: float64"
            ]
          },
          "metadata": {
            "tags": []
          },
          "execution_count": 71
        }
      ]
    },
    {
      "cell_type": "code",
      "metadata": {
        "id": "MGdW85LdOJmq",
        "colab_type": "code",
        "colab": {}
      },
      "source": [
        "#Save train/test gender dataset for ease of future use\n",
        "np.save('/content/gdrive/My Drive/Google_Collab/CNNModelsGender/xTrainGender.npy', xTrainGender)\n",
        "np.save('/content/gdrive/My Drive/Google_Collab/CNNModelsGender/xTestGender.npy', xTestGender)\n",
        "np.save('/content/gdrive/My Drive/Google_Collab/CNNModelsGender/yTrainGender.npy', yTrainGender)\n",
        "np.save('/content/gdrive/My Drive/Google_Collab/CNNModelsGender/yTestGender.npy', yTestGender)"
      ],
      "execution_count": 0,
      "outputs": []
    },
    {
      "cell_type": "code",
      "metadata": {
        "id": "mkrCbXUkOaQS",
        "colab_type": "code",
        "colab": {}
      },
      "source": [
        "xTrainGender = np.load('/content/gdrive/My Drive/Google_Collab/CNNModelsGender/xTrainGender.npy')\n",
        "xTestGender = np.load('/content/gdrive/My Drive/Google_Collab/CNNModelsGender/xTestGender.npy')\n",
        "yTrainGender = np.load('/content/gdrive/My Drive/Google_Collab/CNNModelsGender/yTrainGender.npy')\n",
        "yTestGender = np.load('/content/gdrive/My Drive/Google_Collab/CNNModelsGender/yTestGender.npy')"
      ],
      "execution_count": 0,
      "outputs": []
    },
    {
      "cell_type": "code",
      "metadata": {
        "id": "iAX_W87UOAui",
        "colab_type": "code",
        "outputId": "828ffdc0-8997-4ee7-b4cc-8af752603e46",
        "colab": {
          "base_uri": "https://localhost:8080/",
          "height": 104
        }
      },
      "source": [
        "#Predicting age\n",
        "targetDf['age'].describe()"
      ],
      "execution_count": 0,
      "outputs": [
        {
          "output_type": "execute_result",
          "data": {
            "text/plain": [
              "count     4012\n",
              "unique      41\n",
              "top         20\n",
              "freq      1216\n",
              "Name: age, dtype: object"
            ]
          },
          "metadata": {
            "tags": []
          },
          "execution_count": 74
        }
      ]
    },
    {
      "cell_type": "code",
      "metadata": {
        "id": "xs0sMRrkOAqF",
        "colab_type": "code",
        "outputId": "e2928c8b-d0a0-4aa2-c273-fe6fe50ee95b",
        "colab": {
          "base_uri": "https://localhost:8080/",
          "height": 35
        }
      },
      "source": [
        "yAge = targetDf['age']\n",
        "yAge.shape"
      ],
      "execution_count": 0,
      "outputs": [
        {
          "output_type": "execute_result",
          "data": {
            "text/plain": [
              "(4012,)"
            ]
          },
          "metadata": {
            "tags": []
          },
          "execution_count": 75
        }
      ]
    },
    {
      "cell_type": "code",
      "metadata": {
        "id": "urnlP94SOAkt",
        "colab_type": "code",
        "colab": {}
      },
      "source": [
        "#Similarly, stratify age dataset by yEmotion, to ensure same test set for each model\n",
        "xTrainAge, xTestAge, yTrainAge, yTestAge = train_test_split(x, \n",
        "                                                            yAge, \n",
        "                                                            train_size=0.7, \n",
        "                                                            random_state=42, \n",
        "                                                            stratify=yEmotion)"
      ],
      "execution_count": 0,
      "outputs": []
    },
    {
      "cell_type": "code",
      "metadata": {
        "id": "R_l-XIm5rmTB",
        "colab_type": "code",
        "colab": {}
      },
      "source": [
        "xTrainAge = xTrainAge.reshape(xTrainAge.shape[0], 150, 150, 1)\n",
        "xTestAge = xTestAge.reshape(xTestAge.shape[0], 150, 150, 1)"
      ],
      "execution_count": 0,
      "outputs": []
    },
    {
      "cell_type": "code",
      "metadata": {
        "id": "YiyAMxXGOAiS",
        "colab_type": "code",
        "outputId": "9cc5d388-4967-4dfc-f89e-94ba4e4ae44e",
        "colab": {
          "base_uri": "https://localhost:8080/",
          "height": 35
        }
      },
      "source": [
        "print (np.all(xTestAge == xTestEmotion))"
      ],
      "execution_count": 0,
      "outputs": [
        {
          "output_type": "stream",
          "text": [
            "True\n"
          ],
          "name": "stdout"
        }
      ]
    },
    {
      "cell_type": "code",
      "metadata": {
        "id": "705cyYeGOo5B",
        "colab_type": "code",
        "outputId": "6ef9433f-b4fb-46ef-8f3d-5d9d3c5c1ea3",
        "colab": {
          "base_uri": "https://localhost:8080/",
          "height": 104
        }
      },
      "source": [
        "yTrainAge.describe()"
      ],
      "execution_count": 0,
      "outputs": [
        {
          "output_type": "execute_result",
          "data": {
            "text/plain": [
              "count     2808\n",
              "unique      40\n",
              "top         20\n",
              "freq       839\n",
              "Name: age, dtype: object"
            ]
          },
          "metadata": {
            "tags": []
          },
          "execution_count": 87
        }
      ]
    },
    {
      "cell_type": "code",
      "metadata": {
        "id": "TxQfCgK7Oo3B",
        "colab_type": "code",
        "outputId": "7c787164-38e5-4fb8-bbfb-cd2dbaf37d04",
        "colab": {
          "base_uri": "https://localhost:8080/",
          "height": 104
        }
      },
      "source": [
        "yTestAge.describe()"
      ],
      "execution_count": 0,
      "outputs": [
        {
          "output_type": "execute_result",
          "data": {
            "text/plain": [
              "count     1204\n",
              "unique      39\n",
              "top         20\n",
              "freq       377\n",
              "Name: age, dtype: object"
            ]
          },
          "metadata": {
            "tags": []
          },
          "execution_count": 88
        }
      ]
    },
    {
      "cell_type": "code",
      "metadata": {
        "id": "iv4zhMdgOo0j",
        "colab_type": "code",
        "colab": {}
      },
      "source": [
        "#Save train/test age dataset for ease of future use\n",
        "np.save('/content/gdrive/My Drive/Google_Collab/CNNModelsAge/xTrainAge.npy', xTrainAge)\n",
        "np.save('/content/gdrive/My Drive/Google_Collab/CNNModelsAge/xTestAge.npy', xTestAge)\n",
        "np.save('/content/gdrive/My Drive/Google_Collab/CNNModelsAge/yTrainAge.npy', yTrainAge)\n",
        "np.save('/content/gdrive/My Drive/Google_Collab/CNNModelsAge/yTestAge.npy', yTestAge)"
      ],
      "execution_count": 0,
      "outputs": []
    },
    {
      "cell_type": "code",
      "metadata": {
        "id": "Fp1RbCW5OAfX",
        "colab_type": "code",
        "colab": {}
      },
      "source": [
        "xTrainAge = np.load('/content/gdrive/My Drive/Google_Collab/CNNModelsAge/xTrainAge.npy', allow_pickle=True)\n",
        "xTestAge = np.load('/content/gdrive/My Drive/Google_Collab/CNNModelsAge/xTestAge.npy', allow_pickle=True)\n",
        "yTrainAge = np.load('/content/gdrive/My Drive/Google_Collab/CNNModelsAge/yTrainAge.npy', allow_pickle=True)\n",
        "yTestAge = np.load('/content/gdrive/My Drive/Google_Collab/CNNModelsAge/yTestAge.npy', allow_pickle=True)"
      ],
      "execution_count": 0,
      "outputs": []
    },
    {
      "cell_type": "code",
      "metadata": {
        "id": "0sB74oySsxow",
        "colab_type": "code",
        "colab": {}
      },
      "source": [
        ""
      ],
      "execution_count": 0,
      "outputs": []
    }
  ]
}